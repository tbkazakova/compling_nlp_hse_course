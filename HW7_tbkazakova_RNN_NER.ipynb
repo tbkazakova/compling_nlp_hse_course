{
  "cells": [
    {
      "cell_type": "markdown",
      "source": [
        "- модель с 1 GRU слоем;\n",
        "- модель с 1 LSTM слоем\n",
        "- модель с 1 GRU и 1 LSTM слоем\n",
        "- модель с 1 BIGRU и 2 LSTM слоями\n",
        "- модель с 5 GRU слоями и 3 LSTM слоями\n",
        "- модель 1 BIGRU и 1 BILSTM слоями, причем так чтобы модели для forward и backward прохода отличались\n",
        "- модель, где последовательно идут слои: LSTM, GRU, BILSTM, BIGRU, GRU, LSTM\n",
        "\n",
        "\n"
      ],
      "metadata": {
        "id": "wfCJ6UIAHpzH"
      }
    },
    {
      "cell_type": "code",
      "execution_count": 1,
      "metadata": {
        "scrolled": true,
        "id": "6vg_uLNAF6Za",
        "outputId": "d021a67b-213f-483f-8911-3f9964de9956",
        "colab": {
          "base_uri": "https://localhost:8080/"
        }
      },
      "outputs": [
        {
          "output_type": "stream",
          "name": "stdout",
          "text": [
            "Looking in indexes: https://pypi.org/simple, https://us-python.pkg.dev/colab-wheels/public/simple/\n",
            "Requirement already satisfied: pandas in /usr/local/lib/python3.10/dist-packages (1.5.3)\n",
            "Requirement already satisfied: python-dateutil>=2.8.1 in /usr/local/lib/python3.10/dist-packages (from pandas) (2.8.2)\n",
            "Requirement already satisfied: pytz>=2020.1 in /usr/local/lib/python3.10/dist-packages (from pandas) (2022.7.1)\n",
            "Requirement already satisfied: numpy>=1.21.0 in /usr/local/lib/python3.10/dist-packages (from pandas) (1.22.4)\n",
            "Requirement already satisfied: six>=1.5 in /usr/local/lib/python3.10/dist-packages (from python-dateutil>=2.8.1->pandas) (1.16.0)\n"
          ]
        }
      ],
      "source": [
        "!pip install pandas"
      ]
    },
    {
      "cell_type": "code",
      "source": [
        "! pip install matplotlib"
      ],
      "metadata": {
        "id": "4SszCqk-GA-w",
        "colab": {
          "base_uri": "https://localhost:8080/"
        },
        "outputId": "849c7b42-8318-42ef-ca71-a4d4a2d393c1"
      },
      "execution_count": 2,
      "outputs": [
        {
          "output_type": "stream",
          "name": "stdout",
          "text": [
            "Looking in indexes: https://pypi.org/simple, https://us-python.pkg.dev/colab-wheels/public/simple/\n",
            "Requirement already satisfied: matplotlib in /usr/local/lib/python3.10/dist-packages (3.7.1)\n",
            "Requirement already satisfied: contourpy>=1.0.1 in /usr/local/lib/python3.10/dist-packages (from matplotlib) (1.1.0)\n",
            "Requirement already satisfied: cycler>=0.10 in /usr/local/lib/python3.10/dist-packages (from matplotlib) (0.11.0)\n",
            "Requirement already satisfied: fonttools>=4.22.0 in /usr/local/lib/python3.10/dist-packages (from matplotlib) (4.40.0)\n",
            "Requirement already satisfied: kiwisolver>=1.0.1 in /usr/local/lib/python3.10/dist-packages (from matplotlib) (1.4.4)\n",
            "Requirement already satisfied: numpy>=1.20 in /usr/local/lib/python3.10/dist-packages (from matplotlib) (1.22.4)\n",
            "Requirement already satisfied: packaging>=20.0 in /usr/local/lib/python3.10/dist-packages (from matplotlib) (23.1)\n",
            "Requirement already satisfied: pillow>=6.2.0 in /usr/local/lib/python3.10/dist-packages (from matplotlib) (8.4.0)\n",
            "Requirement already satisfied: pyparsing>=2.3.1 in /usr/local/lib/python3.10/dist-packages (from matplotlib) (3.1.0)\n",
            "Requirement already satisfied: python-dateutil>=2.7 in /usr/local/lib/python3.10/dist-packages (from matplotlib) (2.8.2)\n",
            "Requirement already satisfied: six>=1.5 in /usr/local/lib/python3.10/dist-packages (from python-dateutil>=2.7->matplotlib) (1.16.0)\n"
          ]
        }
      ]
    },
    {
      "cell_type": "markdown",
      "metadata": {
        "id": "MnHFIMifF6Zf"
      },
      "source": [
        "## Классификация текста с помощью RNN"
      ]
    },
    {
      "cell_type": "code",
      "execution_count": 3,
      "metadata": {
        "id": "pMWTQfNbF6Zk"
      },
      "outputs": [],
      "source": [
        "import tensorflow as tf"
      ]
    },
    {
      "cell_type": "code",
      "execution_count": 4,
      "metadata": {
        "id": "BDXftC3pF6Zk"
      },
      "outputs": [],
      "source": [
        "import pandas as pd\n",
        "import numpy as np\n",
        "from string import punctuation\n",
        "from sklearn.model_selection import train_test_split\n",
        "from collections import Counter\n",
        "from IPython.display import Image\n",
        "from IPython.core.display import HTML\n",
        "import matplotlib.pyplot as plt\n",
        "%matplotlib inline"
      ]
    },
    {
      "cell_type": "code",
      "source": [
        "from google.colab import drive\n",
        "drive.mount('/content/drive')"
      ],
      "metadata": {
        "id": "QZyB_b9NGWqe",
        "colab": {
          "base_uri": "https://localhost:8080/"
        },
        "outputId": "bfaaecfa-3aa3-4e71-91b9-f9cfa82d0e1a"
      },
      "execution_count": 5,
      "outputs": [
        {
          "output_type": "stream",
          "name": "stdout",
          "text": [
            "Mounted at /content/drive\n"
          ]
        }
      ]
    },
    {
      "cell_type": "code",
      "execution_count": 6,
      "metadata": {
        "id": "Hr4kMG_kF6Zl"
      },
      "outputs": [],
      "source": [
        "data = pd.read_csv('/content/drive/MyDrive/ВШЭ/Магистратура/NLP/lenta_40k.csv')"
      ]
    },
    {
      "cell_type": "code",
      "execution_count": 7,
      "metadata": {
        "id": "VM4ECRSvF6Zm",
        "outputId": "36101bf7-2c1b-4c6e-fa43-13c1a6e7b499",
        "colab": {
          "base_uri": "https://localhost:8080/",
          "height": 206
        }
      },
      "outputs": [
        {
          "output_type": "execute_result",
          "data": {
            "text/plain": [
              "                                                text           topic\n",
              "0  Россия должна сотрудничать с Всемирным антидоп...           Спорт\n",
              "1  Уголовный суд Кувейта 28 июня освободил под за...             Мир\n",
              "2  Французский журнал Charlie Hebdo опубликовал н...  Интернет и СМИ\n",
              "3  В Петербурге в доме № 53 по улице Лени Голиков...          Россия\n",
              "4  В московском аэропорту \"Домодедово\" задержан г...          Россия"
            ],
            "text/html": [
              "\n",
              "  <div id=\"df-6b6e9b53-b8f1-4067-bbb8-73b676ff7e46\">\n",
              "    <div class=\"colab-df-container\">\n",
              "      <div>\n",
              "<style scoped>\n",
              "    .dataframe tbody tr th:only-of-type {\n",
              "        vertical-align: middle;\n",
              "    }\n",
              "\n",
              "    .dataframe tbody tr th {\n",
              "        vertical-align: top;\n",
              "    }\n",
              "\n",
              "    .dataframe thead th {\n",
              "        text-align: right;\n",
              "    }\n",
              "</style>\n",
              "<table border=\"1\" class=\"dataframe\">\n",
              "  <thead>\n",
              "    <tr style=\"text-align: right;\">\n",
              "      <th></th>\n",
              "      <th>text</th>\n",
              "      <th>topic</th>\n",
              "    </tr>\n",
              "  </thead>\n",
              "  <tbody>\n",
              "    <tr>\n",
              "      <th>0</th>\n",
              "      <td>Россия должна сотрудничать с Всемирным антидоп...</td>\n",
              "      <td>Спорт</td>\n",
              "    </tr>\n",
              "    <tr>\n",
              "      <th>1</th>\n",
              "      <td>Уголовный суд Кувейта 28 июня освободил под за...</td>\n",
              "      <td>Мир</td>\n",
              "    </tr>\n",
              "    <tr>\n",
              "      <th>2</th>\n",
              "      <td>Французский журнал Charlie Hebdo опубликовал н...</td>\n",
              "      <td>Интернет и СМИ</td>\n",
              "    </tr>\n",
              "    <tr>\n",
              "      <th>3</th>\n",
              "      <td>В Петербурге в доме № 53 по улице Лени Голиков...</td>\n",
              "      <td>Россия</td>\n",
              "    </tr>\n",
              "    <tr>\n",
              "      <th>4</th>\n",
              "      <td>В московском аэропорту \"Домодедово\" задержан г...</td>\n",
              "      <td>Россия</td>\n",
              "    </tr>\n",
              "  </tbody>\n",
              "</table>\n",
              "</div>\n",
              "      <button class=\"colab-df-convert\" onclick=\"convertToInteractive('df-6b6e9b53-b8f1-4067-bbb8-73b676ff7e46')\"\n",
              "              title=\"Convert this dataframe to an interactive table.\"\n",
              "              style=\"display:none;\">\n",
              "        \n",
              "  <svg xmlns=\"http://www.w3.org/2000/svg\" height=\"24px\"viewBox=\"0 0 24 24\"\n",
              "       width=\"24px\">\n",
              "    <path d=\"M0 0h24v24H0V0z\" fill=\"none\"/>\n",
              "    <path d=\"M18.56 5.44l.94 2.06.94-2.06 2.06-.94-2.06-.94-.94-2.06-.94 2.06-2.06.94zm-11 1L8.5 8.5l.94-2.06 2.06-.94-2.06-.94L8.5 2.5l-.94 2.06-2.06.94zm10 10l.94 2.06.94-2.06 2.06-.94-2.06-.94-.94-2.06-.94 2.06-2.06.94z\"/><path d=\"M17.41 7.96l-1.37-1.37c-.4-.4-.92-.59-1.43-.59-.52 0-1.04.2-1.43.59L10.3 9.45l-7.72 7.72c-.78.78-.78 2.05 0 2.83L4 21.41c.39.39.9.59 1.41.59.51 0 1.02-.2 1.41-.59l7.78-7.78 2.81-2.81c.8-.78.8-2.07 0-2.86zM5.41 20L4 18.59l7.72-7.72 1.47 1.35L5.41 20z\"/>\n",
              "  </svg>\n",
              "      </button>\n",
              "      \n",
              "  <style>\n",
              "    .colab-df-container {\n",
              "      display:flex;\n",
              "      flex-wrap:wrap;\n",
              "      gap: 12px;\n",
              "    }\n",
              "\n",
              "    .colab-df-convert {\n",
              "      background-color: #E8F0FE;\n",
              "      border: none;\n",
              "      border-radius: 50%;\n",
              "      cursor: pointer;\n",
              "      display: none;\n",
              "      fill: #1967D2;\n",
              "      height: 32px;\n",
              "      padding: 0 0 0 0;\n",
              "      width: 32px;\n",
              "    }\n",
              "\n",
              "    .colab-df-convert:hover {\n",
              "      background-color: #E2EBFA;\n",
              "      box-shadow: 0px 1px 2px rgba(60, 64, 67, 0.3), 0px 1px 3px 1px rgba(60, 64, 67, 0.15);\n",
              "      fill: #174EA6;\n",
              "    }\n",
              "\n",
              "    [theme=dark] .colab-df-convert {\n",
              "      background-color: #3B4455;\n",
              "      fill: #D2E3FC;\n",
              "    }\n",
              "\n",
              "    [theme=dark] .colab-df-convert:hover {\n",
              "      background-color: #434B5C;\n",
              "      box-shadow: 0px 1px 3px 1px rgba(0, 0, 0, 0.15);\n",
              "      filter: drop-shadow(0px 1px 2px rgba(0, 0, 0, 0.3));\n",
              "      fill: #FFFFFF;\n",
              "    }\n",
              "  </style>\n",
              "\n",
              "      <script>\n",
              "        const buttonEl =\n",
              "          document.querySelector('#df-6b6e9b53-b8f1-4067-bbb8-73b676ff7e46 button.colab-df-convert');\n",
              "        buttonEl.style.display =\n",
              "          google.colab.kernel.accessAllowed ? 'block' : 'none';\n",
              "\n",
              "        async function convertToInteractive(key) {\n",
              "          const element = document.querySelector('#df-6b6e9b53-b8f1-4067-bbb8-73b676ff7e46');\n",
              "          const dataTable =\n",
              "            await google.colab.kernel.invokeFunction('convertToInteractive',\n",
              "                                                     [key], {});\n",
              "          if (!dataTable) return;\n",
              "\n",
              "          const docLinkHtml = 'Like what you see? Visit the ' +\n",
              "            '<a target=\"_blank\" href=https://colab.research.google.com/notebooks/data_table.ipynb>data table notebook</a>'\n",
              "            + ' to learn more about interactive tables.';\n",
              "          element.innerHTML = '';\n",
              "          dataTable['output_type'] = 'display_data';\n",
              "          await google.colab.output.renderOutput(dataTable, element);\n",
              "          const docLink = document.createElement('div');\n",
              "          docLink.innerHTML = docLinkHtml;\n",
              "          element.appendChild(docLink);\n",
              "        }\n",
              "      </script>\n",
              "    </div>\n",
              "  </div>\n",
              "  "
            ]
          },
          "metadata": {},
          "execution_count": 7
        }
      ],
      "source": [
        "data.head(5)"
      ]
    },
    {
      "cell_type": "code",
      "execution_count": 8,
      "metadata": {
        "id": "3DhKKUzpF6Zm",
        "outputId": "2a103da4-772c-47a2-c487-6be7fafeed0e",
        "colab": {
          "base_uri": "https://localhost:8080/"
        }
      },
      "outputs": [
        {
          "output_type": "execute_result",
          "data": {
            "text/plain": [
              "array(['Спорт', 'Мир', 'Интернет и СМИ', 'Россия', 'Наука и техника',\n",
              "       'Силовые структуры', 'Бывший СССР', 'Культура', 'Экономика',\n",
              "       'Ценности', 'Из жизни', 'Дом', 'Бизнес', '69-я параллель', 'Крым',\n",
              "       'Путешествия', 'Культпросвет ', 'Легпром', 'Библиотека'],\n",
              "      dtype=object)"
            ]
          },
          "metadata": {},
          "execution_count": 8
        }
      ],
      "source": [
        "data.topic.unique()"
      ]
    },
    {
      "cell_type": "markdown",
      "metadata": {
        "id": "MPvBWpiAF6Zm"
      },
      "source": [
        "Предобработка нам тут особо не важна."
      ]
    },
    {
      "cell_type": "code",
      "execution_count": 9,
      "metadata": {
        "id": "ldJz7PZqF6Zn"
      },
      "outputs": [],
      "source": [
        "def preprocess(text):\n",
        "    tokens = text.lower().split()\n",
        "    tokens = [token.strip(punctuation) for token in tokens]\n",
        "    return tokens"
      ]
    },
    {
      "cell_type": "markdown",
      "metadata": {
        "id": "s9OqpIgyF6Zn"
      },
      "source": [
        "В tf есть много встроенны метрик, но нет f1 меры. Можно воспользоваться вот такой функцией, взятой со stackoverflow"
      ]
    },
    {
      "cell_type": "code",
      "execution_count": 10,
      "metadata": {
        "id": "VG-RUWgzF6Zn"
      },
      "outputs": [],
      "source": [
        "from tensorflow.keras import backend as K\n",
        "def f1(y_true, y_pred):\n",
        "    def recall(y_true, y_pred):\n",
        "        \"\"\"Recall metric.\n",
        "\n",
        "        Only computes a batch-wise average of recall.\n",
        "\n",
        "        Computes the recall, a metric for multi-label classification of\n",
        "        how many relevant items are selected.\n",
        "        \"\"\"\n",
        "        true_positives = K.sum(K.round(K.clip(y_true * y_pred, 0, 1)))\n",
        "        possible_positives = K.sum(K.round(K.clip(y_true, 0, 1)))\n",
        "        recall = true_positives / (possible_positives + K.epsilon())\n",
        "        return recall\n",
        "\n",
        "    def precision(y_true, y_pred):\n",
        "        \"\"\"Precision metric.\n",
        "\n",
        "        Only computes a batch-wise average of precision.\n",
        "\n",
        "        Computes the precision, a metric for multi-label classification of\n",
        "        how many selected items are relevant.\n",
        "        \"\"\"\n",
        "        true_positives = K.sum(K.round(K.clip(y_true * y_pred, 0, 1)))\n",
        "        predicted_positives = K.sum(K.round(K.clip(y_pred, 0, 1)))\n",
        "        precision = true_positives / (predicted_positives + K.epsilon())\n",
        "        return precision\n",
        "    precision = precision(y_true, y_pred)\n",
        "    recall = recall(y_true, y_pred)\n",
        "    return 2*((precision*recall)/(precision+recall+K.epsilon()))"
      ]
    },
    {
      "cell_type": "markdown",
      "metadata": {
        "id": "yJNlSJCvF6Zn"
      },
      "source": [
        "Как и раньше, создаем словарь, фильтруем, чтобы он был адекватного размера и переводим токены в индексы"
      ]
    },
    {
      "cell_type": "code",
      "execution_count": 11,
      "metadata": {
        "id": "5pf82JpMF6Zo"
      },
      "outputs": [],
      "source": [
        "# словарь\n",
        "vocab = Counter()\n",
        "\n",
        "for text in data.text:\n",
        "    vocab.update(preprocess(text))"
      ]
    },
    {
      "cell_type": "code",
      "execution_count": 12,
      "metadata": {
        "id": "v2E6lb_PF6Zo",
        "outputId": "ec8f0583-2678-4086-e4c9-8897efdb915f",
        "colab": {
          "base_uri": "https://localhost:8080/"
        }
      },
      "outputs": [
        {
          "output_type": "execute_result",
          "data": {
            "text/plain": [
              "354611"
            ]
          },
          "metadata": {},
          "execution_count": 12
        }
      ],
      "source": [
        "len(vocab)"
      ]
    },
    {
      "cell_type": "code",
      "execution_count": 13,
      "metadata": {
        "id": "MZhJ5-QYF6Zo"
      },
      "outputs": [],
      "source": [
        "# отфильтрованный словарь\n",
        "filtered_vocab = set()\n",
        "\n",
        "for word in vocab:\n",
        "    if vocab[word] > 30:\n",
        "        filtered_vocab.add(word)"
      ]
    },
    {
      "cell_type": "code",
      "execution_count": 14,
      "metadata": {
        "id": "gKTh5QAzF6Zp",
        "outputId": "3fc2f703-48f8-4bf6-9111-0cded553a7c5",
        "colab": {
          "base_uri": "https://localhost:8080/"
        }
      },
      "outputs": [
        {
          "output_type": "execute_result",
          "data": {
            "text/plain": [
              "24091"
            ]
          },
          "metadata": {},
          "execution_count": 14
        }
      ],
      "source": [
        "len(filtered_vocab)"
      ]
    },
    {
      "cell_type": "code",
      "execution_count": 15,
      "metadata": {
        "id": "uWCYfeISF6Zp"
      },
      "outputs": [],
      "source": [
        "# индексируем слова\n",
        "word2id = {'PAD':0, 'UNK':1}\n",
        "\n",
        "for word in filtered_vocab:\n",
        "    word2id[word] = len(word2id)"
      ]
    },
    {
      "cell_type": "code",
      "execution_count": 16,
      "metadata": {
        "id": "xPXmAqQqF6Zp"
      },
      "outputs": [],
      "source": [
        "id2word = {i:word for word, i in word2id.items()}"
      ]
    },
    {
      "cell_type": "code",
      "execution_count": 17,
      "metadata": {
        "id": "c_Cn8UuAF6Zp"
      },
      "outputs": [],
      "source": [
        "# переводим тексты в последовательности индексов\n",
        "X = []\n",
        "\n",
        "for text in data.text:\n",
        "    tokens = preprocess(text)\n",
        "    ids = [word2id.get(token, 1) for token in tokens]\n",
        "    X.append(ids)"
      ]
    },
    {
      "cell_type": "code",
      "execution_count": 18,
      "metadata": {
        "id": "GZo_6nmmF6Zq"
      },
      "outputs": [],
      "source": [
        "MEAN_LEN = np.median([len(x) for x in X])"
      ]
    },
    {
      "cell_type": "code",
      "execution_count": 19,
      "metadata": {
        "id": "zwHW0Do1F6Zr"
      },
      "outputs": [],
      "source": [
        "MAX_LEN = int(MEAN_LEN + 30)"
      ]
    },
    {
      "cell_type": "code",
      "execution_count": 20,
      "metadata": {
        "id": "I4NGdl20F6Zr"
      },
      "outputs": [],
      "source": [
        "# паддинг\n",
        "X = tf.keras.preprocessing.sequence.pad_sequences(X, maxlen=MAX_LEN)"
      ]
    },
    {
      "cell_type": "code",
      "execution_count": 21,
      "metadata": {
        "id": "s1CnArm_F6Zr",
        "outputId": "fcd228bd-d02e-4f04-9ac9-0f9615536451",
        "colab": {
          "base_uri": "https://localhost:8080/"
        }
      },
      "outputs": [
        {
          "output_type": "execute_result",
          "data": {
            "text/plain": [
              "(44356, 200)"
            ]
          },
          "metadata": {},
          "execution_count": 21
        }
      ],
      "source": [
        "X.shape"
      ]
    },
    {
      "cell_type": "code",
      "execution_count": 22,
      "metadata": {
        "id": "mLJkoqrvF6Zr"
      },
      "outputs": [],
      "source": [
        "id2label = {i:label for i, label in enumerate(set(data.topic.values))}\n",
        "label2id = {l:i for i, l in id2label.items()}"
      ]
    },
    {
      "cell_type": "code",
      "execution_count": 23,
      "metadata": {
        "id": "CXRy80qrF6Zs"
      },
      "outputs": [],
      "source": [
        "y = tf.keras.utils.to_categorical([label2id[label] for label in data.topic.values])"
      ]
    },
    {
      "cell_type": "code",
      "execution_count": 24,
      "metadata": {
        "id": "tFOztA6fF6Zs"
      },
      "outputs": [],
      "source": [
        "X_train, X_valid, y_train, y_valid = train_test_split(X, y, test_size=0.05, stratify=y)"
      ]
    },
    {
      "cell_type": "markdown",
      "source": [
        "### модель с 1 GRU слоем"
      ],
      "metadata": {
        "id": "azZXtzvEIAWB"
      }
    },
    {
      "cell_type": "code",
      "execution_count": 25,
      "metadata": {
        "id": "P_BWriHCF6Z2"
      },
      "outputs": [],
      "source": [
        "inputs = tf.keras.layers.Input(shape=(MAX_LEN,))\n",
        "embeddings = tf.keras.layers.Embedding(input_dim=len(word2id), output_dim=30)(inputs, )\n",
        "\n",
        "rnn = tf.keras.layers.GRU(128, return_sequences=False)(embeddings)\n",
        "\n",
        "outputs = tf.keras.layers.Dense(len(label2id), activation='softmax')(rnn)\n",
        "\n",
        "model = tf.keras.Model(inputs=inputs, outputs=outputs)\n",
        "optimizer = tf.keras.optimizers.Adam(learning_rate=0.001)\n",
        "model.compile(optimizer=optimizer,\n",
        "              loss='categorical_crossentropy',\n",
        "              metrics=[f1,\n",
        "                       tf.keras.metrics.RecallAtPrecision(0.8, name='rec@prec')])"
      ]
    },
    {
      "cell_type": "code",
      "execution_count": 26,
      "metadata": {
        "id": "E4WfNSjMF6Z5",
        "outputId": "8c8bbbdd-a166-4a35-8e68-a17373f83eb3",
        "colab": {
          "base_uri": "https://localhost:8080/"
        }
      },
      "outputs": [
        {
          "output_type": "stream",
          "name": "stdout",
          "text": [
            "Model: \"model\"\n",
            "_________________________________________________________________\n",
            " Layer (type)                Output Shape              Param #   \n",
            "=================================================================\n",
            " input_1 (InputLayer)        [(None, 200)]             0         \n",
            "                                                                 \n",
            " embedding (Embedding)       (None, 200, 30)           722790    \n",
            "                                                                 \n",
            " gru (GRU)                   (None, 128)               61440     \n",
            "                                                                 \n",
            " dense (Dense)               (None, 19)                2451      \n",
            "                                                                 \n",
            "=================================================================\n",
            "Total params: 786,681\n",
            "Trainable params: 786,681\n",
            "Non-trainable params: 0\n",
            "_________________________________________________________________\n"
          ]
        }
      ],
      "source": [
        "model.summary()"
      ]
    },
    {
      "cell_type": "code",
      "execution_count": 27,
      "metadata": {
        "scrolled": true,
        "id": "qoiPLtkoF6Z6",
        "outputId": "f8350a05-6a83-461b-cfd5-b48479990c0f",
        "colab": {
          "base_uri": "https://localhost:8080/"
        }
      },
      "outputs": [
        {
          "output_type": "stream",
          "name": "stdout",
          "text": [
            "Epoch 1/20\n",
            "43/43 [==============================] - 17s 217ms/step - loss: 2.5939 - f1: 0.0047 - rec@prec: 0.0000e+00 - val_loss: 2.3401 - val_f1: 0.0000e+00 - val_rec@prec: 0.0023\n",
            "Epoch 2/20\n",
            "43/43 [==============================] - 15s 345ms/step - loss: 2.2821 - f1: 0.0000e+00 - rec@prec: 1.1866e-04 - val_loss: 2.2251 - val_f1: 0.0000e+00 - val_rec@prec: 0.0036\n",
            "Epoch 3/20\n",
            "43/43 [==============================] - 12s 283ms/step - loss: 2.1031 - f1: 0.0046 - rec@prec: 0.0027 - val_loss: 2.0444 - val_f1: 0.0097 - val_rec@prec: 0.0027\n",
            "Epoch 4/20\n",
            "43/43 [==============================] - 12s 281ms/step - loss: 1.9144 - f1: 0.0670 - rec@prec: 0.0153 - val_loss: 1.8983 - val_f1: 0.1182 - val_rec@prec: 0.0275\n",
            "Epoch 5/20\n",
            "43/43 [==============================] - 10s 242ms/step - loss: 1.7024 - f1: 0.2118 - rec@prec: 0.0924 - val_loss: 1.8420 - val_f1: 0.1948 - val_rec@prec: 0.0528\n",
            "Epoch 6/20\n",
            "43/43 [==============================] - 8s 168ms/step - loss: 1.5500 - f1: 0.3458 - rec@prec: 0.1995 - val_loss: 1.7078 - val_f1: 0.2971 - val_rec@prec: 0.1073\n",
            "Epoch 7/20\n",
            "43/43 [==============================] - 7s 147ms/step - loss: 1.3595 - f1: 0.4415 - rec@prec: 0.3038 - val_loss: 1.6361 - val_f1: 0.3759 - val_rec@prec: 0.1407\n",
            "Epoch 8/20\n",
            "43/43 [==============================] - 6s 124ms/step - loss: 1.2083 - f1: 0.5357 - rec@prec: 0.4160 - val_loss: 1.6007 - val_f1: 0.4609 - val_rec@prec: 0.1614\n",
            "Epoch 9/20\n",
            "43/43 [==============================] - 5s 120ms/step - loss: 1.0596 - f1: 0.6270 - rec@prec: 0.5386 - val_loss: 1.4400 - val_f1: 0.5546 - val_rec@prec: 0.3003\n",
            "Epoch 10/20\n",
            "43/43 [==============================] - 4s 101ms/step - loss: 0.9017 - f1: 0.6996 - rec@prec: 0.6573 - val_loss: 1.5819 - val_f1: 0.5206 - val_rec@prec: 0.2295\n",
            "Epoch 11/20\n",
            "43/43 [==============================] - 4s 99ms/step - loss: 0.7960 - f1: 0.7383 - rec@prec: 0.7243 - val_loss: 1.4516 - val_f1: 0.5824 - val_rec@prec: 0.3517\n",
            "Epoch 12/20\n",
            "43/43 [==============================] - 5s 116ms/step - loss: 0.6844 - f1: 0.7841 - rec@prec: 0.7936 - val_loss: 1.4880 - val_f1: 0.5878 - val_rec@prec: 0.3602\n",
            "Epoch 13/20\n",
            "43/43 [==============================] - 3s 77ms/step - loss: 0.6093 - f1: 0.8102 - rec@prec: 0.8316 - val_loss: 1.5202 - val_f1: 0.5986 - val_rec@prec: 0.3611\n",
            "Epoch 14/20\n",
            "43/43 [==============================] - 4s 98ms/step - loss: 0.5375 - f1: 0.8362 - rec@prec: 0.8692 - val_loss: 1.5625 - val_f1: 0.5960 - val_rec@prec: 0.3805\n",
            "Epoch 15/20\n",
            "43/43 [==============================] - 5s 112ms/step - loss: 0.4690 - f1: 0.8603 - rec@prec: 0.9019 - val_loss: 1.6440 - val_f1: 0.6108 - val_rec@prec: 0.3607\n",
            "Epoch 16/20\n",
            "43/43 [==============================] - 3s 81ms/step - loss: 0.4234 - f1: 0.8772 - rec@prec: 0.9225 - val_loss: 1.6697 - val_f1: 0.6143 - val_rec@prec: 0.3873\n",
            "Epoch 17/20\n",
            "43/43 [==============================] - 4s 87ms/step - loss: 0.3643 - f1: 0.8983 - rec@prec: 0.9433 - val_loss: 1.7132 - val_f1: 0.6282 - val_rec@prec: 0.3995\n",
            "Epoch 18/20\n",
            "43/43 [==============================] - 3s 63ms/step - loss: 0.3223 - f1: 0.9111 - rec@prec: 0.9555 - val_loss: 1.8804 - val_f1: 0.5705 - val_rec@prec: 0.3792\n",
            "Epoch 19/20\n",
            "43/43 [==============================] - 3s 81ms/step - loss: 0.3324 - f1: 0.9045 - rec@prec: 0.9509 - val_loss: 1.8104 - val_f1: 0.6253 - val_rec@prec: 0.3873\n",
            "Epoch 20/20\n",
            "43/43 [==============================] - 3s 66ms/step - loss: 0.2548 - f1: 0.9342 - rec@prec: 0.9733 - val_loss: 1.8459 - val_f1: 0.6183 - val_rec@prec: 0.4031\n"
          ]
        },
        {
          "output_type": "execute_result",
          "data": {
            "text/plain": [
              "<keras.callbacks.History at 0x7fb226b657e0>"
            ]
          },
          "metadata": {},
          "execution_count": 27
        }
      ],
      "source": [
        "model.fit(X_train, y_train,\n",
        "          validation_data=(X_valid, y_valid),\n",
        "          batch_size=1000,\n",
        "          epochs=20)"
      ]
    },
    {
      "cell_type": "code",
      "execution_count": 28,
      "metadata": {
        "id": "zuZh7DW3F6Z6",
        "outputId": "0ff08174-9310-48a9-a8e7-8ea41baf6dd8",
        "colab": {
          "base_uri": "https://localhost:8080/",
          "height": 489
        }
      },
      "outputs": [
        {
          "output_type": "stream",
          "name": "stdout",
          "text": [
            "dict_keys(['loss', 'f1', 'rec@prec', 'val_loss', 'val_f1', 'val_rec@prec'])\n"
          ]
        },
        {
          "output_type": "display_data",
          "data": {
            "text/plain": [
              "<Figure size 640x480 with 1 Axes>"
            ],
            "image/png": "[encoded data removed]"
          },
          "metadata": {}
        }
      ],
      "source": [
        "print(model.history.history.keys())\n",
        "# summarize history for accuracy\n",
        "plt.plot(model.history.history['rec@prec'])\n",
        "plt.plot(model.history.history['val_rec@prec'])\n",
        "plt.title('model f1')\n",
        "plt.ylabel('f1')\n",
        "plt.xlabel('epoch')\n",
        "plt.legend(['train', 'val'], loc='upper left')\n",
        "plt.show()"
      ]
    },
    {
      "cell_type": "markdown",
      "source": [
        "не очень хорошее качество"
      ],
      "metadata": {
        "id": "ryb68qcUhU4q"
      }
    },
    {
      "cell_type": "markdown",
      "source": [
        "### модель с 1 LSTM слоем"
      ],
      "metadata": {
        "id": "HFrTDH44I5c8"
      }
    },
    {
      "cell_type": "code",
      "source": [
        "inputs = tf.keras.layers.Input(shape=(MAX_LEN,))\n",
        "embeddings = tf.keras.layers.Embedding(input_dim=len(word2id), output_dim=30)(inputs, )\n",
        "\n",
        "rnn = tf.keras.layers.LSTM(128, return_sequences=False)(embeddings)\n",
        "\n",
        "outputs = tf.keras.layers.Dense(len(label2id), activation='softmax')(rnn)\n",
        "\n",
        "model = tf.keras.Model(inputs=inputs, outputs=outputs)\n",
        "optimizer = tf.keras.optimizers.Adam(learning_rate=0.001)\n",
        "model.compile(optimizer=optimizer,\n",
        "              loss='categorical_crossentropy',\n",
        "              metrics=[f1,\n",
        "                       tf.keras.metrics.RecallAtPrecision(0.8, name='rec@prec')])"
      ],
      "metadata": {
        "id": "KNZsyz1GI4sp"
      },
      "execution_count": 29,
      "outputs": []
    },
    {
      "cell_type": "code",
      "source": [
        "model.fit(X_train, y_train,\n",
        "          validation_data=(X_valid, y_valid),\n",
        "          batch_size=1000,\n",
        "          epochs=20)"
      ],
      "metadata": {
        "id": "bJkJ_InUJKG2",
        "colab": {
          "base_uri": "https://localhost:8080/"
        },
        "outputId": "13b075a4-478b-4960-fb5e-ae91786bfd86"
      },
      "execution_count": 30,
      "outputs": [
        {
          "output_type": "stream",
          "name": "stdout",
          "text": [
            "Epoch 1/20\n",
            "43/43 [==============================] - 12s 221ms/step - loss: 2.4769 - f1: 0.0000e+00 - rec@prec: 0.0000e+00 - val_loss: 2.3181 - val_f1: 0.0000e+00 - val_rec@prec: 9.0171e-04\n",
            "Epoch 2/20\n",
            "43/43 [==============================] - 6s 149ms/step - loss: 2.3127 - f1: 0.0000e+00 - rec@prec: 2.3732e-05 - val_loss: 2.2985 - val_f1: 0.0000e+00 - val_rec@prec: 0.0018\n",
            "Epoch 3/20\n",
            "43/43 [==============================] - 7s 160ms/step - loss: 2.2343 - f1: 0.0000e+00 - rec@prec: 3.5597e-04 - val_loss: 2.0514 - val_f1: 0.0013 - val_rec@prec: 0.0311\n",
            "Epoch 4/20\n",
            "43/43 [==============================] - 6s 136ms/step - loss: 1.8735 - f1: 0.1039 - rec@prec: 0.0256 - val_loss: 1.6473 - val_f1: 0.2917 - val_rec@prec: 0.1172\n",
            "Epoch 5/20\n",
            "43/43 [==============================] - 7s 163ms/step - loss: 1.5432 - f1: 0.3779 - rec@prec: 0.1051 - val_loss: 1.5232 - val_f1: 0.3558 - val_rec@prec: 0.1560\n",
            "Epoch 6/20\n",
            "43/43 [==============================] - 4s 98ms/step - loss: 1.3314 - f1: 0.5262 - rec@prec: 0.2917 - val_loss: 1.3849 - val_f1: 0.5373 - val_rec@prec: 0.2687\n",
            "Epoch 7/20\n",
            "43/43 [==============================] - 4s 102ms/step - loss: 1.1699 - f1: 0.6249 - rec@prec: 0.4587 - val_loss: 1.3534 - val_f1: 0.5677 - val_rec@prec: 0.0861\n",
            "Epoch 8/20\n",
            "43/43 [==============================] - 6s 133ms/step - loss: 1.0878 - f1: 0.6482 - rec@prec: 0.5232 - val_loss: 1.3168 - val_f1: 0.5962 - val_rec@prec: 0.2547\n",
            "Epoch 9/20\n",
            "43/43 [==============================] - 5s 113ms/step - loss: 0.9594 - f1: 0.6937 - rec@prec: 0.6201 - val_loss: 1.1528 - val_f1: 0.6469 - val_rec@prec: 0.5257\n",
            "Epoch 10/20\n",
            "43/43 [==============================] - 4s 87ms/step - loss: 0.8393 - f1: 0.7379 - rec@prec: 0.7105 - val_loss: 1.2351 - val_f1: 0.6247 - val_rec@prec: 0.4364\n",
            "Epoch 11/20\n",
            "43/43 [==============================] - 5s 125ms/step - loss: 0.7586 - f1: 0.7703 - rec@prec: 0.7671 - val_loss: 1.1472 - val_f1: 0.6560 - val_rec@prec: 0.5271\n",
            "Epoch 12/20\n",
            "43/43 [==============================] - 4s 97ms/step - loss: 0.7201 - f1: 0.7850 - rec@prec: 0.7905 - val_loss: 1.1054 - val_f1: 0.6804 - val_rec@prec: 0.5690\n",
            "Epoch 13/20\n",
            "43/43 [==============================] - 4s 96ms/step - loss: 0.6273 - f1: 0.8213 - rec@prec: 0.8391 - val_loss: 1.1517 - val_f1: 0.6906 - val_rec@prec: 0.5699\n",
            "Epoch 14/20\n",
            "43/43 [==============================] - 5s 108ms/step - loss: 0.5629 - f1: 0.8422 - rec@prec: 0.8661 - val_loss: 1.1211 - val_f1: 0.6904 - val_rec@prec: 0.5965\n",
            "Epoch 15/20\n",
            "43/43 [==============================] - 4s 84ms/step - loss: 0.5059 - f1: 0.8610 - rec@prec: 0.8895 - val_loss: 1.1250 - val_f1: 0.7002 - val_rec@prec: 0.6118\n",
            "Epoch 16/20\n",
            "43/43 [==============================] - 4s 89ms/step - loss: 0.4535 - f1: 0.8775 - rec@prec: 0.9089 - val_loss: 1.1567 - val_f1: 0.6947 - val_rec@prec: 0.6172\n",
            "Epoch 17/20\n",
            "43/43 [==============================] - 3s 78ms/step - loss: 0.4083 - f1: 0.8909 - rec@prec: 0.9254 - val_loss: 1.1732 - val_f1: 0.6961 - val_rec@prec: 0.6091\n",
            "Epoch 18/20\n",
            "43/43 [==============================] - 4s 93ms/step - loss: 0.3621 - f1: 0.9047 - rec@prec: 0.9407 - val_loss: 1.2238 - val_f1: 0.6955 - val_rec@prec: 0.6132\n",
            "Epoch 19/20\n",
            "43/43 [==============================] - 3s 81ms/step - loss: 0.3219 - f1: 0.9176 - rec@prec: 0.9528 - val_loss: 1.2422 - val_f1: 0.7014 - val_rec@prec: 0.6127\n",
            "Epoch 20/20\n",
            "43/43 [==============================] - 3s 79ms/step - loss: 0.3047 - f1: 0.9201 - rec@prec: 0.9575 - val_loss: 1.2735 - val_f1: 0.6905 - val_rec@prec: 0.5947\n"
          ]
        },
        {
          "output_type": "execute_result",
          "data": {
            "text/plain": [
              "<keras.callbacks.History at 0x7fb2102886a0>"
            ]
          },
          "metadata": {},
          "execution_count": 30
        }
      ]
    },
    {
      "cell_type": "code",
      "source": [
        "plt.plot(model.history.history['rec@prec'])\n",
        "plt.plot(model.history.history['val_rec@prec'])\n",
        "plt.title('model f1')\n",
        "plt.ylabel('f1')\n",
        "plt.xlabel('epoch')\n",
        "plt.legend(['train', 'val'], loc='upper left')\n",
        "plt.show()"
      ],
      "metadata": {
        "id": "FqPoJVwpJK5o",
        "colab": {
          "base_uri": "https://localhost:8080/",
          "height": 472
        },
        "outputId": "3255d16f-b788-4d80-cef7-5db7e42ebed0"
      },
      "execution_count": 31,
      "outputs": [
        {
          "output_type": "display_data",
          "data": {
            "text/plain": [
              "<Figure size 640x480 with 1 Axes>"
            ],
            "image/png": "[encoded data removed]"
          },
          "metadata": {}
        }
      ]
    },
    {
      "cell_type": "markdown",
      "source": [
        "прямо получше"
      ],
      "metadata": {
        "id": "5lm1Jg4EhaKg"
      }
    },
    {
      "cell_type": "markdown",
      "source": [
        "### модель с 1 GRU и 1 LSTM слоем"
      ],
      "metadata": {
        "id": "xl73Q6exJQ6g"
      }
    },
    {
      "cell_type": "code",
      "execution_count": 32,
      "metadata": {
        "id": "84HBRtMRF6Z8"
      },
      "outputs": [],
      "source": [
        "inputs = tf.keras.layers.Input(shape=(MAX_LEN,))\n",
        "embeddings = tf.keras.layers.Embedding(input_dim=len(word2id), output_dim=30)(inputs, )\n",
        "\n",
        "gru_1 = tf.keras.layers.GRU(128, return_sequences=True)(embeddings)\n",
        "lstm_1 = tf.keras.layers.LSTM(128, return_sequences=False)(gru_1)\n",
        "\n",
        "dense = tf.keras.layers.Dense(64, activation='relu')(lstm_1)\n",
        "outputs = tf.keras.layers.Dense(len(label2id), activation='softmax')(dense)\n",
        "\n",
        "model = tf.keras.Model(inputs=inputs, outputs=outputs)\n",
        "optimizer = tf.keras.optimizers.Adam(learning_rate=0.001)\n",
        "model.compile(optimizer=optimizer,\n",
        "              loss='categorical_crossentropy',\n",
        "              metrics=[f1, tf.keras.metrics.RecallAtPrecision(0.8, name='rec@prec')])\n"
      ]
    },
    {
      "cell_type": "code",
      "execution_count": 33,
      "metadata": {
        "scrolled": true,
        "id": "DEzwl-BEF6Z8",
        "outputId": "7d881ed3-30f0-4528-afca-a2ac8143d90c",
        "colab": {
          "base_uri": "https://localhost:8080/"
        }
      },
      "outputs": [
        {
          "output_type": "stream",
          "name": "stdout",
          "text": [
            "Epoch 1/15\n",
            "211/211 [==============================] - 47s 204ms/step - loss: 2.1947 - f1: 0.0560 - rec@prec: 0.0211 - val_loss: 1.6182 - val_f1: 0.2644 - val_rec@prec: 0.1434\n",
            "Epoch 2/15\n",
            "211/211 [==============================] - 31s 146ms/step - loss: 1.3966 - f1: 0.5214 - rec@prec: 0.3206 - val_loss: 1.3311 - val_f1: 0.5718 - val_rec@prec: 0.3751\n",
            "Epoch 3/15\n",
            "211/211 [==============================] - 20s 93ms/step - loss: 1.1426 - f1: 0.6357 - rec@prec: 0.5121 - val_loss: 1.2043 - val_f1: 0.6220 - val_rec@prec: 0.4378\n",
            "Epoch 4/15\n",
            "211/211 [==============================] - 18s 85ms/step - loss: 0.9852 - f1: 0.6953 - rec@prec: 0.6230 - val_loss: 1.1846 - val_f1: 0.6559 - val_rec@prec: 0.5086\n",
            "Epoch 5/15\n",
            "211/211 [==============================] - 14s 66ms/step - loss: 0.9176 - f1: 0.7241 - rec@prec: 0.6726 - val_loss: 1.2673 - val_f1: 0.6289 - val_rec@prec: 0.4292\n",
            "Epoch 6/15\n",
            "211/211 [==============================] - 12s 58ms/step - loss: 2.2617 - f1: 0.0231 - rec@prec: 0.0126 - val_loss: 2.0864 - val_f1: 0.0058 - val_rec@prec: 0.0491\n",
            "Epoch 7/15\n",
            "211/211 [==============================] - 12s 57ms/step - loss: 1.9612 - f1: 0.1091 - rec@prec: 0.0559 - val_loss: 2.0160 - val_f1: 0.0737 - val_rec@prec: 0.0442\n",
            "Epoch 8/15\n",
            "211/211 [==============================] - 11s 54ms/step - loss: 1.7379 - f1: 0.1304 - rec@prec: 0.0691 - val_loss: 1.7442 - val_f1: 0.1499 - val_rec@prec: 0.0757\n",
            "Epoch 9/15\n",
            "211/211 [==============================] - 11s 54ms/step - loss: 1.5553 - f1: 0.2107 - rec@prec: 0.1292 - val_loss: 1.6310 - val_f1: 0.2957 - val_rec@prec: 0.1479\n",
            "Epoch 10/15\n",
            "211/211 [==============================] - 8s 40ms/step - loss: 1.2770 - f1: 0.5103 - rec@prec: 0.3566 - val_loss: 1.3868 - val_f1: 0.5491 - val_rec@prec: 0.3350\n",
            "Epoch 11/15\n",
            "211/211 [==============================] - 8s 40ms/step - loss: 1.0677 - f1: 0.6638 - rec@prec: 0.5735 - val_loss: 1.3703 - val_f1: 0.5830 - val_rec@prec: 0.3179\n",
            "Epoch 12/15\n",
            "211/211 [==============================] - 10s 46ms/step - loss: 0.9536 - f1: 0.7086 - rec@prec: 0.6504 - val_loss: 1.3425 - val_f1: 0.6060 - val_rec@prec: 0.4080\n",
            "Epoch 13/15\n",
            "211/211 [==============================] - 10s 47ms/step - loss: 0.9588 - f1: 0.7012 - rec@prec: 0.6401 - val_loss: 1.4811 - val_f1: 0.5466 - val_rec@prec: 0.3336\n",
            "Epoch 14/15\n",
            "211/211 [==============================] - 9s 42ms/step - loss: 0.9796 - f1: 0.6796 - rec@prec: 0.6097 - val_loss: 1.4220 - val_f1: 0.5679 - val_rec@prec: 0.3372\n",
            "Epoch 15/15\n",
            "211/211 [==============================] - 8s 39ms/step - loss: 0.8315 - f1: 0.7363 - rec@prec: 0.7034 - val_loss: 1.4889 - val_f1: 0.6015 - val_rec@prec: 0.3918\n"
          ]
        },
        {
          "output_type": "execute_result",
          "data": {
            "text/plain": [
              "<keras.callbacks.History at 0x7fb1913ce500>"
            ]
          },
          "metadata": {},
          "execution_count": 33
        }
      ],
      "source": [
        "model.fit(X_train, y_train,\n",
        "          validation_data=(X_valid, y_valid),\n",
        "          batch_size=200,\n",
        "          epochs=15)"
      ]
    },
    {
      "cell_type": "code",
      "execution_count": 34,
      "metadata": {
        "id": "ZveB-CAQF6Z8",
        "outputId": "628689f9-4b60-405a-e851-dd6eb3f32ac9",
        "colab": {
          "base_uri": "https://localhost:8080/",
          "height": 472
        }
      },
      "outputs": [
        {
          "output_type": "display_data",
          "data": {
            "text/plain": [
              "<Figure size 640x480 with 1 Axes>"
            ],
            "image/png": "[encoded data removed]"
          },
          "metadata": {}
        }
      ],
      "source": [
        "plt.plot(model.history.history['f1'])\n",
        "plt.plot(model.history.history['val_f1'])\n",
        "plt.title('model f1')\n",
        "plt.ylabel('f1')\n",
        "plt.xlabel('epoch')\n",
        "plt.legend(['train', 'val'], loc='upper left')\n",
        "plt.show()"
      ]
    },
    {
      "cell_type": "markdown",
      "source": [
        "очень интересный скачок, качество неплохое"
      ],
      "metadata": {
        "id": "cIeEl9bihfe-"
      }
    },
    {
      "cell_type": "markdown",
      "source": [
        "### модель с 1 BIGRU и 2 LSTM слоями"
      ],
      "metadata": {
        "id": "P4xu-fNNN2sU"
      }
    },
    {
      "cell_type": "code",
      "execution_count": 35,
      "metadata": {
        "id": "2w7LNfNfF6Z9"
      },
      "outputs": [],
      "source": [
        "inputs = tf.keras.layers.Input(shape=(MAX_LEN,))\n",
        "embeddings = tf.keras.layers.Embedding(input_dim=len(word2id), output_dim=100)(inputs, )\n",
        "\n",
        "gru = tf.keras.layers.Bidirectional(tf.keras.layers.GRU(128, return_sequences=True))(embeddings)\n",
        "lstm_1 = tf.keras.layers.LSTM(128, return_sequences=True)(gru)\n",
        "lstm_2 = tf.keras.layers.LSTM(128, return_sequences=False)(lstm_1)\n",
        "\n",
        "outputs = tf.keras.layers.Dense(len(label2id), activation='softmax')(lstm_2)\n",
        "\n",
        "model = tf.keras.Model(inputs=inputs, outputs=outputs)\n",
        "optimizer = tf.keras.optimizers.Adam()\n",
        "model.compile(optimizer=optimizer,\n",
        "              loss='categorical_crossentropy',\n",
        "              metrics=[f1, tf.keras.metrics.RecallAtPrecision(0.8, name='rec@prec')])\n"
      ]
    },
    {
      "cell_type": "code",
      "execution_count": 36,
      "metadata": {
        "scrolled": true,
        "id": "zEj6f005F6Z-",
        "colab": {
          "base_uri": "https://localhost:8080/"
        },
        "outputId": "aa43d87a-5d51-4989-d695-b175d9a03ec6"
      },
      "outputs": [
        {
          "output_type": "stream",
          "name": "stdout",
          "text": [
            "Epoch 1/15\n",
            "211/211 [==============================] - 57s 236ms/step - loss: 2.0889 - f1: 0.0976 - rec@prec: 0.0463 - val_loss: 1.8816 - val_f1: 0.2038 - val_rec@prec: 0.0775\n",
            "Epoch 2/15\n",
            "211/211 [==============================] - 37s 174ms/step - loss: 1.6398 - f1: 0.3246 - rec@prec: 0.1547 - val_loss: 1.6793 - val_f1: 0.4831 - val_rec@prec: 0.1479\n",
            "Epoch 3/15\n",
            "211/211 [==============================] - 28s 130ms/step - loss: 1.2890 - f1: 0.5553 - rec@prec: 0.3135 - val_loss: 1.2811 - val_f1: 0.5514 - val_rec@prec: 0.3201\n",
            "Epoch 4/15\n",
            "211/211 [==============================] - 25s 120ms/step - loss: 1.0331 - f1: 0.6560 - rec@prec: 0.5224 - val_loss: 1.1348 - val_f1: 0.6312 - val_rec@prec: 0.4599\n",
            "Epoch 5/15\n",
            "211/211 [==============================] - 23s 110ms/step - loss: 0.8885 - f1: 0.7205 - rec@prec: 0.6582 - val_loss: 1.0526 - val_f1: 0.6840 - val_rec@prec: 0.5559\n",
            "Epoch 6/15\n",
            "211/211 [==============================] - 24s 115ms/step - loss: 0.7465 - f1: 0.7783 - rec@prec: 0.7661 - val_loss: 1.0276 - val_f1: 0.7047 - val_rec@prec: 0.6091\n",
            "Epoch 7/15\n",
            "211/211 [==============================] - 22s 103ms/step - loss: 0.6373 - f1: 0.8128 - rec@prec: 0.8262 - val_loss: 1.0409 - val_f1: 0.7136 - val_rec@prec: 0.6055\n",
            "Epoch 8/15\n",
            "211/211 [==============================] - 21s 99ms/step - loss: 0.5526 - f1: 0.8371 - rec@prec: 0.8657 - val_loss: 0.9959 - val_f1: 0.7203 - val_rec@prec: 0.6132\n",
            "Epoch 9/15\n",
            "211/211 [==============================] - 17s 79ms/step - loss: 0.4696 - f1: 0.8625 - rec@prec: 0.9002 - val_loss: 1.0495 - val_f1: 0.7219 - val_rec@prec: 0.6190\n",
            "Epoch 10/15\n",
            "211/211 [==============================] - 17s 79ms/step - loss: 0.4098 - f1: 0.8805 - rec@prec: 0.9239 - val_loss: 1.0716 - val_f1: 0.7252 - val_rec@prec: 0.6145\n",
            "Epoch 11/15\n",
            "211/211 [==============================] - 17s 80ms/step - loss: 0.3410 - f1: 0.9023 - rec@prec: 0.9474 - val_loss: 1.1093 - val_f1: 0.7259 - val_rec@prec: 0.6019\n",
            "Epoch 12/15\n",
            "211/211 [==============================] - 18s 88ms/step - loss: 0.2890 - f1: 0.9188 - rec@prec: 0.9609 - val_loss: 1.1554 - val_f1: 0.7196 - val_rec@prec: 0.6023\n",
            "Epoch 13/15\n",
            "211/211 [==============================] - 19s 88ms/step - loss: 0.2471 - f1: 0.9308 - rec@prec: 0.9709 - val_loss: 1.2069 - val_f1: 0.7123 - val_rec@prec: 0.6069\n",
            "Epoch 14/15\n",
            "211/211 [==============================] - 17s 80ms/step - loss: 0.2193 - f1: 0.9396 - rec@prec: 0.9764 - val_loss: 1.2759 - val_f1: 0.7194 - val_rec@prec: 0.5960\n",
            "Epoch 15/15\n",
            "211/211 [==============================] - 17s 82ms/step - loss: 0.1815 - f1: 0.9507 - rec@prec: 0.9830 - val_loss: 1.3387 - val_f1: 0.7067 - val_rec@prec: 0.5924\n"
          ]
        },
        {
          "output_type": "execute_result",
          "data": {
            "text/plain": [
              "<keras.callbacks.History at 0x7fb1842f23e0>"
            ]
          },
          "metadata": {},
          "execution_count": 36
        }
      ],
      "source": [
        "model.fit(X_train, y_train,\n",
        "          validation_data=(X_valid, y_valid),\n",
        "          batch_size=200,\n",
        "          epochs=15)"
      ]
    },
    {
      "cell_type": "code",
      "execution_count": 37,
      "metadata": {
        "id": "NTkWxLCFF6Z_",
        "outputId": "2a542bfa-c1ca-440c-ebd9-2661d7a74a16",
        "colab": {
          "base_uri": "https://localhost:8080/",
          "height": 472
        }
      },
      "outputs": [
        {
          "output_type": "display_data",
          "data": {
            "text/plain": [
              "<Figure size 640x480 with 1 Axes>"
            ],
            "image/png": "[encoded data removed]"
          },
          "metadata": {}
        }
      ],
      "source": [
        "plt.plot(model.history.history['f1'])\n",
        "plt.plot(model.history.history['val_f1'])\n",
        "plt.title('model f1')\n",
        "plt.ylabel('f1')\n",
        "plt.xlabel('epoch')\n",
        "plt.legend(['train', 'val'], loc='upper left')\n",
        "plt.show()"
      ]
    },
    {
      "cell_type": "markdown",
      "source": [
        "О, получше качество, чем у предыдущих"
      ],
      "metadata": {
        "id": "YuZYhenBjXpX"
      }
    },
    {
      "cell_type": "markdown",
      "metadata": {
        "id": "SjTo88ZhF6Z_"
      },
      "source": [
        "### модель с 5 GRU слоями и 3 LSTM слоями"
      ]
    },
    {
      "cell_type": "code",
      "source": [
        "inputs = tf.keras.layers.Input(shape=(MAX_LEN,))\n",
        "embeddings = tf.keras.layers.Embedding(input_dim=len(word2id), output_dim=100)(inputs, )\n",
        "\n",
        "gru_1 = tf.keras.layers.GRU(128, return_sequences=True)(embeddings)\n",
        "gru_2 = tf.keras.layers.GRU(128, return_sequences=True)(gru_1)\n",
        "gru_3 = tf.keras.layers.GRU(128, return_sequences=True)(gru_2)\n",
        "gru_4 = tf.keras.layers.GRU(128, return_sequences=True)(gru_3)\n",
        "gru_5 = tf.keras.layers.GRU(128, return_sequences=True)(gru_4)\n",
        "lstm_1 = tf.keras.layers.LSTM(128, return_sequences=True)(gru_5)\n",
        "lstm_2 = tf.keras.layers.LSTM(128, return_sequences=True)(lstm_1)\n",
        "lstm_3 = tf.keras.layers.LSTM(128, return_sequences=False)(lstm_2)\n",
        "\n",
        "outputs = tf.keras.layers.Dense(len(label2id), activation='softmax')(lstm_3)\n",
        "\n",
        "model = tf.keras.Model(inputs=inputs, outputs=outputs)\n",
        "optimizer = tf.keras.optimizers.Adam()\n",
        "model.compile(optimizer=optimizer,\n",
        "              loss='categorical_crossentropy',\n",
        "              metrics=[f1, tf.keras.metrics.RecallAtPrecision(0.8, name='rec@prec')])"
      ],
      "metadata": {
        "id": "Ta7MQF0vOzya"
      },
      "execution_count": 38,
      "outputs": []
    },
    {
      "cell_type": "code",
      "source": [
        "model.fit(X_train, y_train,\n",
        "          validation_data=(X_valid, y_valid),\n",
        "          batch_size=200,\n",
        "          epochs=15)"
      ],
      "metadata": {
        "id": "TD0kmf0OPCAK",
        "colab": {
          "base_uri": "https://localhost:8080/"
        },
        "outputId": "99756ce9-e91b-40a1-c623-630f679fa740"
      },
      "execution_count": 39,
      "outputs": [
        {
          "output_type": "stream",
          "name": "stdout",
          "text": [
            "Epoch 1/15\n",
            "211/211 [==============================] - 68s 253ms/step - loss: 2.3449 - f1: 0.0000e+00 - rec@prec: 0.0000e+00 - val_loss: 2.3200 - val_f1: 0.0000e+00 - val_rec@prec: 0.0000e+00\n",
            "Epoch 2/15\n",
            "211/211 [==============================] - 41s 197ms/step - loss: 2.3124 - f1: 0.0000e+00 - rec@prec: 0.0000e+00 - val_loss: 2.3177 - val_f1: 0.0000e+00 - val_rec@prec: 0.0000e+00\n",
            "Epoch 3/15\n",
            "211/211 [==============================] - 36s 173ms/step - loss: 2.3026 - f1: 0.0000e+00 - rec@prec: 0.0000e+00 - val_loss: 2.2993 - val_f1: 0.0000e+00 - val_rec@prec: 0.0000e+00\n",
            "Epoch 4/15\n",
            "211/211 [==============================] - 34s 162ms/step - loss: 2.2683 - f1: 0.0100 - rec@prec: 2.3732e-05 - val_loss: 2.0611 - val_f1: 0.0000e+00 - val_rec@prec: 0.0000e+00\n",
            "Epoch 5/15\n",
            "211/211 [==============================] - 33s 157ms/step - loss: 1.8479 - f1: 0.1113 - rec@prec: 0.0504 - val_loss: 1.7231 - val_f1: 0.2373 - val_rec@prec: 0.0888\n",
            "Epoch 6/15\n",
            "211/211 [==============================] - 32s 153ms/step - loss: 1.5986 - f1: 0.2527 - rec@prec: 0.1234 - val_loss: 1.5476 - val_f1: 0.3723 - val_rec@prec: 0.1280\n",
            "Epoch 7/15\n",
            "211/211 [==============================] - 31s 149ms/step - loss: 1.4119 - f1: 0.3993 - rec@prec: 0.1947 - val_loss: 1.3960 - val_f1: 0.4370 - val_rec@prec: 0.1898\n",
            "Epoch 8/15\n",
            "211/211 [==============================] - 30s 143ms/step - loss: 1.2505 - f1: 0.5585 - rec@prec: 0.3051 - val_loss: 1.2981 - val_f1: 0.5866 - val_rec@prec: 0.3255\n",
            "Epoch 9/15\n",
            "211/211 [==============================] - 31s 149ms/step - loss: 1.1045 - f1: 0.6287 - rec@prec: 0.4835 - val_loss: 1.2632 - val_f1: 0.5991 - val_rec@prec: 0.3931\n",
            "Epoch 10/15\n",
            "211/211 [==============================] - 29s 136ms/step - loss: 1.0063 - f1: 0.6634 - rec@prec: 0.5616 - val_loss: 1.2188 - val_f1: 0.6112 - val_rec@prec: 0.4346\n",
            "Epoch 11/15\n",
            "211/211 [==============================] - 28s 133ms/step - loss: 0.9286 - f1: 0.7013 - rec@prec: 0.6272 - val_loss: 1.1903 - val_f1: 0.6351 - val_rec@prec: 0.4608\n",
            "Epoch 12/15\n",
            "211/211 [==============================] - 29s 139ms/step - loss: 0.8541 - f1: 0.7317 - rec@prec: 0.6857 - val_loss: 1.1740 - val_f1: 0.6469 - val_rec@prec: 0.4887\n",
            "Epoch 13/15\n",
            "211/211 [==============================] - 29s 138ms/step - loss: 0.7834 - f1: 0.7608 - rec@prec: 0.7342 - val_loss: 1.2234 - val_f1: 0.6399 - val_rec@prec: 0.4716\n",
            "Epoch 14/15\n",
            "211/211 [==============================] - 29s 139ms/step - loss: 0.7142 - f1: 0.7877 - rec@prec: 0.7833 - val_loss: 1.1880 - val_f1: 0.6558 - val_rec@prec: 0.5099\n",
            "Epoch 15/15\n",
            "211/211 [==============================] - 29s 137ms/step - loss: 0.6600 - f1: 0.8054 - rec@prec: 0.8132 - val_loss: 1.2430 - val_f1: 0.6656 - val_rec@prec: 0.5068\n"
          ]
        },
        {
          "output_type": "execute_result",
          "data": {
            "text/plain": [
              "<keras.callbacks.History at 0x7fb16c2ef8b0>"
            ]
          },
          "metadata": {},
          "execution_count": 39
        }
      ]
    },
    {
      "cell_type": "code",
      "source": [
        "plt.plot(model.history.history['f1'])\n",
        "plt.plot(model.history.history['val_f1'])\n",
        "plt.title('model f1')\n",
        "plt.ylabel('f1')\n",
        "plt.xlabel('epoch')\n",
        "plt.legend(['train', 'val'], loc='upper left')\n",
        "plt.show()"
      ],
      "metadata": {
        "id": "uSH66SmwPCua",
        "colab": {
          "base_uri": "https://localhost:8080/",
          "height": 472
        },
        "outputId": "4261a459-a24b-4930-9421-c681de5275b9"
      },
      "execution_count": 40,
      "outputs": [
        {
          "output_type": "display_data",
          "data": {
            "text/plain": [
              "<Figure size 640x480 with 1 Axes>"
            ],
            "image/png": "[encoded data removed]"
          },
          "metadata": {}
        }
      ]
    },
    {
      "cell_type": "markdown",
      "source": [
        "Качество почти такое, как у предыдущей модели. А какая картинка обучения выглядит лучше? Вот на этой линии в конце идут вверх, то есть можно было ещё несколько эпох пообучать и немного качество, наверно, улучшилось бы."
      ],
      "metadata": {
        "id": "DiUk_zUUkzNt"
      }
    },
    {
      "cell_type": "markdown",
      "source": [
        "### модель 1 BIGRU и 1 BILSTM слоями, причем так, чтобы модели для forward и backward прохода отличались"
      ],
      "metadata": {
        "id": "ZddGltp6PLqC"
      }
    },
    {
      "cell_type": "code",
      "execution_count": null,
      "metadata": {
        "id": "N7IY1SGCF6Z_"
      },
      "outputs": [],
      "source": [
        "inputs = tf.keras.layers.Input(shape=(MAX_LEN,))\n",
        "embeddings = tf.keras.layers.Embedding(input_dim=len(word2id), output_dim=50)(inputs, )\n",
        "\n",
        "bigru = tf.keras.layers.Bidirectional(\n",
        "                                    tf.keras.layers.GRU(128, return_sequences=True),\n",
        "                        backward_layer=tf.keras.layers.GRU(256, return_sequences=True,\n",
        "                                                            go_backwards=True))(embeddings)\n",
        "bilstm = tf.keras.layers.Bidirectional(\n",
        "                                       tf.keras.layers.LSTM(128, return_sequences=False),\n",
        "                        backward_layer=tf.keras.layers.LSTM(256, return_sequences=False,\n",
        "                                                            go_backwards=True))(bigru)\n",
        "\n",
        "outputs = tf.keras.layers.Dense(len(label2id), activation='softmax')(bilstm)\n",
        "\n",
        "model = tf.keras.Model(inputs=inputs, outputs=outputs)\n",
        "\n",
        "model.compile(optimizer='rmsprop',\n",
        "              loss='categorical_crossentropy',\n",
        "              metrics=[f1, tf.keras.metrics.RecallAtPrecision(0.8, name='rec@prec')])\n"
      ]
    },
    {
      "cell_type": "code",
      "execution_count": null,
      "metadata": {
        "scrolled": true,
        "id": "9DePGBB4F6aA",
        "outputId": "43d96786-399b-4408-a632-0c74b5ab640a"
      },
      "outputs": [
        {
          "name": "stdout",
          "output_type": "stream",
          "text": [
            "Epoch 1/10\n"
          ]
        },
        {
          "name": "stderr",
          "output_type": "stream",
          "text": [
            "2023-02-08 14:55:39.922753: I tensorflow/core/grappler/optimizers/custom_graph_optimizer_registry.cc:113] Plugin optimizer for device_type GPU is enabled.\n",
            "2023-02-08 14:55:40.329605: I tensorflow/core/grappler/optimizers/custom_graph_optimizer_registry.cc:113] Plugin optimizer for device_type GPU is enabled.\n",
            "2023-02-08 14:55:40.340415: I tensorflow/core/grappler/optimizers/custom_graph_optimizer_registry.cc:113] Plugin optimizer for device_type GPU is enabled.\n",
            "2023-02-08 14:55:41.228043: I tensorflow/core/grappler/optimizers/custom_graph_optimizer_registry.cc:113] Plugin optimizer for device_type GPU is enabled.\n",
            "2023-02-08 14:55:41.243037: I tensorflow/core/grappler/optimizers/custom_graph_optimizer_registry.cc:113] Plugin optimizer for device_type GPU is enabled.\n"
          ]
        },
        {
          "name": "stdout",
          "output_type": "stream",
          "text": [
            "211/211 [==============================] - ETA: 0s - loss: 2.1624 - f1: 0.0134 - rec@prec: 1.1866e-04"
          ]
        },
        {
          "name": "stderr",
          "output_type": "stream",
          "text": [
            "2023-02-08 14:56:31.820715: I tensorflow/core/grappler/optimizers/custom_graph_optimizer_registry.cc:113] Plugin optimizer for device_type GPU is enabled.\n",
            "2023-02-08 14:56:31.962997: I tensorflow/core/grappler/optimizers/custom_graph_optimizer_registry.cc:113] Plugin optimizer for device_type GPU is enabled.\n",
            "2023-02-08 14:56:31.984077: I tensorflow/core/grappler/optimizers/custom_graph_optimizer_registry.cc:113] Plugin optimizer for device_type GPU is enabled.\n"
          ]
        },
        {
          "name": "stdout",
          "output_type": "stream",
          "text": [
            "211/211 [==============================] - 56s 247ms/step - loss: 2.1624 - f1: 0.0134 - rec@prec: 1.1866e-04 - val_loss: 1.9003 - val_f1: 0.0730 - val_rec@prec: 0.0654\n",
            "Epoch 2/10\n",
            "211/211 [==============================] - 46s 218ms/step - loss: 1.6782 - f1: 0.2219 - rec@prec: 0.1038 - val_loss: 1.7796 - val_f1: 0.2734 - val_rec@prec: 0.1506\n",
            "Epoch 3/10\n",
            "211/211 [==============================] - 46s 219ms/step - loss: 1.4556 - f1: 0.4397 - rec@prec: 0.2027 - val_loss: 1.5384 - val_f1: 0.4130 - val_rec@prec: 0.2408\n",
            "Epoch 4/10\n",
            "211/211 [==============================] - 45s 215ms/step - loss: 1.2103 - f1: 0.5949 - rec@prec: 0.4487 - val_loss: 1.5127 - val_f1: 0.5365 - val_rec@prec: 0.0857\n",
            "Epoch 5/10\n",
            "211/211 [==============================] - 46s 216ms/step - loss: 1.0593 - f1: 0.6695 - rec@prec: 0.5816 - val_loss: 1.3573 - val_f1: 0.5289 - val_rec@prec: 0.2719\n",
            "Epoch 6/10\n",
            "211/211 [==============================] - 46s 218ms/step - loss: 0.9084 - f1: 0.7219 - rec@prec: 0.6756 - val_loss: 1.2482 - val_f1: 0.6251 - val_rec@prec: 0.4716\n",
            "Epoch 7/10\n",
            "211/211 [==============================] - 45s 214ms/step - loss: 0.7917 - f1: 0.7589 - rec@prec: 0.7444 - val_loss: 1.2693 - val_f1: 0.6063 - val_rec@prec: 0.4734\n",
            "Epoch 8/10\n",
            "211/211 [==============================] - 45s 215ms/step - loss: 0.6952 - f1: 0.7938 - rec@prec: 0.7972 - val_loss: 1.1232 - val_f1: 0.6913 - val_rec@prec: 0.5739\n",
            "Epoch 9/10\n",
            "211/211 [==============================] - 45s 214ms/step - loss: 0.6066 - f1: 0.8224 - rec@prec: 0.8405 - val_loss: 1.2264 - val_f1: 0.6432 - val_rec@prec: 0.5126\n",
            "Epoch 10/10\n",
            "211/211 [==============================] - 46s 217ms/step - loss: 0.5204 - f1: 0.8500 - rec@prec: 0.8798 - val_loss: 1.4195 - val_f1: 0.6537 - val_rec@prec: 0.4675\n"
          ]
        },
        {
          "data": {
            "text/plain": [
              "<keras.callbacks.History at 0x2f166d130>"
            ]
          },
          "execution_count": 61,
          "metadata": {},
          "output_type": "execute_result"
        }
      ],
      "source": [
        "model.fit(X_train, y_train,\n",
        "          validation_data=(X_valid, y_valid),\n",
        "          batch_size=200,\n",
        "          epochs=10)"
      ]
    },
    {
      "cell_type": "code",
      "execution_count": null,
      "metadata": {
        "id": "VTZURQjvF6aA",
        "outputId": "a88af397-7efa-4649-fa40-d4ca535d1777"
      },
      "outputs": [
        {
          "name": "stdout",
          "output_type": "stream",
          "text": [
            "dict_keys(['loss', 'f1', 'rec@prec', 'val_loss', 'val_f1', 'val_rec@prec'])\n"
          ]
        },
        {
          "data": {
            "image/png": "[encoded data removed]",
            "text/plain": [
              "<Figure size 640x480 with 1 Axes>"
            ]
          },
          "metadata": {},
          "output_type": "display_data"
        }
      ],
      "source": [
        "plt.plot(model.history.history['f1'])\n",
        "plt.plot(model.history.history['val_f1'])\n",
        "plt.title('model f1')\n",
        "plt.ylabel('f1')\n",
        "plt.xlabel('epoch')\n",
        "plt.legend(['train', 'val'], loc='upper left')\n",
        "plt.show()"
      ]
    },
    {
      "cell_type": "markdown",
      "source": [
        "У предыдущей качество лучше было"
      ],
      "metadata": {
        "id": "Fp7CRg3InpBu"
      }
    },
    {
      "cell_type": "markdown",
      "source": [
        "### модель, где последовательно идут слои: LSTM, GRU, BILSTM, BIGRU, GRU, LSTM"
      ],
      "metadata": {
        "id": "oQqMyc_2QpQs"
      }
    },
    {
      "cell_type": "code",
      "source": [
        "inputs = tf.keras.layers.Input(shape=(MAX_LEN,))\n",
        "embeddings = tf.keras.layers.Embedding(input_dim=len(word2id), output_dim=50)(inputs, )\n",
        "\n",
        "lstm_1 = tf.keras.layers.LSTM(128, return_sequences=True)(embeddings)\n",
        "\n",
        "gru_1 = tf.keras.layers.GRU(128, return_sequences=True)(lstm_1)\n",
        "\n",
        "bilstm = tf.keras.layers.Bidirectional(\n",
        "                                       tf.keras.layers.LSTM(128, return_sequences=True),\n",
        "                        backward_layer=tf.keras.layers.LSTM(64, return_sequences=True,\n",
        "                                                            go_backwards=True))(gru_1)\n",
        "bigru = tf.keras.layers.Bidirectional(\n",
        "                                    tf.keras.layers.GRU(128, return_sequences=True),\n",
        "                        backward_layer=tf.keras.layers.GRU(64, return_sequences=True,\n",
        "                                                            go_backwards=True))(bilstm)\n",
        "\n",
        "\n",
        "gru_2 = tf.keras.layers.GRU(128, return_sequences=True)(bigru)\n",
        "\n",
        "lstm_2 = tf.keras.layers.LSTM(128, return_sequences=False)(gru_2)\n",
        "\n",
        "outputs = tf.keras.layers.Dense(len(label2id), activation='softmax')(lstm_2)\n",
        "\n",
        "model = tf.keras.Model(inputs=inputs, outputs=outputs)\n",
        "\n",
        "model.compile(optimizer='rmsprop',\n",
        "              loss='categorical_crossentropy',\n",
        "              metrics=[f1, tf.keras.metrics.RecallAtPrecision(0.8, name='rec@prec')])\n"
      ],
      "metadata": {
        "id": "n7q2strnQour"
      },
      "execution_count": 56,
      "outputs": []
    },
    {
      "cell_type": "code",
      "source": [
        "model.fit(X_train, y_train,\n",
        "          validation_data=(X_valid, y_valid),\n",
        "          batch_size=200,\n",
        "          epochs=10)"
      ],
      "metadata": {
        "id": "NYf_2PhBR4sR",
        "colab": {
          "base_uri": "https://localhost:8080/"
        },
        "outputId": "74e93466-68de-4f65-aae5-cc7cc92ebd32"
      },
      "execution_count": 57,
      "outputs": [
        {
          "output_type": "stream",
          "name": "stdout",
          "text": [
            "Epoch 1/10\n",
            "211/211 [==============================] - 68s 241ms/step - loss: 2.3405 - f1: 0.0000e+00 - rec@prec: 0.0000e+00 - val_loss: 2.2272 - val_f1: 0.0000e+00 - val_rec@prec: 0.0000e+00\n",
            "Epoch 2/10\n",
            "211/211 [==============================] - 41s 194ms/step - loss: 2.0237 - f1: 0.0246 - rec@prec: 0.0062 - val_loss: 1.8166 - val_f1: 0.1160 - val_rec@prec: 0.0622\n",
            "Epoch 3/10\n",
            "211/211 [==============================] - 34s 163ms/step - loss: 1.7540 - f1: 0.1340 - rec@prec: 0.0700 - val_loss: 1.8389 - val_f1: 0.2385 - val_rec@prec: 0.1172\n",
            "Epoch 4/10\n",
            "211/211 [==============================] - 34s 161ms/step - loss: 1.5120 - f1: 0.2980 - rec@prec: 0.1574 - val_loss: 1.4434 - val_f1: 0.3714 - val_rec@prec: 0.1894\n",
            "Epoch 5/10\n",
            "211/211 [==============================] - 32s 150ms/step - loss: 1.3277 - f1: 0.5048 - rec@prec: 0.2456 - val_loss: 1.3550 - val_f1: 0.5365 - val_rec@prec: 0.2412\n",
            "Epoch 6/10\n",
            "211/211 [==============================] - 31s 146ms/step - loss: 1.1811 - f1: 0.5954 - rec@prec: 0.3909 - val_loss: 1.4242 - val_f1: 0.5047 - val_rec@prec: 0.2674\n",
            "Epoch 7/10\n",
            "211/211 [==============================] - 29s 136ms/step - loss: 1.0703 - f1: 0.6558 - rec@prec: 0.5204 - val_loss: 1.2467 - val_f1: 0.6273 - val_rec@prec: 0.3738\n",
            "Epoch 8/10\n",
            "211/211 [==============================] - 29s 138ms/step - loss: 0.9620 - f1: 0.6982 - rec@prec: 0.6138 - val_loss: 1.0852 - val_f1: 0.6836 - val_rec@prec: 0.5640\n",
            "Epoch 9/10\n",
            "211/211 [==============================] - 29s 136ms/step - loss: 0.8659 - f1: 0.7359 - rec@prec: 0.6860 - val_loss: 1.1699 - val_f1: 0.6561 - val_rec@prec: 0.4509\n",
            "Epoch 10/10\n",
            "211/211 [==============================] - 28s 133ms/step - loss: 0.7880 - f1: 0.7653 - rec@prec: 0.7419 - val_loss: 1.0587 - val_f1: 0.6761 - val_rec@prec: 0.5455\n"
          ]
        },
        {
          "output_type": "execute_result",
          "data": {
            "text/plain": [
              "<keras.callbacks.History at 0x7fb111399ab0>"
            ]
          },
          "metadata": {},
          "execution_count": 57
        }
      ]
    },
    {
      "cell_type": "code",
      "source": [
        "plt.plot(model.history.history['f1'])\n",
        "plt.plot(model.history.history['val_f1'])\n",
        "plt.title('model f1')\n",
        "plt.ylabel('f1')\n",
        "plt.xlabel('epoch')\n",
        "plt.legend(['train', 'val'], loc='upper left')\n",
        "plt.show()"
      ],
      "metadata": {
        "id": "XU46mZFxR7uL",
        "colab": {
          "base_uri": "https://localhost:8080/",
          "height": 472
        },
        "outputId": "6065b149-aa58-4c65-f08d-70ae1714a379"
      },
      "execution_count": 58,
      "outputs": [
        {
          "output_type": "display_data",
          "data": {
            "text/plain": [
              "<Figure size 640x480 with 1 Axes>"
            ],
            "image/png": "[encoded data removed]"
          },
          "metadata": {}
        }
      ]
    },
    {
      "cell_type": "markdown",
      "source": [
        "Качество хорошее. Если дальше обучать, качество будет падать, проверила"
      ],
      "metadata": {
        "id": "_za9SqLksHtk"
      }
    },
    {
      "cell_type": "markdown",
      "metadata": {
        "id": "rsCZCFwNF6aA"
      },
      "source": [
        "# Sequence labelling"
      ]
    },
    {
      "cell_type": "markdown",
      "metadata": {
        "id": "8qEFPsgjF6aB"
      },
      "source": [
        "Данные возьмем из бибиотеки datasets (часть huggingface)"
      ]
    },
    {
      "cell_type": "code",
      "execution_count": 44,
      "metadata": {
        "scrolled": true,
        "id": "Qwu9HpMIF6aC",
        "outputId": "7aa9077d-8002-40d8-a14f-0eeeaaca8264",
        "colab": {
          "base_uri": "https://localhost:8080/"
        }
      },
      "outputs": [
        {
          "output_type": "stream",
          "name": "stdout",
          "text": [
            "Looking in indexes: https://pypi.org/simple, https://us-python.pkg.dev/colab-wheels/public/simple/\n",
            "Collecting datasets\n",
            "  Downloading datasets-2.13.1-py3-none-any.whl (486 kB)\n",
            "\u001b[2K     \u001b[90m━━━━━━━━━━━━━━━━━━━━━━━━━━━━━━━━━━━━━━\u001b[0m \u001b[32m486.2/486.2 kB\u001b[0m \u001b[31m17.9 MB/s\u001b[0m eta \u001b[36m0:00:00\u001b[0m\n",
            "\u001b[?25hRequirement already satisfied: numpy>=1.17 in /usr/local/lib/python3.10/dist-packages (from datasets) (1.22.4)\n",
            "Requirement already satisfied: pyarrow>=8.0.0 in /usr/local/lib/python3.10/dist-packages (from datasets) (9.0.0)\n",
            "Collecting dill<0.3.7,>=0.3.0 (from datasets)\n",
            "  Downloading dill-0.3.6-py3-none-any.whl (110 kB)\n",
            "\u001b[2K     \u001b[90m━━━━━━━━━━━━━━━━━━━━━━━━━━━━━━━━━━━━━━\u001b[0m \u001b[32m110.5/110.5 kB\u001b[0m \u001b[31m15.6 MB/s\u001b[0m eta \u001b[36m0:00:00\u001b[0m\n",
            "\u001b[?25hRequirement already satisfied: pandas in /usr/local/lib/python3.10/dist-packages (from datasets) (1.5.3)\n",
            "Requirement already satisfied: requests>=2.19.0 in /usr/local/lib/python3.10/dist-packages (from datasets) (2.27.1)\n",
            "Requirement already satisfied: tqdm>=4.62.1 in /usr/local/lib/python3.10/dist-packages (from datasets) (4.65.0)\n",
            "Collecting xxhash (from datasets)\n",
            "  Downloading xxhash-3.2.0-cp310-cp310-manylinux_2_17_x86_64.manylinux2014_x86_64.whl (212 kB)\n",
            "\u001b[2K     \u001b[90m━━━━━━━━━━━━━━━━━━━━━━━━━━━━━━━━━━━━━━\u001b[0m \u001b[32m212.5/212.5 kB\u001b[0m \u001b[31m27.3 MB/s\u001b[0m eta \u001b[36m0:00:00\u001b[0m\n",
            "\u001b[?25hCollecting multiprocess (from datasets)\n",
            "  Downloading multiprocess-0.70.14-py310-none-any.whl (134 kB)\n",
            "\u001b[2K     \u001b[90m━━━━━━━━━━━━━━━━━━━━━━━━━━━━━━━━━━━━━━\u001b[0m \u001b[32m134.3/134.3 kB\u001b[0m \u001b[31m18.2 MB/s\u001b[0m eta \u001b[36m0:00:00\u001b[0m\n",
            "\u001b[?25hRequirement already satisfied: fsspec[http]>=2021.11.1 in /usr/local/lib/python3.10/dist-packages (from datasets) (2023.6.0)\n",
            "Collecting aiohttp (from datasets)\n",
            "  Downloading aiohttp-3.8.4-cp310-cp310-manylinux_2_17_x86_64.manylinux2014_x86_64.whl (1.0 MB)\n",
            "\u001b[2K     \u001b[90m━━━━━━━━━━━━━━━━━━━━━━━━━━━━━━━━━━━━━━━━\u001b[0m \u001b[32m1.0/1.0 MB\u001b[0m \u001b[31m39.9 MB/s\u001b[0m eta \u001b[36m0:00:00\u001b[0m\n",
            "\u001b[?25hCollecting huggingface-hub<1.0.0,>=0.11.0 (from datasets)\n",
            "  Downloading huggingface_hub-0.15.1-py3-none-any.whl (236 kB)\n",
            "\u001b[2K     \u001b[90m━━━━━━━━━━━━━━━━━━━━━━━━━━━━━━━━━━━━━━\u001b[0m \u001b[32m236.8/236.8 kB\u001b[0m \u001b[31m28.8 MB/s\u001b[0m eta \u001b[36m0:00:00\u001b[0m\n",
            "\u001b[?25hRequirement already satisfied: packaging in /usr/local/lib/python3.10/dist-packages (from datasets) (23.1)\n",
            "Requirement already satisfied: pyyaml>=5.1 in /usr/local/lib/python3.10/dist-packages (from datasets) (6.0)\n",
            "Requirement already satisfied: attrs>=17.3.0 in /usr/local/lib/python3.10/dist-packages (from aiohttp->datasets) (23.1.0)\n",
            "Requirement already satisfied: charset-normalizer<4.0,>=2.0 in /usr/local/lib/python3.10/dist-packages (from aiohttp->datasets) (2.0.12)\n",
            "Collecting multidict<7.0,>=4.5 (from aiohttp->datasets)\n",
            "  Downloading multidict-6.0.4-cp310-cp310-manylinux_2_17_x86_64.manylinux2014_x86_64.whl (114 kB)\n",
            "\u001b[2K     \u001b[90m━━━━━━━━━━━━━━━━━━━━━━━━━━━━━━━━━━━━━━\u001b[0m \u001b[32m114.5/114.5 kB\u001b[0m \u001b[31m16.6 MB/s\u001b[0m eta \u001b[36m0:00:00\u001b[0m\n",
            "\u001b[?25hCollecting async-timeout<5.0,>=4.0.0a3 (from aiohttp->datasets)\n",
            "  Downloading async_timeout-4.0.2-py3-none-any.whl (5.8 kB)\n",
            "Collecting yarl<2.0,>=1.0 (from aiohttp->datasets)\n",
            "  Downloading yarl-1.9.2-cp310-cp310-manylinux_2_17_x86_64.manylinux2014_x86_64.whl (268 kB)\n",
            "\u001b[2K     \u001b[90m━━━━━━━━━━━━━━━━━━━━━━━━━━━━━━━━━━━━━━\u001b[0m \u001b[32m268.8/268.8 kB\u001b[0m \u001b[31m35.3 MB/s\u001b[0m eta \u001b[36m0:00:00\u001b[0m\n",
            "\u001b[?25hCollecting frozenlist>=1.1.1 (from aiohttp->datasets)\n",
            "  Downloading frozenlist-1.3.3-cp310-cp310-manylinux_2_5_x86_64.manylinux1_x86_64.manylinux_2_17_x86_64.manylinux2014_x86_64.whl (149 kB)\n",
            "\u001b[2K     \u001b[90m━━━━━━━━━━━━━━━━━━━━━━━━━━━━━━━━━━━━━━\u001b[0m \u001b[32m149.6/149.6 kB\u001b[0m \u001b[31m22.1 MB/s\u001b[0m eta \u001b[36m0:00:00\u001b[0m\n",
            "\u001b[?25hCollecting aiosignal>=1.1.2 (from aiohttp->datasets)\n",
            "  Downloading aiosignal-1.3.1-py3-none-any.whl (7.6 kB)\n",
            "Requirement already satisfied: filelock in /usr/local/lib/python3.10/dist-packages (from huggingface-hub<1.0.0,>=0.11.0->datasets) (3.12.2)\n",
            "Requirement already satisfied: typing-extensions>=3.7.4.3 in /usr/local/lib/python3.10/dist-packages (from huggingface-hub<1.0.0,>=0.11.0->datasets) (4.6.3)\n",
            "Requirement already satisfied: urllib3<1.27,>=1.21.1 in /usr/local/lib/python3.10/dist-packages (from requests>=2.19.0->datasets) (1.26.16)\n",
            "Requirement already satisfied: certifi>=2017.4.17 in /usr/local/lib/python3.10/dist-packages (from requests>=2.19.0->datasets) (2023.5.7)\n",
            "Requirement already satisfied: idna<4,>=2.5 in /usr/local/lib/python3.10/dist-packages (from requests>=2.19.0->datasets) (3.4)\n",
            "Requirement already satisfied: python-dateutil>=2.8.1 in /usr/local/lib/python3.10/dist-packages (from pandas->datasets) (2.8.2)\n",
            "Requirement already satisfied: pytz>=2020.1 in /usr/local/lib/python3.10/dist-packages (from pandas->datasets) (2022.7.1)\n",
            "Requirement already satisfied: six>=1.5 in /usr/local/lib/python3.10/dist-packages (from python-dateutil>=2.8.1->pandas->datasets) (1.16.0)\n",
            "Installing collected packages: xxhash, multidict, frozenlist, dill, async-timeout, yarl, multiprocess, huggingface-hub, aiosignal, aiohttp, datasets\n",
            "Successfully installed aiohttp-3.8.4 aiosignal-1.3.1 async-timeout-4.0.2 datasets-2.13.1 dill-0.3.6 frozenlist-1.3.3 huggingface-hub-0.15.1 multidict-6.0.4 multiprocess-0.70.14 xxhash-3.2.0 yarl-1.9.2\n"
          ]
        }
      ],
      "source": [
        "!pip install datasets"
      ]
    },
    {
      "cell_type": "code",
      "execution_count": 45,
      "metadata": {
        "id": "-5ecMFzJF6aC"
      },
      "outputs": [],
      "source": [
        "from datasets import load_dataset"
      ]
    },
    {
      "cell_type": "markdown",
      "metadata": {
        "id": "Odg0brVAF6aC"
      },
      "source": [
        "В этой библиотеке несколько датасетов для именованных сущностей. Мы возьмем датасет, собранный по википедии. Он мультиязычный, но для семинара мы возьмем только русскую часть."
      ]
    },
    {
      "cell_type": "code",
      "execution_count": 46,
      "metadata": {
        "colab": {
          "referenced_widgets": [
            "af671de59cd3455ca0dcad341cba1290",
            "accba9393b5e4fdba1c838c22cf61a86",
            "74f5eaea925d46c3a230c27d2f13efe0",
            "b9d435fbe22f4e3ca1480f7cbb93dfd4",
            "03fdd19b1f984e12bc9fa46862017b4b",
            "dd29a35818604480810584f35e20d413",
            "f2c090dabb43402094bbfad1d62aa474",
            "78bd8bf7dbc2478e9b984ead739b4905",
            "a025e657a94b4ad383dd62e75f9163bf",
            "1346867025ab460e863a30e3a9536b7e",
            "b185b45a79fb4e36ab7b8831862552a4",
            "969ed549cab4427f87957e58bb61af51",
            "803bdc2fee854ec991896a41f5fdd22c",
            "26fffa659f6e4470b928c3e0b44ca6f8",
            "de2809c400934a80b61c5a746e07feb1",
            "c4553e2ec74c4c139b90d840cc7fdfec",
            "f13bd97214fb40d1b3003eb21f177a22",
            "69d5ca3eb6c245ee97fec6ca6d4723d3",
            "0d41a819fc5148a58e334a31e37b5750",
            "68392b9096e64c549dfdb2a49c5563bf",
            "faa3b1acdc354473be3c9de30f0846cc",
            "d90ed52afd5a4ddd914ce7af68171b11",
            "383c31ea7eab4d2f8b6af7d239ff5807",
            "0c302dbca28c4fe9bdb16a197ad22a8d",
            "3145f9fca5594e69ac39eef147d9b93f",
            "8ec84307c91d4c00963f8b4dbf22ad45",
            "6cbe7268120249b0b0ae8cd3ef063b83",
            "560c7ba7e81b4fd5813a8186b7004c1b",
            "9c27fdcbe80b4301bfd4a4a62e2f1c1d",
            "e01617ee942c4991b0a00a9113ce7544",
            "5bba76398fd440f3816101106f4cb8e0",
            "0d10dd9ac00e4d35b12e51886a217d01",
            "db2ce77f4df14bebb99cbdeb03ec1c04",
            "497004ab76094d689b51fcd35ff5b283",
            "0647aa481b0d433b82e6f0c28d5b6ffd",
            "e0a13e1cddb242e790f24535d84ff359",
            "08a0e1015c52477eac4d07e9daee0aba",
            "e9c19d449f8f49e885e393fe6d30adc8",
            "ac010d026eec42529bad7a2475923080",
            "a4129ae82e634391980684a9098af556",
            "ffc04337278b4ab181635ca68cdda578",
            "3248c2569ae24514b012a3205695fd73",
            "dff928aff299425093ec2b0b14ca1027",
            "8ab22b319c2c49409d7bb6e7b6aff6c3",
            "59bca78bcc2e4e0795c88688e9b10e07",
            "ca6da81fc071497bb82f747bcfb9e088",
            "73a440a689b646cea1bcb37b410105f2",
            "5bc904ba00b345e5b9511d2d12efcf56",
            "c4ab500ff6de4c07b2dfcf3b64fcfcc4",
            "28b4e8abc4d348daa5ed13364f7d31de",
            "5db5a7311c1d485aaa858313db3a5d51",
            "b2de628b8cf04a8ead3bc54601cd54bc",
            "1ec8eed0c4a647288d199a9f8adf4740",
            "74631b499bb8426a89bad31cc4e88e59",
            "c51dbcd1d2284b069b32ebfc138a7504",
            "de38081d7dca4884a867b4ed39529123",
            "5d52f5108aaf4c989bfcaaf76030fb02",
            "a4389323b38647c8874e979eb087d4dc",
            "9161c8c759f34df7a7b1ed61291083c2",
            "2e2a436a38c04b6180ce797634e43230",
            "3648d3e6ba9e4ad2b5f6ccb3bdfc3354",
            "04b2351a735f4f15b89d871aa14f5003",
            "ae801c35190542b58e5e171f13d143b4",
            "e5754aff1c4042c1a64c744bf26c980b",
            "08b4d707451947e0a1fc3ee289f0a88f",
            "1ebba16e5a604abe8a7252111574ac34",
            "a036b05c5a4244948b1b2fbefe26715a",
            "be0d3bebea5b473e8cae301d7752b53e",
            "7636dc3f000b446a9562b70105209065",
            "de339b41abd84f50a7273abad84ffc7c",
            "47188a35d2ae47268858df9bd75f46d4",
            "73ab6b62f94e4bf8b92b5d4f0373ead6",
            "604a984310b041a099e2e404a2e0c4f3",
            "384172ddd8ef4f29a09f1db53baa14e5",
            "739b8462f85043f1aacb7eff1d05c0e5",
            "2be51d7fe32a4a558d199a3466208baa",
            "148a1c4469d7429ba612539264c20009",
            "955298786e2c45f3bcb3f909073c38df",
            "0e7bcb07c9914227abebd6506e6ce9ab",
            "14bdc6a1cde441d68b76a661342a049b",
            "8dafad88661d4e1ebc97980e46f0034e",
            "407c9d4ed8c84af2b51e889b744caa2e",
            "8d2ed34af86c4ffab3db8f9188193425",
            "e90e9daef74f48d8990ef218fa42c7e9",
            "90271613019542e0a778bf51236b78c5",
            "07c04aeb319645048fea72b1e45cc42a",
            "b2b90d6a2322434488ed3b1f02f2f315",
            "8ed824280d3343eb9fcc8072b8206315"
          ],
          "base_uri": "https://localhost:8080/",
          "height": 232
        },
        "id": "NX6HG08_F6aC",
        "outputId": "e2aa9ba5-f53d-49dc-ebbc-89b713ffa6b4"
      },
      "outputs": [
        {
          "output_type": "display_data",
          "data": {
            "text/plain": [
              "Downloading builder script: 0.00B [00:00, ?B/s]"
            ],
            "application/vnd.jupyter.widget-view+json": {
              "version_major": 2,
              "version_minor": 0,
              "model_id": "af671de59cd3455ca0dcad341cba1290"
            }
          },
          "metadata": {}
        },
        {
          "output_type": "display_data",
          "data": {
            "text/plain": [
              "Downloading metadata: 0.00B [00:00, ?B/s]"
            ],
            "application/vnd.jupyter.widget-view+json": {
              "version_major": 2,
              "version_minor": 0,
              "model_id": "969ed549cab4427f87957e58bb61af51"
            }
          },
          "metadata": {}
        },
        {
          "output_type": "display_data",
          "data": {
            "text/plain": [
              "Downloading readme: 0.00B [00:00, ?B/s]"
            ],
            "application/vnd.jupyter.widget-view+json": {
              "version_major": 2,
              "version_minor": 0,
              "model_id": "383c31ea7eab4d2f8b6af7d239ff5807"
            }
          },
          "metadata": {}
        },
        {
          "output_type": "stream",
          "name": "stdout",
          "text": [
            "Downloading and preparing dataset wikiann/ru to /root/.cache/huggingface/datasets/wikiann/ru/1.1.0/4bfd4fe4468ab78bb6e096968f61fab7a888f44f9d3371c2f3fea7e74a5a354e...\n"
          ]
        },
        {
          "output_type": "display_data",
          "data": {
            "text/plain": [
              "Downloading data:   0%|          | 0.00/234M [00:00<?, ?B/s]"
            ],
            "application/vnd.jupyter.widget-view+json": {
              "version_major": 2,
              "version_minor": 0,
              "model_id": "497004ab76094d689b51fcd35ff5b283"
            }
          },
          "metadata": {}
        },
        {
          "output_type": "display_data",
          "data": {
            "text/plain": [
              "Generating validation split:   0%|          | 0/10000 [00:00<?, ? examples/s]"
            ],
            "application/vnd.jupyter.widget-view+json": {
              "version_major": 2,
              "version_minor": 0,
              "model_id": "59bca78bcc2e4e0795c88688e9b10e07"
            }
          },
          "metadata": {}
        },
        {
          "output_type": "display_data",
          "data": {
            "text/plain": [
              "Generating test split:   0%|          | 0/10000 [00:00<?, ? examples/s]"
            ],
            "application/vnd.jupyter.widget-view+json": {
              "version_major": 2,
              "version_minor": 0,
              "model_id": "de38081d7dca4884a867b4ed39529123"
            }
          },
          "metadata": {}
        },
        {
          "output_type": "display_data",
          "data": {
            "text/plain": [
              "Generating train split:   0%|          | 0/20000 [00:00<?, ? examples/s]"
            ],
            "application/vnd.jupyter.widget-view+json": {
              "version_major": 2,
              "version_minor": 0,
              "model_id": "a036b05c5a4244948b1b2fbefe26715a"
            }
          },
          "metadata": {}
        },
        {
          "output_type": "stream",
          "name": "stdout",
          "text": [
            "Dataset wikiann downloaded and prepared to /root/.cache/huggingface/datasets/wikiann/ru/1.1.0/4bfd4fe4468ab78bb6e096968f61fab7a888f44f9d3371c2f3fea7e74a5a354e. Subsequent calls will reuse this data.\n"
          ]
        },
        {
          "output_type": "display_data",
          "data": {
            "text/plain": [
              "  0%|          | 0/3 [00:00<?, ?it/s]"
            ],
            "application/vnd.jupyter.widget-view+json": {
              "version_major": 2,
              "version_minor": 0,
              "model_id": "955298786e2c45f3bcb3f909073c38df"
            }
          },
          "metadata": {}
        }
      ],
      "source": [
        "dataset = load_dataset(\"wikiann\", 'ru')"
      ]
    },
    {
      "cell_type": "markdown",
      "metadata": {
        "id": "om5JkROhF6aD"
      },
      "source": [
        "Датасет уже заранее разбит на трейн, валидацию и тест."
      ]
    },
    {
      "cell_type": "code",
      "execution_count": 47,
      "metadata": {
        "id": "wknLQanDF6aD",
        "outputId": "6066878e-1c84-45c7-9ab5-4d934696d20c",
        "colab": {
          "base_uri": "https://localhost:8080/"
        }
      },
      "outputs": [
        {
          "output_type": "execute_result",
          "data": {
            "text/plain": [
              "DatasetDict({\n",
              "    validation: Dataset({\n",
              "        features: ['tokens', 'ner_tags', 'langs', 'spans'],\n",
              "        num_rows: 10000\n",
              "    })\n",
              "    test: Dataset({\n",
              "        features: ['tokens', 'ner_tags', 'langs', 'spans'],\n",
              "        num_rows: 10000\n",
              "    })\n",
              "    train: Dataset({\n",
              "        features: ['tokens', 'ner_tags', 'langs', 'spans'],\n",
              "        num_rows: 20000\n",
              "    })\n",
              "})"
            ]
          },
          "metadata": {},
          "execution_count": 47
        }
      ],
      "source": [
        "dataset"
      ]
    },
    {
      "cell_type": "markdown",
      "metadata": {
        "id": "cXtZIJJKF6aH"
      },
      "source": [
        "Пример данных"
      ]
    },
    {
      "cell_type": "code",
      "execution_count": 48,
      "metadata": {
        "id": "hb5vW9wOF6aH",
        "outputId": "339cd562-6821-4757-d216-604fbd7b34f5",
        "colab": {
          "base_uri": "https://localhost:8080/"
        }
      },
      "outputs": [
        {
          "output_type": "execute_result",
          "data": {
            "text/plain": [
              "(['Илизаров', ',', 'Гавриил', 'Абрамович'], [1, 2, 2, 2])"
            ]
          },
          "metadata": {},
          "execution_count": 48
        }
      ],
      "source": [
        "dataset['train']['tokens'][0], dataset['train']['ner_tags'][0]"
      ]
    },
    {
      "cell_type": "code",
      "execution_count": 49,
      "metadata": {
        "id": "hV57hdq2F6aJ"
      },
      "outputs": [],
      "source": [
        "# словарь\n",
        "vocab = Counter()\n",
        "\n",
        "for sent in dataset['train']['tokens']:\n",
        "    vocab.update([x.lower() for x in sent])"
      ]
    },
    {
      "cell_type": "code",
      "execution_count": 50,
      "metadata": {
        "scrolled": true,
        "id": "8BD7BzAjF6aK",
        "outputId": "b68c04af-6414-40c0-bbbf-197e27854701",
        "colab": {
          "base_uri": "https://localhost:8080/"
        }
      },
      "outputs": [
        {
          "output_type": "execute_result",
          "data": {
            "text/plain": [
              "36015"
            ]
          },
          "metadata": {},
          "execution_count": 50
        }
      ],
      "source": [
        "# тут словарь не очень большой и тут нужно предсказывать тэги для всех слов\n",
        "# поэтому не будем фильтровать словарь\n",
        "len(vocab)"
      ]
    },
    {
      "cell_type": "code",
      "execution_count": 51,
      "metadata": {
        "id": "biUD1pG1F6aK"
      },
      "outputs": [],
      "source": [
        "# индексируем слова\n",
        "word2id = {'PAD':0, 'UNK':1}\n",
        "\n",
        "for word in vocab:\n",
        "    word2id[word] = len(word2id)"
      ]
    },
    {
      "cell_type": "code",
      "execution_count": 52,
      "metadata": {
        "id": "OM0Q-MsZF6aK"
      },
      "outputs": [],
      "source": [
        "id2word = {i:word for word, i in word2id.items()}"
      ]
    },
    {
      "cell_type": "code",
      "execution_count": 53,
      "metadata": {
        "id": "4JmnRjU9F6aL"
      },
      "outputs": [],
      "source": [
        "# переводим тексты в последовательности индексов\n",
        "X = []\n",
        "\n",
        "for sent in dataset['train']['tokens']:\n",
        "    tokens = [w.lower() for w in sent]\n",
        "    ids = [word2id.get(token, 1) for token in tokens]\n",
        "    X.append(ids)"
      ]
    },
    {
      "cell_type": "code",
      "execution_count": 59,
      "metadata": {
        "id": "8LYHaZsHF6aL"
      },
      "outputs": [],
      "source": [
        "# переводим тексты в последовательности индексов\n",
        "X_test = []\n",
        "\n",
        "for sent in dataset['test']['tokens']:\n",
        "    tokens = [w.lower() for w in sent]\n",
        "    ids = [word2id.get(token, 1) for token in tokens]\n",
        "    X_test.append(ids)"
      ]
    },
    {
      "cell_type": "code",
      "execution_count": 60,
      "metadata": {
        "id": "LWAp-y8IF6aL"
      },
      "outputs": [],
      "source": [
        "MAX_LEN = max(len(x) for x in X)\n",
        "\n",
        "# паддинг\n",
        "X = tf.keras.preprocessing.sequence.pad_sequences(X, maxlen=MAX_LEN, padding='post')\n",
        "X_test = tf.keras.preprocessing.sequence.pad_sequences(X_test, maxlen=MAX_LEN, padding='post')"
      ]
    },
    {
      "cell_type": "markdown",
      "metadata": {
        "id": "tHFXghbKF6aL"
      },
      "source": [
        "Теги уже переведены в индексы, но обратный маппинг мы тоже сделаем, чтобы дальше удобнее было проверять работу модели.\n",
        "Длина последовательностей тегов должна совпадать с длиной последовательностей токенов, поэтому тут тоже нужно сделать паддинг, но в этом случае мы не можем паддить нулями, т.к. ноль у нас уже забронирован тэгом O. Добавим дополнительный тэг пад и будем использовать его индекс при паддинге (value=7)"
      ]
    },
    {
      "cell_type": "code",
      "execution_count": 61,
      "metadata": {
        "id": "7q9LaBqtF6aM"
      },
      "outputs": [],
      "source": [
        "id2labels = {0:'O', 1:'B-PER', 2:'I-PER', 3:'B-ORG', 4:'I-ORG', 5: 'B-LOC', 6:'I-LOC', 7:'PAD'}\n",
        "label2id = {v:k for k,v in id2labels.items()}"
      ]
    },
    {
      "cell_type": "code",
      "execution_count": 62,
      "metadata": {
        "id": "2WnvQoa-F6aM"
      },
      "outputs": [],
      "source": [
        "y = tf.keras.preprocessing.sequence.pad_sequences(dataset['train']['ner_tags'], value=7,\n",
        "                                                  maxlen=MAX_LEN,  padding='post')\n",
        "y_test = tf.keras.preprocessing.sequence.pad_sequences(dataset['test']['ner_tags'], value=7,\n",
        "                                                       maxlen=MAX_LEN,  padding='post')"
      ]
    },
    {
      "cell_type": "markdown",
      "source": [
        "### модель в которой будут использованы предобученные эмбединги слов и несколько BILSTM слоев"
      ],
      "metadata": {
        "id": "Q6HzQ-BWbkIm"
      }
    },
    {
      "cell_type": "code",
      "source": [
        "import gensim"
      ],
      "metadata": {
        "id": "MJwPi2Bjtj6e"
      },
      "execution_count": 64,
      "outputs": []
    },
    {
      "cell_type": "code",
      "source": [
        "w2v = gensim.models.Word2Vec(dataset['train']['tokens'],\n",
        "                             vector_size=300,\n",
        "                             min_count=20,\n",
        "                             max_vocab_size=10000,\n",
        "                             window=5,\n",
        "                             epochs=7,\n",
        "                             sample=1e-5,\n",
        "                             sg=1)"
      ],
      "metadata": {
        "id": "v6UTQBs1tnfW"
      },
      "execution_count": 66,
      "outputs": []
    },
    {
      "cell_type": "code",
      "source": [
        "weights = np.zeros((len(word2id), 300))\n",
        "\n",
        "for word, i in word2id.items():\n",
        "    # вектор паддинга оставим нулевым\n",
        "    if word == 'PAD':\n",
        "        continue\n",
        "    try:\n",
        "        weights[i] = w2v.wv[word]\n",
        "\n",
        "    except KeyError:\n",
        "        continue\n",
        "        weights[i] = w2v.wv['cghvjb']"
      ],
      "metadata": {
        "id": "mHC2Gz4et003"
      },
      "execution_count": 69,
      "outputs": []
    },
    {
      "cell_type": "code",
      "execution_count": 71,
      "metadata": {
        "id": "Qs5p8EaTF6aN"
      },
      "outputs": [],
      "source": [
        "inputs = tf.keras.layers.Input(shape=(MAX_LEN,))\n",
        "embeddings = tf.keras.layers.Embedding(input_dim=len(word2id), output_dim=300,\n",
        "                                       trainable=True,\n",
        "                                       weights=[weights])(inputs, )\n",
        "\n",
        "lstm_1 = tf.keras.layers.Bidirectional(tf.keras.layers.LSTM(128, return_sequences=True))(embeddings)\n",
        "lstm_2 = tf.keras.layers.Bidirectional(tf.keras.layers.LSTM(256, return_sequences=True))(lstm_1)\n",
        "lstm_3 = tf.keras.layers.Bidirectional(tf.keras.layers.LSTM(128, return_sequences=True))(lstm_2)\n",
        "\n",
        "outputs = tf.keras.layers.Dense(len(label2id), activation='softmax')(lstm_3)\n",
        "\n",
        "model = tf.keras.Model(inputs=inputs, outputs=outputs)\n",
        "optimizer = tf.keras.optimizers.Adam()\n",
        "model.compile(optimizer='adam',\n",
        "              loss='sparse_categorical_crossentropy',\n",
        "              metrics=['accuracy'])"
      ]
    },
    {
      "cell_type": "code",
      "execution_count": 72,
      "metadata": {
        "scrolled": true,
        "id": "cC_m5kHmF6aO",
        "outputId": "76adaa22-304e-4ffa-e441-ce3b576f4690",
        "colab": {
          "base_uri": "https://localhost:8080/"
        }
      },
      "outputs": [
        {
          "output_type": "stream",
          "name": "stdout",
          "text": [
            "Epoch 1/8\n",
            "100/100 [==============================] - 40s 265ms/step - loss: 0.3025 - accuracy: 0.9204 - val_loss: 0.1542 - val_accuracy: 0.9523\n",
            "Epoch 2/8\n",
            "100/100 [==============================] - 15s 153ms/step - loss: 0.1298 - accuracy: 0.9585 - val_loss: 0.1117 - val_accuracy: 0.9642\n",
            "Epoch 3/8\n",
            "100/100 [==============================] - 12s 120ms/step - loss: 0.0858 - accuracy: 0.9726 - val_loss: 0.0865 - val_accuracy: 0.9736\n",
            "Epoch 4/8\n",
            "100/100 [==============================] - 9s 93ms/step - loss: 0.0454 - accuracy: 0.9858 - val_loss: 0.0606 - val_accuracy: 0.9805\n",
            "Epoch 5/8\n",
            "100/100 [==============================] - 10s 96ms/step - loss: 0.0181 - accuracy: 0.9946 - val_loss: 0.0630 - val_accuracy: 0.9796\n",
            "Epoch 6/8\n",
            "100/100 [==============================] - 9s 90ms/step - loss: 0.0090 - accuracy: 0.9975 - val_loss: 0.0659 - val_accuracy: 0.9808\n",
            "Epoch 7/8\n",
            "100/100 [==============================] - 9s 85ms/step - loss: 0.0053 - accuracy: 0.9986 - val_loss: 0.0700 - val_accuracy: 0.9807\n",
            "Epoch 8/8\n",
            "100/100 [==============================] - 9s 93ms/step - loss: 0.0037 - accuracy: 0.9990 - val_loss: 0.0730 - val_accuracy: 0.9818\n"
          ]
        },
        {
          "output_type": "execute_result",
          "data": {
            "text/plain": [
              "<keras.callbacks.History at 0x7fb22476c730>"
            ]
          },
          "metadata": {},
          "execution_count": 72
        }
      ],
      "source": [
        "model.fit(X, y,\n",
        "          validation_data=(X_test, y_test),\n",
        "          batch_size=200,\n",
        "          epochs=8)"
      ]
    },
    {
      "cell_type": "code",
      "execution_count": 73,
      "metadata": {
        "id": "atowSbYlF6aO",
        "outputId": "b5534322-4a31-4f8c-c422-711cbf3f3657",
        "colab": {
          "base_uri": "https://localhost:8080/",
          "height": 472
        }
      },
      "outputs": [
        {
          "output_type": "display_data",
          "data": {
            "text/plain": [
              "<Figure size 640x480 with 1 Axes>"
            ],
            "image/png": "[encoded data removed]"
          },
          "metadata": {}
        }
      ],
      "source": [
        "plt.plot(model.history.history['accuracy'])\n",
        "plt.plot(model.history.history['val_accuracy'])\n",
        "plt.title('model acc')\n",
        "plt.ylabel('accuracy')\n",
        "plt.xlabel('epoch')\n",
        "plt.legend(['train', 'val'], loc='upper left')\n",
        "plt.show()"
      ]
    },
    {
      "cell_type": "markdown",
      "metadata": {
        "id": "Sncl7t4vF6aO"
      },
      "source": [
        "Оценивать предсказания последовательностей нужно отдельно. Лучше конечно еще оценивать правильность всей последовательности, но пока сделаем только поэлементную оценку."
      ]
    },
    {
      "cell_type": "code",
      "execution_count": 74,
      "metadata": {
        "id": "3sBv9RrCF6aO"
      },
      "outputs": [],
      "source": [
        "from sklearn.metrics import classification_report"
      ]
    },
    {
      "cell_type": "code",
      "execution_count": 75,
      "metadata": {
        "id": "6s4Ft1TkF6aP",
        "outputId": "58f3606f-29ba-4819-a788-1196ffe9aa93",
        "colab": {
          "base_uri": "https://localhost:8080/"
        }
      },
      "outputs": [
        {
          "output_type": "stream",
          "name": "stdout",
          "text": [
            "313/313 [==============================] - 6s 11ms/step\n"
          ]
        }
      ],
      "source": [
        "pred = model.predict(X_test).argmax(2)"
      ]
    },
    {
      "cell_type": "code",
      "execution_count": 77,
      "metadata": {
        "id": "KZmFqA-vF6aP",
        "outputId": "10d39e7d-4b54-4a79-937e-aba23c1f24bf",
        "colab": {
          "base_uri": "https://localhost:8080/"
        }
      },
      "outputs": [
        {
          "output_type": "stream",
          "name": "stdout",
          "text": [
            "              precision    recall  f1-score   support\n",
            "\n",
            "           O       0.92      0.94      0.93     40480\n",
            "       B-PER       0.93      0.72      0.81      3542\n",
            "       I-PER       0.96      0.74      0.83      7544\n",
            "       B-ORG       0.56      0.76      0.65      4074\n",
            "       I-ORG       0.78      0.79      0.78      8008\n",
            "       B-LOC       0.71      0.77      0.74      4560\n",
            "       I-LOC       0.88      0.71      0.79      3060\n",
            "         PAD       1.00      1.00      1.00    468732\n",
            "\n",
            "    accuracy                           0.98    540000\n",
            "   macro avg       0.84      0.80      0.82    540000\n",
            "weighted avg       0.98      0.98      0.98    540000\n",
            "\n"
          ]
        }
      ],
      "source": [
        "print(classification_report(y_test.reshape(-1), pred.reshape(-1), labels=list(id2labels.keys()),\n",
        "                                                                     target_names=list(id2labels.values()),\n",
        "                                                                     zero_division=0))"
      ]
    },
    {
      "cell_type": "code",
      "execution_count": 78,
      "metadata": {
        "id": "hfIE0GVVF6aQ"
      },
      "outputs": [],
      "source": [
        "import re\n",
        "\n",
        "def tokenize(text, word2id):\n",
        "    # токенизирует и переводит в индексы\n",
        "    tokens = re.findall('\\w+|[^\\w\\s]+', text)\n",
        "    ids = [word2id.get(token.lower(), 1) for token in tokens]\n",
        "    return tokens, ids\n",
        "\n",
        "def pred2tags(pred, id2label, length):\n",
        "    # декодирует индексы в части речи\n",
        "    # length нужно чтобы откидывать паддинги или некорректные предсказания\n",
        "    pred = pred.argmax(2)[0, :length]\n",
        "    labels = [id2label[l] for l in pred]\n",
        "    return labels\n",
        "\n",
        "def label_seq(text, word2id, id2label, max_len, model):\n",
        "    tokens, ids = tokenize(text, word2id)\n",
        "    pred = model.predict(tf.keras.preprocessing.sequence.pad_sequences([ids],\n",
        "                                                                       maxlen=max_len,\n",
        "                                                                       padding='post'))\n",
        "    labels = pred2tags(pred, id2label, len(ids))\n",
        "    return list(zip(tokens, labels))"
      ]
    },
    {
      "cell_type": "code",
      "execution_count": 80,
      "metadata": {
        "id": "c09rMjh-F6aQ",
        "outputId": "bbb96d5d-23d2-4e77-92ed-3426d8895aec",
        "colab": {
          "base_uri": "https://localhost:8080/"
        }
      },
      "outputs": [
        {
          "output_type": "stream",
          "name": "stdout",
          "text": [
            "1/1 [==============================] - 0s 28ms/step\n"
          ]
        },
        {
          "output_type": "execute_result",
          "data": {
            "text/plain": [
              "[('В', 'O'),\n",
              " ('туристическом', 'O'),\n",
              " ('стойбище', 'O'),\n",
              " ('\"', 'O'),\n",
              " ('Мэнэдек', 'O'),\n",
              " ('\"', 'O'),\n",
              " ('на', 'O'),\n",
              " ('Камчатке', 'O'),\n",
              " ('Надежда', 'B-PER'),\n",
              " ('Егоровна', 'O'),\n",
              " ('Инданова', 'O'),\n",
              " ('повесила', 'O'),\n",
              " ('плакат', 'O'),\n",
              " (',', 'O'),\n",
              " ('который', 'O'),\n",
              " ('Таня', 'B-ORG'),\n",
              " ('забрала', 'O'),\n",
              " ('у', 'O'),\n",
              " ('организатора', 'O'),\n",
              " ('фестиваля', 'O'),\n",
              " ('\"', 'O'),\n",
              " ('Сокровища', 'O'),\n",
              " ('Севера', 'O'),\n",
              " ('\"', 'O')]"
            ]
          },
          "metadata": {},
          "execution_count": 80
        }
      ],
      "source": [
        "label_seq('В туристическом стойбище \"Мэнэдек\" на Камчатке Надежда Егоровна Инданова повесила плакат, который Таня забрала у организатора фестиваля \"Сокровища Севера\"', word2id, id2labels, MAX_LEN, model)"
      ]
    },
    {
      "cell_type": "code",
      "execution_count": 81,
      "metadata": {
        "id": "vNtxlRIqF6aQ",
        "outputId": "6de24822-16f4-463d-a71b-8eaa8b568ecb",
        "colab": {
          "base_uri": "https://localhost:8080/"
        }
      },
      "outputs": [
        {
          "output_type": "stream",
          "name": "stdout",
          "text": [
            "1/1 [==============================] - 0s 34ms/step\n"
          ]
        },
        {
          "output_type": "execute_result",
          "data": {
            "text/plain": [
              "[('Мне', 'O'),\n",
              " ('подарили', 'O'),\n",
              " ('футболку', 'O'),\n",
              " ('Политеха', 'O'),\n",
              " ('на', 'O'),\n",
              " ('конференции', 'B-ORG'),\n",
              " ('в', 'O'),\n",
              " ('Питере', 'B-ORG')]"
            ]
          },
          "metadata": {},
          "execution_count": 81
        }
      ],
      "source": [
        "label_seq('Мне подарили футболку Политеха на конференции в Питере', word2id, id2labels, MAX_LEN, model)"
      ]
    },
    {
      "cell_type": "code",
      "execution_count": 82,
      "metadata": {
        "id": "eDp6Lp8oF6aR",
        "outputId": "31890c87-2189-4e46-93a0-d90193184b14",
        "colab": {
          "base_uri": "https://localhost:8080/"
        }
      },
      "outputs": [
        {
          "output_type": "stream",
          "name": "stdout",
          "text": [
            "1/1 [==============================] - 0s 44ms/step\n"
          ]
        },
        {
          "output_type": "execute_result",
          "data": {
            "text/plain": [
              "[('Сериал', 'O'),\n",
              " ('про', 'O'),\n",
              " ('Майку', 'B-LOC'),\n",
              " ('был', 'O'),\n",
              " ('снят', 'O'),\n",
              " ('в', 'O'),\n",
              " ('Чехосовакии', 'B-LOC')]"
            ]
          },
          "metadata": {},
          "execution_count": 82
        }
      ],
      "source": [
        "label_seq('Сериал про Майку был снят в Чехосовакии', word2id, id2labels, MAX_LEN, model)"
      ]
    },
    {
      "cell_type": "markdown",
      "source": [
        "### модель в которой будут использованы предобученные эмбединги слов и несколько BIGRU слоев"
      ],
      "metadata": {
        "id": "U7Ixkfa8zFvl"
      }
    },
    {
      "cell_type": "code",
      "execution_count": 84,
      "metadata": {
        "id": "3UO587SnF6aR"
      },
      "outputs": [],
      "source": [
        "inputs = tf.keras.layers.Input(shape=(MAX_LEN,))\n",
        "embeddings = tf.keras.layers.Embedding(input_dim=len(word2id), output_dim=300,\n",
        "                                       trainable=True,\n",
        "                                       weights=[weights])(inputs, )\n",
        "\n",
        "\n",
        "bigru_1 = tf.keras.layers.Bidirectional(tf.keras.layers.GRU(128, return_sequences=True))(embeddings)\n",
        "bigru_2 = tf.keras.layers.Bidirectional(tf.keras.layers.GRU(256, return_sequences=True))(bigru_1)\n",
        "bigru_3 = tf.keras.layers.Bidirectional(tf.keras.layers.GRU(128, return_sequences=True))(bigru_2)\n",
        "\n",
        "outputs = tf.keras.layers.Dense(len(label2id), activation='softmax')(bigru_3)\n",
        "\n",
        "model2 = tf.keras.Model(inputs=inputs, outputs=outputs)\n",
        "optimizer = tf.keras.optimizers.Adam()\n",
        "model2.compile(optimizer='adam',\n",
        "              loss='sparse_categorical_crossentropy',\n",
        "              metrics=['accuracy'])"
      ]
    },
    {
      "cell_type": "code",
      "source": [
        "model2.fit(X, y,\n",
        "          validation_data=(X_test, y_test),\n",
        "          batch_size=200,\n",
        "          epochs=8)"
      ],
      "metadata": {
        "colab": {
          "base_uri": "https://localhost:8080/"
        },
        "id": "phn-WFMPzoRo",
        "outputId": "b4aa8555-d2d7-4cf8-e4ed-34860ecf6e6d"
      },
      "execution_count": 85,
      "outputs": [
        {
          "output_type": "stream",
          "name": "stdout",
          "text": [
            "Epoch 1/8\n",
            "100/100 [==============================] - 36s 252ms/step - loss: 0.2910 - accuracy: 0.9227 - val_loss: 0.1242 - val_accuracy: 0.9584\n",
            "Epoch 2/8\n",
            "100/100 [==============================] - 16s 165ms/step - loss: 0.0760 - accuracy: 0.9753 - val_loss: 0.0558 - val_accuracy: 0.9821\n",
            "Epoch 3/8\n",
            "100/100 [==============================] - 11s 109ms/step - loss: 0.0234 - accuracy: 0.9928 - val_loss: 0.0523 - val_accuracy: 0.9842\n",
            "Epoch 4/8\n",
            "100/100 [==============================] - 11s 114ms/step - loss: 0.0096 - accuracy: 0.9973 - val_loss: 0.0592 - val_accuracy: 0.9834\n",
            "Epoch 5/8\n",
            "100/100 [==============================] - 10s 104ms/step - loss: 0.0051 - accuracy: 0.9986 - val_loss: 0.0637 - val_accuracy: 0.9832\n",
            "Epoch 6/8\n",
            "100/100 [==============================] - 9s 93ms/step - loss: 0.0035 - accuracy: 0.9991 - val_loss: 0.0723 - val_accuracy: 0.9824\n",
            "Epoch 7/8\n",
            "100/100 [==============================] - 9s 92ms/step - loss: 0.0025 - accuracy: 0.9994 - val_loss: 0.0716 - val_accuracy: 0.9830\n",
            "Epoch 8/8\n",
            "100/100 [==============================] - 9s 86ms/step - loss: 0.0019 - accuracy: 0.9995 - val_loss: 0.0770 - val_accuracy: 0.9821\n"
          ]
        },
        {
          "output_type": "execute_result",
          "data": {
            "text/plain": [
              "<keras.callbacks.History at 0x7fb22496afe0>"
            ]
          },
          "metadata": {},
          "execution_count": 85
        }
      ]
    },
    {
      "cell_type": "code",
      "source": [
        "plt.plot(model2.history.history['accuracy'])\n",
        "plt.plot(model2.history.history['val_accuracy'])\n",
        "plt.title('model acc')\n",
        "plt.ylabel('accuracy')\n",
        "plt.xlabel('epoch')\n",
        "plt.legend(['train', 'val'], loc='upper left')\n",
        "plt.show()"
      ],
      "metadata": {
        "colab": {
          "base_uri": "https://localhost:8080/",
          "height": 472
        },
        "id": "_3a0iPLm0Dzn",
        "outputId": "1b96636d-ffde-41fb-c67a-ecbad79a7060"
      },
      "execution_count": 86,
      "outputs": [
        {
          "output_type": "display_data",
          "data": {
            "text/plain": [
              "<Figure size 640x480 with 1 Axes>"
            ],
            "image/png": "[encoded data removed]"
          },
          "metadata": {}
        }
      ]
    },
    {
      "cell_type": "code",
      "source": [
        "pred = model2.predict(X_test).argmax(2)"
      ],
      "metadata": {
        "colab": {
          "base_uri": "https://localhost:8080/"
        },
        "id": "26lttuZN0I2u",
        "outputId": "449f5d45-9eff-4b97-ae3e-a4e71ebf4ed9"
      },
      "execution_count": 87,
      "outputs": [
        {
          "output_type": "stream",
          "name": "stdout",
          "text": [
            "313/313 [==============================] - 5s 9ms/step\n"
          ]
        }
      ]
    },
    {
      "cell_type": "code",
      "source": [
        "print(classification_report(y_test.reshape(-1), pred.reshape(-1), labels=list(id2labels.keys()),\n",
        "                                                                     target_names=list(id2labels.values()),\n",
        "                                                                     zero_division=0))"
      ],
      "metadata": {
        "colab": {
          "base_uri": "https://localhost:8080/"
        },
        "id": "MwtBAQWy0KH2",
        "outputId": "3e2a793f-f75d-4d3d-c631-36ba66cab227"
      },
      "execution_count": 88,
      "outputs": [
        {
          "output_type": "stream",
          "name": "stdout",
          "text": [
            "              precision    recall  f1-score   support\n",
            "\n",
            "           O       0.94      0.92      0.93     40480\n",
            "       B-PER       0.84      0.87      0.85      3542\n",
            "       I-PER       0.91      0.81      0.86      7544\n",
            "       B-ORG       0.51      0.80      0.63      4074\n",
            "       I-ORG       0.80      0.80      0.80      8008\n",
            "       B-LOC       0.72      0.77      0.75      4560\n",
            "       I-LOC       0.91      0.68      0.78      3060\n",
            "         PAD       1.00      1.00      1.00    468732\n",
            "\n",
            "    accuracy                           0.98    540000\n",
            "   macro avg       0.83      0.83      0.82    540000\n",
            "weighted avg       0.98      0.98      0.98    540000\n",
            "\n"
          ]
        }
      ]
    },
    {
      "cell_type": "code",
      "source": [
        "label_seq('В туристическом стойбище \"Мэнэдек\" на Камчатке Надежда Егоровна Инданова повесила плакат, который Таня забрала у организатора фестиваля \"Сокровища Севера\"', word2id, id2labels, MAX_LEN, model2)"
      ],
      "metadata": {
        "colab": {
          "base_uri": "https://localhost:8080/"
        },
        "id": "0JwiyVZM0SNh",
        "outputId": "c0131c39-8b5d-4eb5-86c8-2ae062659ba0"
      },
      "execution_count": 91,
      "outputs": [
        {
          "output_type": "stream",
          "name": "stdout",
          "text": [
            "1/1 [==============================] - 0s 35ms/step\n"
          ]
        },
        {
          "output_type": "execute_result",
          "data": {
            "text/plain": [
              "[('В', 'O'),\n",
              " ('туристическом', 'B-ORG'),\n",
              " ('стойбище', 'I-ORG'),\n",
              " ('\"', 'O'),\n",
              " ('Мэнэдек', 'O'),\n",
              " ('\"', 'O'),\n",
              " ('на', 'O'),\n",
              " ('Камчатке', 'B-ORG'),\n",
              " ('Надежда', 'I-PER'),\n",
              " ('Егоровна', 'I-PER'),\n",
              " ('Инданова', 'O'),\n",
              " ('повесила', 'I-PER'),\n",
              " ('плакат', 'I-PER'),\n",
              " (',', 'O'),\n",
              " ('который', 'O'),\n",
              " ('Таня', 'B-PER'),\n",
              " ('забрала', 'O'),\n",
              " ('у', 'O'),\n",
              " ('организатора', 'O'),\n",
              " ('фестиваля', 'O'),\n",
              " ('\"', 'B-PER'),\n",
              " ('Сокровища', 'I-PER'),\n",
              " ('Севера', 'O'),\n",
              " ('\"', 'B-ORG')]"
            ]
          },
          "metadata": {},
          "execution_count": 91
        }
      ]
    },
    {
      "cell_type": "code",
      "source": [
        "label_seq('Мне подарили футболку Политеха на конференции в Питере', word2id, id2labels, MAX_LEN, model)"
      ],
      "metadata": {
        "colab": {
          "base_uri": "https://localhost:8080/"
        },
        "id": "zhWa8vzb0WBT",
        "outputId": "1ccc5cda-4c50-42f3-c1d1-e35e53cac882"
      },
      "execution_count": 92,
      "outputs": [
        {
          "output_type": "stream",
          "name": "stdout",
          "text": [
            "1/1 [==============================] - 0s 25ms/step\n"
          ]
        },
        {
          "output_type": "execute_result",
          "data": {
            "text/plain": [
              "[('Мне', 'O'),\n",
              " ('подарили', 'O'),\n",
              " ('футболку', 'O'),\n",
              " ('Политеха', 'O'),\n",
              " ('на', 'O'),\n",
              " ('конференции', 'B-ORG'),\n",
              " ('в', 'O'),\n",
              " ('Питере', 'B-ORG')]"
            ]
          },
          "metadata": {},
          "execution_count": 92
        }
      ]
    },
    {
      "cell_type": "code",
      "source": [
        "label_seq('Сериал про Майку был снят в Чехосовакии', word2id, id2labels, MAX_LEN, model)"
      ],
      "metadata": {
        "colab": {
          "base_uri": "https://localhost:8080/"
        },
        "id": "S3_8itWH0at8",
        "outputId": "b470acec-9993-432c-9050-c2d30987302a"
      },
      "execution_count": 93,
      "outputs": [
        {
          "output_type": "stream",
          "name": "stdout",
          "text": [
            "1/1 [==============================] - 0s 26ms/step\n"
          ]
        },
        {
          "output_type": "execute_result",
          "data": {
            "text/plain": [
              "[('Сериал', 'O'),\n",
              " ('про', 'O'),\n",
              " ('Майку', 'B-LOC'),\n",
              " ('был', 'O'),\n",
              " ('снят', 'O'),\n",
              " ('в', 'O'),\n",
              " ('Чехосовакии', 'B-LOC')]"
            ]
          },
          "metadata": {},
          "execution_count": 93
        }
      ]
    },
    {
      "cell_type": "markdown",
      "source": [
        "По accuracy модели получились почти одинаковые. Но мне больше нравится как с примером №1 справилась модель из bigru слоёв (с остальными примерами одинаково получилось). Но я не понимаю, почему так плохо у обеих моделей с первым примером. Там же кавычки стоят. То есть именнованная сущность прям выделена..."
      ],
      "metadata": {
        "id": "XYTnX3qc1DOB"
      }
    }
  ],
  "metadata": {
    "kernelspec": {
      "display_name": "Python 3",
      "name": "python3"
    },
    "language_info": {
      "codemirror_mode": {
        "name": "ipython",
        "version": 3
      },
      "file_extension": ".py",
      "mimetype": "text/x-python",
      "name": "python",
      "nbconvert_exporter": "python",
      "pygments_lexer": "ipython3",
      "version": "3.9.14"
    },
    "colab": {
      "provenance": [],
      "gpuType": "T4"
    },
    "accelerator": "GPU",
    "widgets": {
      "application/vnd.jupyter.widget-state+json": {
        "af671de59cd3455ca0dcad341cba1290": {
          "model_module": "@jupyter-widgets/controls",
          "model_name": "HBoxModel",
          "model_module_version": "1.5.0",
          "state": {
            "_dom_classes": [],
            "_model_module": "@jupyter-widgets/controls",
            "_model_module_version": "1.5.0",
            "_model_name": "HBoxModel",
            "_view_count": null,
            "_view_module": "@jupyter-widgets/controls",
            "_view_module_version": "1.5.0",
            "_view_name": "HBoxView",
            "box_style": "",
            "children": [
              "IPY_MODEL_accba9393b5e4fdba1c838c22cf61a86",
              "IPY_MODEL_74f5eaea925d46c3a230c27d2f13efe0",
              "IPY_MODEL_b9d435fbe22f4e3ca1480f7cbb93dfd4"
            ],
            "layout": "IPY_MODEL_03fdd19b1f984e12bc9fa46862017b4b"
          }
        },
        "accba9393b5e4fdba1c838c22cf61a86": {
          "model_module": "@jupyter-widgets/controls",
          "model_name": "HTMLModel",
          "model_module_version": "1.5.0",
          "state": {
            "_dom_classes": [],
            "_model_module": "@jupyter-widgets/controls",
            "_model_module_version": "1.5.0",
            "_model_name": "HTMLModel",
            "_view_count": null,
            "_view_module": "@jupyter-widgets/controls",
            "_view_module_version": "1.5.0",
            "_view_name": "HTMLView",
            "description": "",
            "description_tooltip": null,
            "layout": "IPY_MODEL_dd29a35818604480810584f35e20d413",
            "placeholder": "​",
            "style": "IPY_MODEL_f2c090dabb43402094bbfad1d62aa474",
            "value": "Downloading builder script: "
          }
        },
        "74f5eaea925d46c3a230c27d2f13efe0": {
          "model_module": "@jupyter-widgets/controls",
          "model_name": "FloatProgressModel",
          "model_module_version": "1.5.0",
          "state": {
            "_dom_classes": [],
            "_model_module": "@jupyter-widgets/controls",
            "_model_module_version": "1.5.0",
            "_model_name": "FloatProgressModel",
            "_view_count": null,
            "_view_module": "@jupyter-widgets/controls",
            "_view_module_version": "1.5.0",
            "_view_name": "ProgressView",
            "bar_style": "success",
            "description": "",
            "description_tooltip": null,
            "layout": "IPY_MODEL_78bd8bf7dbc2478e9b984ead739b4905",
            "max": 1,
            "min": 0,
            "orientation": "horizontal",
            "style": "IPY_MODEL_a025e657a94b4ad383dd62e75f9163bf",
            "value": 1
          }
        },
        "b9d435fbe22f4e3ca1480f7cbb93dfd4": {
          "model_module": "@jupyter-widgets/controls",
          "model_name": "HTMLModel",
          "model_module_version": "1.5.0",
          "state": {
            "_dom_classes": [],
            "_model_module": "@jupyter-widgets/controls",
            "_model_module_version": "1.5.0",
            "_model_name": "HTMLModel",
            "_view_count": null,
            "_view_module": "@jupyter-widgets/controls",
            "_view_module_version": "1.5.0",
            "_view_name": "HTMLView",
            "description": "",
            "description_tooltip": null,
            "layout": "IPY_MODEL_1346867025ab460e863a30e3a9536b7e",
            "placeholder": "​",
            "style": "IPY_MODEL_b185b45a79fb4e36ab7b8831862552a4",
            "value": " 11.6k/? [00:00&lt;00:00, 708kB/s]"
          }
        },
        "03fdd19b1f984e12bc9fa46862017b4b": {
          "model_module": "@jupyter-widgets/base",
          "model_name": "LayoutModel",
          "model_module_version": "1.2.0",
          "state": {
            "_model_module": "@jupyter-widgets/base",
            "_model_module_version": "1.2.0",
            "_model_name": "LayoutModel",
            "_view_count": null,
            "_view_module": "@jupyter-widgets/base",
            "_view_module_version": "1.2.0",
            "_view_name": "LayoutView",
            "align_content": null,
            "align_items": null,
            "align_self": null,
            "border": null,
            "bottom": null,
            "display": null,
            "flex": null,
            "flex_flow": null,
            "grid_area": null,
            "grid_auto_columns": null,
            "grid_auto_flow": null,
            "grid_auto_rows": null,
            "grid_column": null,
            "grid_gap": null,
            "grid_row": null,
            "grid_template_areas": null,
            "grid_template_columns": null,
            "grid_template_rows": null,
            "height": null,
            "justify_content": null,
            "justify_items": null,
            "left": null,
            "margin": null,
            "max_height": null,
            "max_width": null,
            "min_height": null,
            "min_width": null,
            "object_fit": null,
            "object_position": null,
            "order": null,
            "overflow": null,
            "overflow_x": null,
            "overflow_y": null,
            "padding": null,
            "right": null,
            "top": null,
            "visibility": null,
            "width": null
          }
        },
        "dd29a35818604480810584f35e20d413": {
          "model_module": "@jupyter-widgets/base",
          "model_name": "LayoutModel",
          "model_module_version": "1.2.0",
          "state": {
            "_model_module": "@jupyter-widgets/base",
            "_model_module_version": "1.2.0",
            "_model_name": "LayoutModel",
            "_view_count": null,
            "_view_module": "@jupyter-widgets/base",
            "_view_module_version": "1.2.0",
            "_view_name": "LayoutView",
            "align_content": null,
            "align_items": null,
            "align_self": null,
            "border": null,
            "bottom": null,
            "display": null,
            "flex": null,
            "flex_flow": null,
            "grid_area": null,
            "grid_auto_columns": null,
            "grid_auto_flow": null,
            "grid_auto_rows": null,
            "grid_column": null,
            "grid_gap": null,
            "grid_row": null,
            "grid_template_areas": null,
            "grid_template_columns": null,
            "grid_template_rows": null,
            "height": null,
            "justify_content": null,
            "justify_items": null,
            "left": null,
            "margin": null,
            "max_height": null,
            "max_width": null,
            "min_height": null,
            "min_width": null,
            "object_fit": null,
            "object_position": null,
            "order": null,
            "overflow": null,
            "overflow_x": null,
            "overflow_y": null,
            "padding": null,
            "right": null,
            "top": null,
            "visibility": null,
            "width": null
          }
        },
        "f2c090dabb43402094bbfad1d62aa474": {
          "model_module": "@jupyter-widgets/controls",
          "model_name": "DescriptionStyleModel",
          "model_module_version": "1.5.0",
          "state": {
            "_model_module": "@jupyter-widgets/controls",
            "_model_module_version": "1.5.0",
            "_model_name": "DescriptionStyleModel",
            "_view_count": null,
            "_view_module": "@jupyter-widgets/base",
            "_view_module_version": "1.2.0",
            "_view_name": "StyleView",
            "description_width": ""
          }
        },
        "78bd8bf7dbc2478e9b984ead739b4905": {
          "model_module": "@jupyter-widgets/base",
          "model_name": "LayoutModel",
          "model_module_version": "1.2.0",
          "state": {
            "_model_module": "@jupyter-widgets/base",
            "_model_module_version": "1.2.0",
            "_model_name": "LayoutModel",
            "_view_count": null,
            "_view_module": "@jupyter-widgets/base",
            "_view_module_version": "1.2.0",
            "_view_name": "LayoutView",
            "align_content": null,
            "align_items": null,
            "align_self": null,
            "border": null,
            "bottom": null,
            "display": null,
            "flex": null,
            "flex_flow": null,
            "grid_area": null,
            "grid_auto_columns": null,
            "grid_auto_flow": null,
            "grid_auto_rows": null,
            "grid_column": null,
            "grid_gap": null,
            "grid_row": null,
            "grid_template_areas": null,
            "grid_template_columns": null,
            "grid_template_rows": null,
            "height": null,
            "justify_content": null,
            "justify_items": null,
            "left": null,
            "margin": null,
            "max_height": null,
            "max_width": null,
            "min_height": null,
            "min_width": null,
            "object_fit": null,
            "object_position": null,
            "order": null,
            "overflow": null,
            "overflow_x": null,
            "overflow_y": null,
            "padding": null,
            "right": null,
            "top": null,
            "visibility": null,
            "width": "20px"
          }
        },
        "a025e657a94b4ad383dd62e75f9163bf": {
          "model_module": "@jupyter-widgets/controls",
          "model_name": "ProgressStyleModel",
          "model_module_version": "1.5.0",
          "state": {
            "_model_module": "@jupyter-widgets/controls",
            "_model_module_version": "1.5.0",
            "_model_name": "ProgressStyleModel",
            "_view_count": null,
            "_view_module": "@jupyter-widgets/base",
            "_view_module_version": "1.2.0",
            "_view_name": "StyleView",
            "bar_color": null,
            "description_width": ""
          }
        },
        "1346867025ab460e863a30e3a9536b7e": {
          "model_module": "@jupyter-widgets/base",
          "model_name": "LayoutModel",
          "model_module_version": "1.2.0",
          "state": {
            "_model_module": "@jupyter-widgets/base",
            "_model_module_version": "1.2.0",
            "_model_name": "LayoutModel",
            "_view_count": null,
            "_view_module": "@jupyter-widgets/base",
            "_view_module_version": "1.2.0",
            "_view_name": "LayoutView",
            "align_content": null,
            "align_items": null,
            "align_self": null,
            "border": null,
            "bottom": null,
            "display": null,
            "flex": null,
            "flex_flow": null,
            "grid_area": null,
            "grid_auto_columns": null,
            "grid_auto_flow": null,
            "grid_auto_rows": null,
            "grid_column": null,
            "grid_gap": null,
            "grid_row": null,
            "grid_template_areas": null,
            "grid_template_columns": null,
            "grid_template_rows": null,
            "height": null,
            "justify_content": null,
            "justify_items": null,
            "left": null,
            "margin": null,
            "max_height": null,
            "max_width": null,
            "min_height": null,
            "min_width": null,
            "object_fit": null,
            "object_position": null,
            "order": null,
            "overflow": null,
            "overflow_x": null,
            "overflow_y": null,
            "padding": null,
            "right": null,
            "top": null,
            "visibility": null,
            "width": null
          }
        },
        "b185b45a79fb4e36ab7b8831862552a4": {
          "model_module": "@jupyter-widgets/controls",
          "model_name": "DescriptionStyleModel",
          "model_module_version": "1.5.0",
          "state": {
            "_model_module": "@jupyter-widgets/controls",
            "_model_module_version": "1.5.0",
            "_model_name": "DescriptionStyleModel",
            "_view_count": null,
            "_view_module": "@jupyter-widgets/base",
            "_view_module_version": "1.2.0",
            "_view_name": "StyleView",
            "description_width": ""
          }
        },
        "969ed549cab4427f87957e58bb61af51": {
          "model_module": "@jupyter-widgets/controls",
          "model_name": "HBoxModel",
          "model_module_version": "1.5.0",
          "state": {
            "_dom_classes": [],
            "_model_module": "@jupyter-widgets/controls",
            "_model_module_version": "1.5.0",
            "_model_name": "HBoxModel",
            "_view_count": null,
            "_view_module": "@jupyter-widgets/controls",
            "_view_module_version": "1.5.0",
            "_view_name": "HBoxView",
            "box_style": "",
            "children": [
              "IPY_MODEL_803bdc2fee854ec991896a41f5fdd22c",
              "IPY_MODEL_26fffa659f6e4470b928c3e0b44ca6f8",
              "IPY_MODEL_de2809c400934a80b61c5a746e07feb1"
            ],
            "layout": "IPY_MODEL_c4553e2ec74c4c139b90d840cc7fdfec"
          }
        },
        "803bdc2fee854ec991896a41f5fdd22c": {
          "model_module": "@jupyter-widgets/controls",
          "model_name": "HTMLModel",
          "model_module_version": "1.5.0",
          "state": {
            "_dom_classes": [],
            "_model_module": "@jupyter-widgets/controls",
            "_model_module_version": "1.5.0",
            "_model_name": "HTMLModel",
            "_view_count": null,
            "_view_module": "@jupyter-widgets/controls",
            "_view_module_version": "1.5.0",
            "_view_name": "HTMLView",
            "description": "",
            "description_tooltip": null,
            "layout": "IPY_MODEL_f13bd97214fb40d1b3003eb21f177a22",
            "placeholder": "​",
            "style": "IPY_MODEL_69d5ca3eb6c245ee97fec6ca6d4723d3",
            "value": "Downloading metadata: "
          }
        },
        "26fffa659f6e4470b928c3e0b44ca6f8": {
          "model_module": "@jupyter-widgets/controls",
          "model_name": "FloatProgressModel",
          "model_module_version": "1.5.0",
          "state": {
            "_dom_classes": [],
            "_model_module": "@jupyter-widgets/controls",
            "_model_module_version": "1.5.0",
            "_model_name": "FloatProgressModel",
            "_view_count": null,
            "_view_module": "@jupyter-widgets/controls",
            "_view_module_version": "1.5.0",
            "_view_name": "ProgressView",
            "bar_style": "success",
            "description": "",
            "description_tooltip": null,
            "layout": "IPY_MODEL_0d41a819fc5148a58e334a31e37b5750",
            "max": 1,
            "min": 0,
            "orientation": "horizontal",
            "style": "IPY_MODEL_68392b9096e64c549dfdb2a49c5563bf",
            "value": 1
          }
        },
        "de2809c400934a80b61c5a746e07feb1": {
          "model_module": "@jupyter-widgets/controls",
          "model_name": "HTMLModel",
          "model_module_version": "1.5.0",
          "state": {
            "_dom_classes": [],
            "_model_module": "@jupyter-widgets/controls",
            "_model_module_version": "1.5.0",
            "_model_name": "HTMLModel",
            "_view_count": null,
            "_view_module": "@jupyter-widgets/controls",
            "_view_module_version": "1.5.0",
            "_view_name": "HTMLView",
            "description": "",
            "description_tooltip": null,
            "layout": "IPY_MODEL_faa3b1acdc354473be3c9de30f0846cc",
            "placeholder": "​",
            "style": "IPY_MODEL_d90ed52afd5a4ddd914ce7af68171b11",
            "value": " 617k/? [00:00&lt;00:00, 30.6MB/s]"
          }
        },
        "c4553e2ec74c4c139b90d840cc7fdfec": {
          "model_module": "@jupyter-widgets/base",
          "model_name": "LayoutModel",
          "model_module_version": "1.2.0",
          "state": {
            "_model_module": "@jupyter-widgets/base",
            "_model_module_version": "1.2.0",
            "_model_name": "LayoutModel",
            "_view_count": null,
            "_view_module": "@jupyter-widgets/base",
            "_view_module_version": "1.2.0",
            "_view_name": "LayoutView",
            "align_content": null,
            "align_items": null,
            "align_self": null,
            "border": null,
            "bottom": null,
            "display": null,
            "flex": null,
            "flex_flow": null,
            "grid_area": null,
            "grid_auto_columns": null,
            "grid_auto_flow": null,
            "grid_auto_rows": null,
            "grid_column": null,
            "grid_gap": null,
            "grid_row": null,
            "grid_template_areas": null,
            "grid_template_columns": null,
            "grid_template_rows": null,
            "height": null,
            "justify_content": null,
            "justify_items": null,
            "left": null,
            "margin": null,
            "max_height": null,
            "max_width": null,
            "min_height": null,
            "min_width": null,
            "object_fit": null,
            "object_position": null,
            "order": null,
            "overflow": null,
            "overflow_x": null,
            "overflow_y": null,
            "padding": null,
            "right": null,
            "top": null,
            "visibility": null,
            "width": null
          }
        },
        "f13bd97214fb40d1b3003eb21f177a22": {
          "model_module": "@jupyter-widgets/base",
          "model_name": "LayoutModel",
          "model_module_version": "1.2.0",
          "state": {
            "_model_module": "@jupyter-widgets/base",
            "_model_module_version": "1.2.0",
            "_model_name": "LayoutModel",
            "_view_count": null,
            "_view_module": "@jupyter-widgets/base",
            "_view_module_version": "1.2.0",
            "_view_name": "LayoutView",
            "align_content": null,
            "align_items": null,
            "align_self": null,
            "border": null,
            "bottom": null,
            "display": null,
            "flex": null,
            "flex_flow": null,
            "grid_area": null,
            "grid_auto_columns": null,
            "grid_auto_flow": null,
            "grid_auto_rows": null,
            "grid_column": null,
            "grid_gap": null,
            "grid_row": null,
            "grid_template_areas": null,
            "grid_template_columns": null,
            "grid_template_rows": null,
            "height": null,
            "justify_content": null,
            "justify_items": null,
            "left": null,
            "margin": null,
            "max_height": null,
            "max_width": null,
            "min_height": null,
            "min_width": null,
            "object_fit": null,
            "object_position": null,
            "order": null,
            "overflow": null,
            "overflow_x": null,
            "overflow_y": null,
            "padding": null,
            "right": null,
            "top": null,
            "visibility": null,
            "width": null
          }
        },
        "69d5ca3eb6c245ee97fec6ca6d4723d3": {
          "model_module": "@jupyter-widgets/controls",
          "model_name": "DescriptionStyleModel",
          "model_module_version": "1.5.0",
          "state": {
            "_model_module": "@jupyter-widgets/controls",
            "_model_module_version": "1.5.0",
            "_model_name": "DescriptionStyleModel",
            "_view_count": null,
            "_view_module": "@jupyter-widgets/base",
            "_view_module_version": "1.2.0",
            "_view_name": "StyleView",
            "description_width": ""
          }
        },
        "0d41a819fc5148a58e334a31e37b5750": {
          "model_module": "@jupyter-widgets/base",
          "model_name": "LayoutModel",
          "model_module_version": "1.2.0",
          "state": {
            "_model_module": "@jupyter-widgets/base",
            "_model_module_version": "1.2.0",
            "_model_name": "LayoutModel",
            "_view_count": null,
            "_view_module": "@jupyter-widgets/base",
            "_view_module_version": "1.2.0",
            "_view_name": "LayoutView",
            "align_content": null,
            "align_items": null,
            "align_self": null,
            "border": null,
            "bottom": null,
            "display": null,
            "flex": null,
            "flex_flow": null,
            "grid_area": null,
            "grid_auto_columns": null,
            "grid_auto_flow": null,
            "grid_auto_rows": null,
            "grid_column": null,
            "grid_gap": null,
            "grid_row": null,
            "grid_template_areas": null,
            "grid_template_columns": null,
            "grid_template_rows": null,
            "height": null,
            "justify_content": null,
            "justify_items": null,
            "left": null,
            "margin": null,
            "max_height": null,
            "max_width": null,
            "min_height": null,
            "min_width": null,
            "object_fit": null,
            "object_position": null,
            "order": null,
            "overflow": null,
            "overflow_x": null,
            "overflow_y": null,
            "padding": null,
            "right": null,
            "top": null,
            "visibility": null,
            "width": "20px"
          }
        },
        "68392b9096e64c549dfdb2a49c5563bf": {
          "model_module": "@jupyter-widgets/controls",
          "model_name": "ProgressStyleModel",
          "model_module_version": "1.5.0",
          "state": {
            "_model_module": "@jupyter-widgets/controls",
            "_model_module_version": "1.5.0",
            "_model_name": "ProgressStyleModel",
            "_view_count": null,
            "_view_module": "@jupyter-widgets/base",
            "_view_module_version": "1.2.0",
            "_view_name": "StyleView",
            "bar_color": null,
            "description_width": ""
          }
        },
        "faa3b1acdc354473be3c9de30f0846cc": {
          "model_module": "@jupyter-widgets/base",
          "model_name": "LayoutModel",
          "model_module_version": "1.2.0",
          "state": {
            "_model_module": "@jupyter-widgets/base",
            "_model_module_version": "1.2.0",
            "_model_name": "LayoutModel",
            "_view_count": null,
            "_view_module": "@jupyter-widgets/base",
            "_view_module_version": "1.2.0",
            "_view_name": "LayoutView",
            "align_content": null,
            "align_items": null,
            "align_self": null,
            "border": null,
            "bottom": null,
            "display": null,
            "flex": null,
            "flex_flow": null,
            "grid_area": null,
            "grid_auto_columns": null,
            "grid_auto_flow": null,
            "grid_auto_rows": null,
            "grid_column": null,
            "grid_gap": null,
            "grid_row": null,
            "grid_template_areas": null,
            "grid_template_columns": null,
            "grid_template_rows": null,
            "height": null,
            "justify_content": null,
            "justify_items": null,
            "left": null,
            "margin": null,
            "max_height": null,
            "max_width": null,
            "min_height": null,
            "min_width": null,
            "object_fit": null,
            "object_position": null,
            "order": null,
            "overflow": null,
            "overflow_x": null,
            "overflow_y": null,
            "padding": null,
            "right": null,
            "top": null,
            "visibility": null,
            "width": null
          }
        },
        "d90ed52afd5a4ddd914ce7af68171b11": {
          "model_module": "@jupyter-widgets/controls",
          "model_name": "DescriptionStyleModel",
          "model_module_version": "1.5.0",
          "state": {
            "_model_module": "@jupyter-widgets/controls",
            "_model_module_version": "1.5.0",
            "_model_name": "DescriptionStyleModel",
            "_view_count": null,
            "_view_module": "@jupyter-widgets/base",
            "_view_module_version": "1.2.0",
            "_view_name": "StyleView",
            "description_width": ""
          }
        },
        "383c31ea7eab4d2f8b6af7d239ff5807": {
          "model_module": "@jupyter-widgets/controls",
          "model_name": "HBoxModel",
          "model_module_version": "1.5.0",
          "state": {
            "_dom_classes": [],
            "_model_module": "@jupyter-widgets/controls",
            "_model_module_version": "1.5.0",
            "_model_name": "HBoxModel",
            "_view_count": null,
            "_view_module": "@jupyter-widgets/controls",
            "_view_module_version": "1.5.0",
            "_view_name": "HBoxView",
            "box_style": "",
            "children": [
              "IPY_MODEL_0c302dbca28c4fe9bdb16a197ad22a8d",
              "IPY_MODEL_3145f9fca5594e69ac39eef147d9b93f",
              "IPY_MODEL_8ec84307c91d4c00963f8b4dbf22ad45"
            ],
            "layout": "IPY_MODEL_6cbe7268120249b0b0ae8cd3ef063b83"
          }
        },
        "0c302dbca28c4fe9bdb16a197ad22a8d": {
          "model_module": "@jupyter-widgets/controls",
          "model_name": "HTMLModel",
          "model_module_version": "1.5.0",
          "state": {
            "_dom_classes": [],
            "_model_module": "@jupyter-widgets/controls",
            "_model_module_version": "1.5.0",
            "_model_name": "HTMLModel",
            "_view_count": null,
            "_view_module": "@jupyter-widgets/controls",
            "_view_module_version": "1.5.0",
            "_view_name": "HTMLView",
            "description": "",
            "description_tooltip": null,
            "layout": "IPY_MODEL_560c7ba7e81b4fd5813a8186b7004c1b",
            "placeholder": "​",
            "style": "IPY_MODEL_9c27fdcbe80b4301bfd4a4a62e2f1c1d",
            "value": "Downloading readme: "
          }
        },
        "3145f9fca5594e69ac39eef147d9b93f": {
          "model_module": "@jupyter-widgets/controls",
          "model_name": "FloatProgressModel",
          "model_module_version": "1.5.0",
          "state": {
            "_dom_classes": [],
            "_model_module": "@jupyter-widgets/controls",
            "_model_module_version": "1.5.0",
            "_model_name": "FloatProgressModel",
            "_view_count": null,
            "_view_module": "@jupyter-widgets/controls",
            "_view_module_version": "1.5.0",
            "_view_name": "ProgressView",
            "bar_style": "success",
            "description": "",
            "description_tooltip": null,
            "layout": "IPY_MODEL_e01617ee942c4991b0a00a9113ce7544",
            "max": 1,
            "min": 0,
            "orientation": "horizontal",
            "style": "IPY_MODEL_5bba76398fd440f3816101106f4cb8e0",
            "value": 1
          }
        },
        "8ec84307c91d4c00963f8b4dbf22ad45": {
          "model_module": "@jupyter-widgets/controls",
          "model_name": "HTMLModel",
          "model_module_version": "1.5.0",
          "state": {
            "_dom_classes": [],
            "_model_module": "@jupyter-widgets/controls",
            "_model_module_version": "1.5.0",
            "_model_name": "HTMLModel",
            "_view_count": null,
            "_view_module": "@jupyter-widgets/controls",
            "_view_module_version": "1.5.0",
            "_view_name": "HTMLView",
            "description": "",
            "description_tooltip": null,
            "layout": "IPY_MODEL_0d10dd9ac00e4d35b12e51886a217d01",
            "placeholder": "​",
            "style": "IPY_MODEL_db2ce77f4df14bebb99cbdeb03ec1c04",
            "value": " 131k/? [00:00&lt;00:00, 6.58MB/s]"
          }
        },
        "6cbe7268120249b0b0ae8cd3ef063b83": {
          "model_module": "@jupyter-widgets/base",
          "model_name": "LayoutModel",
          "model_module_version": "1.2.0",
          "state": {
            "_model_module": "@jupyter-widgets/base",
            "_model_module_version": "1.2.0",
            "_model_name": "LayoutModel",
            "_view_count": null,
            "_view_module": "@jupyter-widgets/base",
            "_view_module_version": "1.2.0",
            "_view_name": "LayoutView",
            "align_content": null,
            "align_items": null,
            "align_self": null,
            "border": null,
            "bottom": null,
            "display": null,
            "flex": null,
            "flex_flow": null,
            "grid_area": null,
            "grid_auto_columns": null,
            "grid_auto_flow": null,
            "grid_auto_rows": null,
            "grid_column": null,
            "grid_gap": null,
            "grid_row": null,
            "grid_template_areas": null,
            "grid_template_columns": null,
            "grid_template_rows": null,
            "height": null,
            "justify_content": null,
            "justify_items": null,
            "left": null,
            "margin": null,
            "max_height": null,
            "max_width": null,
            "min_height": null,
            "min_width": null,
            "object_fit": null,
            "object_position": null,
            "order": null,
            "overflow": null,
            "overflow_x": null,
            "overflow_y": null,
            "padding": null,
            "right": null,
            "top": null,
            "visibility": null,
            "width": null
          }
        },
        "560c7ba7e81b4fd5813a8186b7004c1b": {
          "model_module": "@jupyter-widgets/base",
          "model_name": "LayoutModel",
          "model_module_version": "1.2.0",
          "state": {
            "_model_module": "@jupyter-widgets/base",
            "_model_module_version": "1.2.0",
            "_model_name": "LayoutModel",
            "_view_count": null,
            "_view_module": "@jupyter-widgets/base",
            "_view_module_version": "1.2.0",
            "_view_name": "LayoutView",
            "align_content": null,
            "align_items": null,
            "align_self": null,
            "border": null,
            "bottom": null,
            "display": null,
            "flex": null,
            "flex_flow": null,
            "grid_area": null,
            "grid_auto_columns": null,
            "grid_auto_flow": null,
            "grid_auto_rows": null,
            "grid_column": null,
            "grid_gap": null,
            "grid_row": null,
            "grid_template_areas": null,
            "grid_template_columns": null,
            "grid_template_rows": null,
            "height": null,
            "justify_content": null,
            "justify_items": null,
            "left": null,
            "margin": null,
            "max_height": null,
            "max_width": null,
            "min_height": null,
            "min_width": null,
            "object_fit": null,
            "object_position": null,
            "order": null,
            "overflow": null,
            "overflow_x": null,
            "overflow_y": null,
            "padding": null,
            "right": null,
            "top": null,
            "visibility": null,
            "width": null
          }
        },
        "9c27fdcbe80b4301bfd4a4a62e2f1c1d": {
          "model_module": "@jupyter-widgets/controls",
          "model_name": "DescriptionStyleModel",
          "model_module_version": "1.5.0",
          "state": {
            "_model_module": "@jupyter-widgets/controls",
            "_model_module_version": "1.5.0",
            "_model_name": "DescriptionStyleModel",
            "_view_count": null,
            "_view_module": "@jupyter-widgets/base",
            "_view_module_version": "1.2.0",
            "_view_name": "StyleView",
            "description_width": ""
          }
        },
        "e01617ee942c4991b0a00a9113ce7544": {
          "model_module": "@jupyter-widgets/base",
          "model_name": "LayoutModel",
          "model_module_version": "1.2.0",
          "state": {
            "_model_module": "@jupyter-widgets/base",
            "_model_module_version": "1.2.0",
            "_model_name": "LayoutModel",
            "_view_count": null,
            "_view_module": "@jupyter-widgets/base",
            "_view_module_version": "1.2.0",
            "_view_name": "LayoutView",
            "align_content": null,
            "align_items": null,
            "align_self": null,
            "border": null,
            "bottom": null,
            "display": null,
            "flex": null,
            "flex_flow": null,
            "grid_area": null,
            "grid_auto_columns": null,
            "grid_auto_flow": null,
            "grid_auto_rows": null,
            "grid_column": null,
            "grid_gap": null,
            "grid_row": null,
            "grid_template_areas": null,
            "grid_template_columns": null,
            "grid_template_rows": null,
            "height": null,
            "justify_content": null,
            "justify_items": null,
            "left": null,
            "margin": null,
            "max_height": null,
            "max_width": null,
            "min_height": null,
            "min_width": null,
            "object_fit": null,
            "object_position": null,
            "order": null,
            "overflow": null,
            "overflow_x": null,
            "overflow_y": null,
            "padding": null,
            "right": null,
            "top": null,
            "visibility": null,
            "width": "20px"
          }
        },
        "5bba76398fd440f3816101106f4cb8e0": {
          "model_module": "@jupyter-widgets/controls",
          "model_name": "ProgressStyleModel",
          "model_module_version": "1.5.0",
          "state": {
            "_model_module": "@jupyter-widgets/controls",
            "_model_module_version": "1.5.0",
            "_model_name": "ProgressStyleModel",
            "_view_count": null,
            "_view_module": "@jupyter-widgets/base",
            "_view_module_version": "1.2.0",
            "_view_name": "StyleView",
            "bar_color": null,
            "description_width": ""
          }
        },
        "0d10dd9ac00e4d35b12e51886a217d01": {
          "model_module": "@jupyter-widgets/base",
          "model_name": "LayoutModel",
          "model_module_version": "1.2.0",
          "state": {
            "_model_module": "@jupyter-widgets/base",
            "_model_module_version": "1.2.0",
            "_model_name": "LayoutModel",
            "_view_count": null,
            "_view_module": "@jupyter-widgets/base",
            "_view_module_version": "1.2.0",
            "_view_name": "LayoutView",
            "align_content": null,
            "align_items": null,
            "align_self": null,
            "border": null,
            "bottom": null,
            "display": null,
            "flex": null,
            "flex_flow": null,
            "grid_area": null,
            "grid_auto_columns": null,
            "grid_auto_flow": null,
            "grid_auto_rows": null,
            "grid_column": null,
            "grid_gap": null,
            "grid_row": null,
            "grid_template_areas": null,
            "grid_template_columns": null,
            "grid_template_rows": null,
            "height": null,
            "justify_content": null,
            "justify_items": null,
            "left": null,
            "margin": null,
            "max_height": null,
            "max_width": null,
            "min_height": null,
            "min_width": null,
            "object_fit": null,
            "object_position": null,
            "order": null,
            "overflow": null,
            "overflow_x": null,
            "overflow_y": null,
            "padding": null,
            "right": null,
            "top": null,
            "visibility": null,
            "width": null
          }
        },
        "db2ce77f4df14bebb99cbdeb03ec1c04": {
          "model_module": "@jupyter-widgets/controls",
          "model_name": "DescriptionStyleModel",
          "model_module_version": "1.5.0",
          "state": {
            "_model_module": "@jupyter-widgets/controls",
            "_model_module_version": "1.5.0",
            "_model_name": "DescriptionStyleModel",
            "_view_count": null,
            "_view_module": "@jupyter-widgets/base",
            "_view_module_version": "1.2.0",
            "_view_name": "StyleView",
            "description_width": ""
          }
        },
        "497004ab76094d689b51fcd35ff5b283": {
          "model_module": "@jupyter-widgets/controls",
          "model_name": "HBoxModel",
          "model_module_version": "1.5.0",
          "state": {
            "_dom_classes": [],
            "_model_module": "@jupyter-widgets/controls",
            "_model_module_version": "1.5.0",
            "_model_name": "HBoxModel",
            "_view_count": null,
            "_view_module": "@jupyter-widgets/controls",
            "_view_module_version": "1.5.0",
            "_view_name": "HBoxView",
            "box_style": "",
            "children": [
              "IPY_MODEL_0647aa481b0d433b82e6f0c28d5b6ffd",
              "IPY_MODEL_e0a13e1cddb242e790f24535d84ff359",
              "IPY_MODEL_08a0e1015c52477eac4d07e9daee0aba"
            ],
            "layout": "IPY_MODEL_e9c19d449f8f49e885e393fe6d30adc8"
          }
        },
        "0647aa481b0d433b82e6f0c28d5b6ffd": {
          "model_module": "@jupyter-widgets/controls",
          "model_name": "HTMLModel",
          "model_module_version": "1.5.0",
          "state": {
            "_dom_classes": [],
            "_model_module": "@jupyter-widgets/controls",
            "_model_module_version": "1.5.0",
            "_model_name": "HTMLModel",
            "_view_count": null,
            "_view_module": "@jupyter-widgets/controls",
            "_view_module_version": "1.5.0",
            "_view_name": "HTMLView",
            "description": "",
            "description_tooltip": null,
            "layout": "IPY_MODEL_ac010d026eec42529bad7a2475923080",
            "placeholder": "​",
            "style": "IPY_MODEL_a4129ae82e634391980684a9098af556",
            "value": "Downloading data: 100%"
          }
        },
        "e0a13e1cddb242e790f24535d84ff359": {
          "model_module": "@jupyter-widgets/controls",
          "model_name": "FloatProgressModel",
          "model_module_version": "1.5.0",
          "state": {
            "_dom_classes": [],
            "_model_module": "@jupyter-widgets/controls",
            "_model_module_version": "1.5.0",
            "_model_name": "FloatProgressModel",
            "_view_count": null,
            "_view_module": "@jupyter-widgets/controls",
            "_view_module_version": "1.5.0",
            "_view_name": "ProgressView",
            "bar_style": "success",
            "description": "",
            "description_tooltip": null,
            "layout": "IPY_MODEL_ffc04337278b4ab181635ca68cdda578",
            "max": 234008884,
            "min": 0,
            "orientation": "horizontal",
            "style": "IPY_MODEL_3248c2569ae24514b012a3205695fd73",
            "value": 234008884
          }
        },
        "08a0e1015c52477eac4d07e9daee0aba": {
          "model_module": "@jupyter-widgets/controls",
          "model_name": "HTMLModel",
          "model_module_version": "1.5.0",
          "state": {
            "_dom_classes": [],
            "_model_module": "@jupyter-widgets/controls",
            "_model_module_version": "1.5.0",
            "_model_name": "HTMLModel",
            "_view_count": null,
            "_view_module": "@jupyter-widgets/controls",
            "_view_module_version": "1.5.0",
            "_view_name": "HTMLView",
            "description": "",
            "description_tooltip": null,
            "layout": "IPY_MODEL_dff928aff299425093ec2b0b14ca1027",
            "placeholder": "​",
            "style": "IPY_MODEL_8ab22b319c2c49409d7bb6e7b6aff6c3",
            "value": " 234M/234M [00:08&lt;00:00, 30.2MB/s]"
          }
        },
        "e9c19d449f8f49e885e393fe6d30adc8": {
          "model_module": "@jupyter-widgets/base",
          "model_name": "LayoutModel",
          "model_module_version": "1.2.0",
          "state": {
            "_model_module": "@jupyter-widgets/base",
            "_model_module_version": "1.2.0",
            "_model_name": "LayoutModel",
            "_view_count": null,
            "_view_module": "@jupyter-widgets/base",
            "_view_module_version": "1.2.0",
            "_view_name": "LayoutView",
            "align_content": null,
            "align_items": null,
            "align_self": null,
            "border": null,
            "bottom": null,
            "display": null,
            "flex": null,
            "flex_flow": null,
            "grid_area": null,
            "grid_auto_columns": null,
            "grid_auto_flow": null,
            "grid_auto_rows": null,
            "grid_column": null,
            "grid_gap": null,
            "grid_row": null,
            "grid_template_areas": null,
            "grid_template_columns": null,
            "grid_template_rows": null,
            "height": null,
            "justify_content": null,
            "justify_items": null,
            "left": null,
            "margin": null,
            "max_height": null,
            "max_width": null,
            "min_height": null,
            "min_width": null,
            "object_fit": null,
            "object_position": null,
            "order": null,
            "overflow": null,
            "overflow_x": null,
            "overflow_y": null,
            "padding": null,
            "right": null,
            "top": null,
            "visibility": null,
            "width": null
          }
        },
        "ac010d026eec42529bad7a2475923080": {
          "model_module": "@jupyter-widgets/base",
          "model_name": "LayoutModel",
          "model_module_version": "1.2.0",
          "state": {
            "_model_module": "@jupyter-widgets/base",
            "_model_module_version": "1.2.0",
            "_model_name": "LayoutModel",
            "_view_count": null,
            "_view_module": "@jupyter-widgets/base",
            "_view_module_version": "1.2.0",
            "_view_name": "LayoutView",
            "align_content": null,
            "align_items": null,
            "align_self": null,
            "border": null,
            "bottom": null,
            "display": null,
            "flex": null,
            "flex_flow": null,
            "grid_area": null,
            "grid_auto_columns": null,
            "grid_auto_flow": null,
            "grid_auto_rows": null,
            "grid_column": null,
            "grid_gap": null,
            "grid_row": null,
            "grid_template_areas": null,
            "grid_template_columns": null,
            "grid_template_rows": null,
            "height": null,
            "justify_content": null,
            "justify_items": null,
            "left": null,
            "margin": null,
            "max_height": null,
            "max_width": null,
            "min_height": null,
            "min_width": null,
            "object_fit": null,
            "object_position": null,
            "order": null,
            "overflow": null,
            "overflow_x": null,
            "overflow_y": null,
            "padding": null,
            "right": null,
            "top": null,
            "visibility": null,
            "width": null
          }
        },
        "a4129ae82e634391980684a9098af556": {
          "model_module": "@jupyter-widgets/controls",
          "model_name": "DescriptionStyleModel",
          "model_module_version": "1.5.0",
          "state": {
            "_model_module": "@jupyter-widgets/controls",
            "_model_module_version": "1.5.0",
            "_model_name": "DescriptionStyleModel",
            "_view_count": null,
            "_view_module": "@jupyter-widgets/base",
            "_view_module_version": "1.2.0",
            "_view_name": "StyleView",
            "description_width": ""
          }
        },
        "ffc04337278b4ab181635ca68cdda578": {
          "model_module": "@jupyter-widgets/base",
          "model_name": "LayoutModel",
          "model_module_version": "1.2.0",
          "state": {
            "_model_module": "@jupyter-widgets/base",
            "_model_module_version": "1.2.0",
            "_model_name": "LayoutModel",
            "_view_count": null,
            "_view_module": "@jupyter-widgets/base",
            "_view_module_version": "1.2.0",
            "_view_name": "LayoutView",
            "align_content": null,
            "align_items": null,
            "align_self": null,
            "border": null,
            "bottom": null,
            "display": null,
            "flex": null,
            "flex_flow": null,
            "grid_area": null,
            "grid_auto_columns": null,
            "grid_auto_flow": null,
            "grid_auto_rows": null,
            "grid_column": null,
            "grid_gap": null,
            "grid_row": null,
            "grid_template_areas": null,
            "grid_template_columns": null,
            "grid_template_rows": null,
            "height": null,
            "justify_content": null,
            "justify_items": null,
            "left": null,
            "margin": null,
            "max_height": null,
            "max_width": null,
            "min_height": null,
            "min_width": null,
            "object_fit": null,
            "object_position": null,
            "order": null,
            "overflow": null,
            "overflow_x": null,
            "overflow_y": null,
            "padding": null,
            "right": null,
            "top": null,
            "visibility": null,
            "width": null
          }
        },
        "3248c2569ae24514b012a3205695fd73": {
          "model_module": "@jupyter-widgets/controls",
          "model_name": "ProgressStyleModel",
          "model_module_version": "1.5.0",
          "state": {
            "_model_module": "@jupyter-widgets/controls",
            "_model_module_version": "1.5.0",
            "_model_name": "ProgressStyleModel",
            "_view_count": null,
            "_view_module": "@jupyter-widgets/base",
            "_view_module_version": "1.2.0",
            "_view_name": "StyleView",
            "bar_color": null,
            "description_width": ""
          }
        },
        "dff928aff299425093ec2b0b14ca1027": {
          "model_module": "@jupyter-widgets/base",
          "model_name": "LayoutModel",
          "model_module_version": "1.2.0",
          "state": {
            "_model_module": "@jupyter-widgets/base",
            "_model_module_version": "1.2.0",
            "_model_name": "LayoutModel",
            "_view_count": null,
            "_view_module": "@jupyter-widgets/base",
            "_view_module_version": "1.2.0",
            "_view_name": "LayoutView",
            "align_content": null,
            "align_items": null,
            "align_self": null,
            "border": null,
            "bottom": null,
            "display": null,
            "flex": null,
            "flex_flow": null,
            "grid_area": null,
            "grid_auto_columns": null,
            "grid_auto_flow": null,
            "grid_auto_rows": null,
            "grid_column": null,
            "grid_gap": null,
            "grid_row": null,
            "grid_template_areas": null,
            "grid_template_columns": null,
            "grid_template_rows": null,
            "height": null,
            "justify_content": null,
            "justify_items": null,
            "left": null,
            "margin": null,
            "max_height": null,
            "max_width": null,
            "min_height": null,
            "min_width": null,
            "object_fit": null,
            "object_position": null,
            "order": null,
            "overflow": null,
            "overflow_x": null,
            "overflow_y": null,
            "padding": null,
            "right": null,
            "top": null,
            "visibility": null,
            "width": null
          }
        },
        "8ab22b319c2c49409d7bb6e7b6aff6c3": {
          "model_module": "@jupyter-widgets/controls",
          "model_name": "DescriptionStyleModel",
          "model_module_version": "1.5.0",
          "state": {
            "_model_module": "@jupyter-widgets/controls",
            "_model_module_version": "1.5.0",
            "_model_name": "DescriptionStyleModel",
            "_view_count": null,
            "_view_module": "@jupyter-widgets/base",
            "_view_module_version": "1.2.0",
            "_view_name": "StyleView",
            "description_width": ""
          }
        },
        "59bca78bcc2e4e0795c88688e9b10e07": {
          "model_module": "@jupyter-widgets/controls",
          "model_name": "HBoxModel",
          "model_module_version": "1.5.0",
          "state": {
            "_dom_classes": [],
            "_model_module": "@jupyter-widgets/controls",
            "_model_module_version": "1.5.0",
            "_model_name": "HBoxModel",
            "_view_count": null,
            "_view_module": "@jupyter-widgets/controls",
            "_view_module_version": "1.5.0",
            "_view_name": "HBoxView",
            "box_style": "",
            "children": [
              "IPY_MODEL_ca6da81fc071497bb82f747bcfb9e088",
              "IPY_MODEL_73a440a689b646cea1bcb37b410105f2",
              "IPY_MODEL_5bc904ba00b345e5b9511d2d12efcf56"
            ],
            "layout": "IPY_MODEL_c4ab500ff6de4c07b2dfcf3b64fcfcc4"
          }
        },
        "ca6da81fc071497bb82f747bcfb9e088": {
          "model_module": "@jupyter-widgets/controls",
          "model_name": "HTMLModel",
          "model_module_version": "1.5.0",
          "state": {
            "_dom_classes": [],
            "_model_module": "@jupyter-widgets/controls",
            "_model_module_version": "1.5.0",
            "_model_name": "HTMLModel",
            "_view_count": null,
            "_view_module": "@jupyter-widgets/controls",
            "_view_module_version": "1.5.0",
            "_view_name": "HTMLView",
            "description": "",
            "description_tooltip": null,
            "layout": "IPY_MODEL_28b4e8abc4d348daa5ed13364f7d31de",
            "placeholder": "​",
            "style": "IPY_MODEL_5db5a7311c1d485aaa858313db3a5d51",
            "value": "Generating validation split: 100%"
          }
        },
        "73a440a689b646cea1bcb37b410105f2": {
          "model_module": "@jupyter-widgets/controls",
          "model_name": "FloatProgressModel",
          "model_module_version": "1.5.0",
          "state": {
            "_dom_classes": [],
            "_model_module": "@jupyter-widgets/controls",
            "_model_module_version": "1.5.0",
            "_model_name": "FloatProgressModel",
            "_view_count": null,
            "_view_module": "@jupyter-widgets/controls",
            "_view_module_version": "1.5.0",
            "_view_name": "ProgressView",
            "bar_style": "",
            "description": "",
            "description_tooltip": null,
            "layout": "IPY_MODEL_b2de628b8cf04a8ead3bc54601cd54bc",
            "max": 10000,
            "min": 0,
            "orientation": "horizontal",
            "style": "IPY_MODEL_1ec8eed0c4a647288d199a9f8adf4740",
            "value": 10000
          }
        },
        "5bc904ba00b345e5b9511d2d12efcf56": {
          "model_module": "@jupyter-widgets/controls",
          "model_name": "HTMLModel",
          "model_module_version": "1.5.0",
          "state": {
            "_dom_classes": [],
            "_model_module": "@jupyter-widgets/controls",
            "_model_module_version": "1.5.0",
            "_model_name": "HTMLModel",
            "_view_count": null,
            "_view_module": "@jupyter-widgets/controls",
            "_view_module_version": "1.5.0",
            "_view_name": "HTMLView",
            "description": "",
            "description_tooltip": null,
            "layout": "IPY_MODEL_74631b499bb8426a89bad31cc4e88e59",
            "placeholder": "​",
            "style": "IPY_MODEL_c51dbcd1d2284b069b32ebfc138a7504",
            "value": " 10000/10000 [00:02&lt;00:00, 3416.22 examples/s]"
          }
        },
        "c4ab500ff6de4c07b2dfcf3b64fcfcc4": {
          "model_module": "@jupyter-widgets/base",
          "model_name": "LayoutModel",
          "model_module_version": "1.2.0",
          "state": {
            "_model_module": "@jupyter-widgets/base",
            "_model_module_version": "1.2.0",
            "_model_name": "LayoutModel",
            "_view_count": null,
            "_view_module": "@jupyter-widgets/base",
            "_view_module_version": "1.2.0",
            "_view_name": "LayoutView",
            "align_content": null,
            "align_items": null,
            "align_self": null,
            "border": null,
            "bottom": null,
            "display": null,
            "flex": null,
            "flex_flow": null,
            "grid_area": null,
            "grid_auto_columns": null,
            "grid_auto_flow": null,
            "grid_auto_rows": null,
            "grid_column": null,
            "grid_gap": null,
            "grid_row": null,
            "grid_template_areas": null,
            "grid_template_columns": null,
            "grid_template_rows": null,
            "height": null,
            "justify_content": null,
            "justify_items": null,
            "left": null,
            "margin": null,
            "max_height": null,
            "max_width": null,
            "min_height": null,
            "min_width": null,
            "object_fit": null,
            "object_position": null,
            "order": null,
            "overflow": null,
            "overflow_x": null,
            "overflow_y": null,
            "padding": null,
            "right": null,
            "top": null,
            "visibility": "hidden",
            "width": null
          }
        },
        "28b4e8abc4d348daa5ed13364f7d31de": {
          "model_module": "@jupyter-widgets/base",
          "model_name": "LayoutModel",
          "model_module_version": "1.2.0",
          "state": {
            "_model_module": "@jupyter-widgets/base",
            "_model_module_version": "1.2.0",
            "_model_name": "LayoutModel",
            "_view_count": null,
            "_view_module": "@jupyter-widgets/base",
            "_view_module_version": "1.2.0",
            "_view_name": "LayoutView",
            "align_content": null,
            "align_items": null,
            "align_self": null,
            "border": null,
            "bottom": null,
            "display": null,
            "flex": null,
            "flex_flow": null,
            "grid_area": null,
            "grid_auto_columns": null,
            "grid_auto_flow": null,
            "grid_auto_rows": null,
            "grid_column": null,
            "grid_gap": null,
            "grid_row": null,
            "grid_template_areas": null,
            "grid_template_columns": null,
            "grid_template_rows": null,
            "height": null,
            "justify_content": null,
            "justify_items": null,
            "left": null,
            "margin": null,
            "max_height": null,
            "max_width": null,
            "min_height": null,
            "min_width": null,
            "object_fit": null,
            "object_position": null,
            "order": null,
            "overflow": null,
            "overflow_x": null,
            "overflow_y": null,
            "padding": null,
            "right": null,
            "top": null,
            "visibility": null,
            "width": null
          }
        },
        "5db5a7311c1d485aaa858313db3a5d51": {
          "model_module": "@jupyter-widgets/controls",
          "model_name": "DescriptionStyleModel",
          "model_module_version": "1.5.0",
          "state": {
            "_model_module": "@jupyter-widgets/controls",
            "_model_module_version": "1.5.0",
            "_model_name": "DescriptionStyleModel",
            "_view_count": null,
            "_view_module": "@jupyter-widgets/base",
            "_view_module_version": "1.2.0",
            "_view_name": "StyleView",
            "description_width": ""
          }
        },
        "b2de628b8cf04a8ead3bc54601cd54bc": {
          "model_module": "@jupyter-widgets/base",
          "model_name": "LayoutModel",
          "model_module_version": "1.2.0",
          "state": {
            "_model_module": "@jupyter-widgets/base",
            "_model_module_version": "1.2.0",
            "_model_name": "LayoutModel",
            "_view_count": null,
            "_view_module": "@jupyter-widgets/base",
            "_view_module_version": "1.2.0",
            "_view_name": "LayoutView",
            "align_content": null,
            "align_items": null,
            "align_self": null,
            "border": null,
            "bottom": null,
            "display": null,
            "flex": null,
            "flex_flow": null,
            "grid_area": null,
            "grid_auto_columns": null,
            "grid_auto_flow": null,
            "grid_auto_rows": null,
            "grid_column": null,
            "grid_gap": null,
            "grid_row": null,
            "grid_template_areas": null,
            "grid_template_columns": null,
            "grid_template_rows": null,
            "height": null,
            "justify_content": null,
            "justify_items": null,
            "left": null,
            "margin": null,
            "max_height": null,
            "max_width": null,
            "min_height": null,
            "min_width": null,
            "object_fit": null,
            "object_position": null,
            "order": null,
            "overflow": null,
            "overflow_x": null,
            "overflow_y": null,
            "padding": null,
            "right": null,
            "top": null,
            "visibility": null,
            "width": null
          }
        },
        "1ec8eed0c4a647288d199a9f8adf4740": {
          "model_module": "@jupyter-widgets/controls",
          "model_name": "ProgressStyleModel",
          "model_module_version": "1.5.0",
          "state": {
            "_model_module": "@jupyter-widgets/controls",
            "_model_module_version": "1.5.0",
            "_model_name": "ProgressStyleModel",
            "_view_count": null,
            "_view_module": "@jupyter-widgets/base",
            "_view_module_version": "1.2.0",
            "_view_name": "StyleView",
            "bar_color": null,
            "description_width": ""
          }
        },
        "74631b499bb8426a89bad31cc4e88e59": {
          "model_module": "@jupyter-widgets/base",
          "model_name": "LayoutModel",
          "model_module_version": "1.2.0",
          "state": {
            "_model_module": "@jupyter-widgets/base",
            "_model_module_version": "1.2.0",
            "_model_name": "LayoutModel",
            "_view_count": null,
            "_view_module": "@jupyter-widgets/base",
            "_view_module_version": "1.2.0",
            "_view_name": "LayoutView",
            "align_content": null,
            "align_items": null,
            "align_self": null,
            "border": null,
            "bottom": null,
            "display": null,
            "flex": null,
            "flex_flow": null,
            "grid_area": null,
            "grid_auto_columns": null,
            "grid_auto_flow": null,
            "grid_auto_rows": null,
            "grid_column": null,
            "grid_gap": null,
            "grid_row": null,
            "grid_template_areas": null,
            "grid_template_columns": null,
            "grid_template_rows": null,
            "height": null,
            "justify_content": null,
            "justify_items": null,
            "left": null,
            "margin": null,
            "max_height": null,
            "max_width": null,
            "min_height": null,
            "min_width": null,
            "object_fit": null,
            "object_position": null,
            "order": null,
            "overflow": null,
            "overflow_x": null,
            "overflow_y": null,
            "padding": null,
            "right": null,
            "top": null,
            "visibility": null,
            "width": null
          }
        },
        "c51dbcd1d2284b069b32ebfc138a7504": {
          "model_module": "@jupyter-widgets/controls",
          "model_name": "DescriptionStyleModel",
          "model_module_version": "1.5.0",
          "state": {
            "_model_module": "@jupyter-widgets/controls",
            "_model_module_version": "1.5.0",
            "_model_name": "DescriptionStyleModel",
            "_view_count": null,
            "_view_module": "@jupyter-widgets/base",
            "_view_module_version": "1.2.0",
            "_view_name": "StyleView",
            "description_width": ""
          }
        },
        "de38081d7dca4884a867b4ed39529123": {
          "model_module": "@jupyter-widgets/controls",
          "model_name": "HBoxModel",
          "model_module_version": "1.5.0",
          "state": {
            "_dom_classes": [],
            "_model_module": "@jupyter-widgets/controls",
            "_model_module_version": "1.5.0",
            "_model_name": "HBoxModel",
            "_view_count": null,
            "_view_module": "@jupyter-widgets/controls",
            "_view_module_version": "1.5.0",
            "_view_name": "HBoxView",
            "box_style": "",
            "children": [
              "IPY_MODEL_5d52f5108aaf4c989bfcaaf76030fb02",
              "IPY_MODEL_a4389323b38647c8874e979eb087d4dc",
              "IPY_MODEL_9161c8c759f34df7a7b1ed61291083c2"
            ],
            "layout": "IPY_MODEL_2e2a436a38c04b6180ce797634e43230"
          }
        },
        "5d52f5108aaf4c989bfcaaf76030fb02": {
          "model_module": "@jupyter-widgets/controls",
          "model_name": "HTMLModel",
          "model_module_version": "1.5.0",
          "state": {
            "_dom_classes": [],
            "_model_module": "@jupyter-widgets/controls",
            "_model_module_version": "1.5.0",
            "_model_name": "HTMLModel",
            "_view_count": null,
            "_view_module": "@jupyter-widgets/controls",
            "_view_module_version": "1.5.0",
            "_view_name": "HTMLView",
            "description": "",
            "description_tooltip": null,
            "layout": "IPY_MODEL_3648d3e6ba9e4ad2b5f6ccb3bdfc3354",
            "placeholder": "​",
            "style": "IPY_MODEL_04b2351a735f4f15b89d871aa14f5003",
            "value": "Generating test split: 100%"
          }
        },
        "a4389323b38647c8874e979eb087d4dc": {
          "model_module": "@jupyter-widgets/controls",
          "model_name": "FloatProgressModel",
          "model_module_version": "1.5.0",
          "state": {
            "_dom_classes": [],
            "_model_module": "@jupyter-widgets/controls",
            "_model_module_version": "1.5.0",
            "_model_name": "FloatProgressModel",
            "_view_count": null,
            "_view_module": "@jupyter-widgets/controls",
            "_view_module_version": "1.5.0",
            "_view_name": "ProgressView",
            "bar_style": "",
            "description": "",
            "description_tooltip": null,
            "layout": "IPY_MODEL_ae801c35190542b58e5e171f13d143b4",
            "max": 10000,
            "min": 0,
            "orientation": "horizontal",
            "style": "IPY_MODEL_e5754aff1c4042c1a64c744bf26c980b",
            "value": 10000
          }
        },
        "9161c8c759f34df7a7b1ed61291083c2": {
          "model_module": "@jupyter-widgets/controls",
          "model_name": "HTMLModel",
          "model_module_version": "1.5.0",
          "state": {
            "_dom_classes": [],
            "_model_module": "@jupyter-widgets/controls",
            "_model_module_version": "1.5.0",
            "_model_name": "HTMLModel",
            "_view_count": null,
            "_view_module": "@jupyter-widgets/controls",
            "_view_module_version": "1.5.0",
            "_view_name": "HTMLView",
            "description": "",
            "description_tooltip": null,
            "layout": "IPY_MODEL_08b4d707451947e0a1fc3ee289f0a88f",
            "placeholder": "​",
            "style": "IPY_MODEL_1ebba16e5a604abe8a7252111574ac34",
            "value": " 9983/10000 [00:05&lt;00:00, 1705.60 examples/s]"
          }
        },
        "2e2a436a38c04b6180ce797634e43230": {
          "model_module": "@jupyter-widgets/base",
          "model_name": "LayoutModel",
          "model_module_version": "1.2.0",
          "state": {
            "_model_module": "@jupyter-widgets/base",
            "_model_module_version": "1.2.0",
            "_model_name": "LayoutModel",
            "_view_count": null,
            "_view_module": "@jupyter-widgets/base",
            "_view_module_version": "1.2.0",
            "_view_name": "LayoutView",
            "align_content": null,
            "align_items": null,
            "align_self": null,
            "border": null,
            "bottom": null,
            "display": null,
            "flex": null,
            "flex_flow": null,
            "grid_area": null,
            "grid_auto_columns": null,
            "grid_auto_flow": null,
            "grid_auto_rows": null,
            "grid_column": null,
            "grid_gap": null,
            "grid_row": null,
            "grid_template_areas": null,
            "grid_template_columns": null,
            "grid_template_rows": null,
            "height": null,
            "justify_content": null,
            "justify_items": null,
            "left": null,
            "margin": null,
            "max_height": null,
            "max_width": null,
            "min_height": null,
            "min_width": null,
            "object_fit": null,
            "object_position": null,
            "order": null,
            "overflow": null,
            "overflow_x": null,
            "overflow_y": null,
            "padding": null,
            "right": null,
            "top": null,
            "visibility": "hidden",
            "width": null
          }
        },
        "3648d3e6ba9e4ad2b5f6ccb3bdfc3354": {
          "model_module": "@jupyter-widgets/base",
          "model_name": "LayoutModel",
          "model_module_version": "1.2.0",
          "state": {
            "_model_module": "@jupyter-widgets/base",
            "_model_module_version": "1.2.0",
            "_model_name": "LayoutModel",
            "_view_count": null,
            "_view_module": "@jupyter-widgets/base",
            "_view_module_version": "1.2.0",
            "_view_name": "LayoutView",
            "align_content": null,
            "align_items": null,
            "align_self": null,
            "border": null,
            "bottom": null,
            "display": null,
            "flex": null,
            "flex_flow": null,
            "grid_area": null,
            "grid_auto_columns": null,
            "grid_auto_flow": null,
            "grid_auto_rows": null,
            "grid_column": null,
            "grid_gap": null,
            "grid_row": null,
            "grid_template_areas": null,
            "grid_template_columns": null,
            "grid_template_rows": null,
            "height": null,
            "justify_content": null,
            "justify_items": null,
            "left": null,
            "margin": null,
            "max_height": null,
            "max_width": null,
            "min_height": null,
            "min_width": null,
            "object_fit": null,
            "object_position": null,
            "order": null,
            "overflow": null,
            "overflow_x": null,
            "overflow_y": null,
            "padding": null,
            "right": null,
            "top": null,
            "visibility": null,
            "width": null
          }
        },
        "04b2351a735f4f15b89d871aa14f5003": {
          "model_module": "@jupyter-widgets/controls",
          "model_name": "DescriptionStyleModel",
          "model_module_version": "1.5.0",
          "state": {
            "_model_module": "@jupyter-widgets/controls",
            "_model_module_version": "1.5.0",
            "_model_name": "DescriptionStyleModel",
            "_view_count": null,
            "_view_module": "@jupyter-widgets/base",
            "_view_module_version": "1.2.0",
            "_view_name": "StyleView",
            "description_width": ""
          }
        },
        "ae801c35190542b58e5e171f13d143b4": {
          "model_module": "@jupyter-widgets/base",
          "model_name": "LayoutModel",
          "model_module_version": "1.2.0",
          "state": {
            "_model_module": "@jupyter-widgets/base",
            "_model_module_version": "1.2.0",
            "_model_name": "LayoutModel",
            "_view_count": null,
            "_view_module": "@jupyter-widgets/base",
            "_view_module_version": "1.2.0",
            "_view_name": "LayoutView",
            "align_content": null,
            "align_items": null,
            "align_self": null,
            "border": null,
            "bottom": null,
            "display": null,
            "flex": null,
            "flex_flow": null,
            "grid_area": null,
            "grid_auto_columns": null,
            "grid_auto_flow": null,
            "grid_auto_rows": null,
            "grid_column": null,
            "grid_gap": null,
            "grid_row": null,
            "grid_template_areas": null,
            "grid_template_columns": null,
            "grid_template_rows": null,
            "height": null,
            "justify_content": null,
            "justify_items": null,
            "left": null,
            "margin": null,
            "max_height": null,
            "max_width": null,
            "min_height": null,
            "min_width": null,
            "object_fit": null,
            "object_position": null,
            "order": null,
            "overflow": null,
            "overflow_x": null,
            "overflow_y": null,
            "padding": null,
            "right": null,
            "top": null,
            "visibility": null,
            "width": null
          }
        },
        "e5754aff1c4042c1a64c744bf26c980b": {
          "model_module": "@jupyter-widgets/controls",
          "model_name": "ProgressStyleModel",
          "model_module_version": "1.5.0",
          "state": {
            "_model_module": "@jupyter-widgets/controls",
            "_model_module_version": "1.5.0",
            "_model_name": "ProgressStyleModel",
            "_view_count": null,
            "_view_module": "@jupyter-widgets/base",
            "_view_module_version": "1.2.0",
            "_view_name": "StyleView",
            "bar_color": null,
            "description_width": ""
          }
        },
        "08b4d707451947e0a1fc3ee289f0a88f": {
          "model_module": "@jupyter-widgets/base",
          "model_name": "LayoutModel",
          "model_module_version": "1.2.0",
          "state": {
            "_model_module": "@jupyter-widgets/base",
            "_model_module_version": "1.2.0",
            "_model_name": "LayoutModel",
            "_view_count": null,
            "_view_module": "@jupyter-widgets/base",
            "_view_module_version": "1.2.0",
            "_view_name": "LayoutView",
            "align_content": null,
            "align_items": null,
            "align_self": null,
            "border": null,
            "bottom": null,
            "display": null,
            "flex": null,
            "flex_flow": null,
            "grid_area": null,
            "grid_auto_columns": null,
            "grid_auto_flow": null,
            "grid_auto_rows": null,
            "grid_column": null,
            "grid_gap": null,
            "grid_row": null,
            "grid_template_areas": null,
            "grid_template_columns": null,
            "grid_template_rows": null,
            "height": null,
            "justify_content": null,
            "justify_items": null,
            "left": null,
            "margin": null,
            "max_height": null,
            "max_width": null,
            "min_height": null,
            "min_width": null,
            "object_fit": null,
            "object_position": null,
            "order": null,
            "overflow": null,
            "overflow_x": null,
            "overflow_y": null,
            "padding": null,
            "right": null,
            "top": null,
            "visibility": null,
            "width": null
          }
        },
        "1ebba16e5a604abe8a7252111574ac34": {
          "model_module": "@jupyter-widgets/controls",
          "model_name": "DescriptionStyleModel",
          "model_module_version": "1.5.0",
          "state": {
            "_model_module": "@jupyter-widgets/controls",
            "_model_module_version": "1.5.0",
            "_model_name": "DescriptionStyleModel",
            "_view_count": null,
            "_view_module": "@jupyter-widgets/base",
            "_view_module_version": "1.2.0",
            "_view_name": "StyleView",
            "description_width": ""
          }
        },
        "a036b05c5a4244948b1b2fbefe26715a": {
          "model_module": "@jupyter-widgets/controls",
          "model_name": "HBoxModel",
          "model_module_version": "1.5.0",
          "state": {
            "_dom_classes": [],
            "_model_module": "@jupyter-widgets/controls",
            "_model_module_version": "1.5.0",
            "_model_name": "HBoxModel",
            "_view_count": null,
            "_view_module": "@jupyter-widgets/controls",
            "_view_module_version": "1.5.0",
            "_view_name": "HBoxView",
            "box_style": "",
            "children": [
              "IPY_MODEL_be0d3bebea5b473e8cae301d7752b53e",
              "IPY_MODEL_7636dc3f000b446a9562b70105209065",
              "IPY_MODEL_de339b41abd84f50a7273abad84ffc7c"
            ],
            "layout": "IPY_MODEL_47188a35d2ae47268858df9bd75f46d4"
          }
        },
        "be0d3bebea5b473e8cae301d7752b53e": {
          "model_module": "@jupyter-widgets/controls",
          "model_name": "HTMLModel",
          "model_module_version": "1.5.0",
          "state": {
            "_dom_classes": [],
            "_model_module": "@jupyter-widgets/controls",
            "_model_module_version": "1.5.0",
            "_model_name": "HTMLModel",
            "_view_count": null,
            "_view_module": "@jupyter-widgets/controls",
            "_view_module_version": "1.5.0",
            "_view_name": "HTMLView",
            "description": "",
            "description_tooltip": null,
            "layout": "IPY_MODEL_73ab6b62f94e4bf8b92b5d4f0373ead6",
            "placeholder": "​",
            "style": "IPY_MODEL_604a984310b041a099e2e404a2e0c4f3",
            "value": "Generating train split: 100%"
          }
        },
        "7636dc3f000b446a9562b70105209065": {
          "model_module": "@jupyter-widgets/controls",
          "model_name": "FloatProgressModel",
          "model_module_version": "1.5.0",
          "state": {
            "_dom_classes": [],
            "_model_module": "@jupyter-widgets/controls",
            "_model_module_version": "1.5.0",
            "_model_name": "FloatProgressModel",
            "_view_count": null,
            "_view_module": "@jupyter-widgets/controls",
            "_view_module_version": "1.5.0",
            "_view_name": "ProgressView",
            "bar_style": "",
            "description": "",
            "description_tooltip": null,
            "layout": "IPY_MODEL_384172ddd8ef4f29a09f1db53baa14e5",
            "max": 20000,
            "min": 0,
            "orientation": "horizontal",
            "style": "IPY_MODEL_739b8462f85043f1aacb7eff1d05c0e5",
            "value": 20000
          }
        },
        "de339b41abd84f50a7273abad84ffc7c": {
          "model_module": "@jupyter-widgets/controls",
          "model_name": "HTMLModel",
          "model_module_version": "1.5.0",
          "state": {
            "_dom_classes": [],
            "_model_module": "@jupyter-widgets/controls",
            "_model_module_version": "1.5.0",
            "_model_name": "HTMLModel",
            "_view_count": null,
            "_view_module": "@jupyter-widgets/controls",
            "_view_module_version": "1.5.0",
            "_view_name": "HTMLView",
            "description": "",
            "description_tooltip": null,
            "layout": "IPY_MODEL_2be51d7fe32a4a558d199a3466208baa",
            "placeholder": "​",
            "style": "IPY_MODEL_148a1c4469d7429ba612539264c20009",
            "value": " 20000/20000 [00:07&lt;00:00, 2670.85 examples/s]"
          }
        },
        "47188a35d2ae47268858df9bd75f46d4": {
          "model_module": "@jupyter-widgets/base",
          "model_name": "LayoutModel",
          "model_module_version": "1.2.0",
          "state": {
            "_model_module": "@jupyter-widgets/base",
            "_model_module_version": "1.2.0",
            "_model_name": "LayoutModel",
            "_view_count": null,
            "_view_module": "@jupyter-widgets/base",
            "_view_module_version": "1.2.0",
            "_view_name": "LayoutView",
            "align_content": null,
            "align_items": null,
            "align_self": null,
            "border": null,
            "bottom": null,
            "display": null,
            "flex": null,
            "flex_flow": null,
            "grid_area": null,
            "grid_auto_columns": null,
            "grid_auto_flow": null,
            "grid_auto_rows": null,
            "grid_column": null,
            "grid_gap": null,
            "grid_row": null,
            "grid_template_areas": null,
            "grid_template_columns": null,
            "grid_template_rows": null,
            "height": null,
            "justify_content": null,
            "justify_items": null,
            "left": null,
            "margin": null,
            "max_height": null,
            "max_width": null,
            "min_height": null,
            "min_width": null,
            "object_fit": null,
            "object_position": null,
            "order": null,
            "overflow": null,
            "overflow_x": null,
            "overflow_y": null,
            "padding": null,
            "right": null,
            "top": null,
            "visibility": "hidden",
            "width": null
          }
        },
        "73ab6b62f94e4bf8b92b5d4f0373ead6": {
          "model_module": "@jupyter-widgets/base",
          "model_name": "LayoutModel",
          "model_module_version": "1.2.0",
          "state": {
            "_model_module": "@jupyter-widgets/base",
            "_model_module_version": "1.2.0",
            "_model_name": "LayoutModel",
            "_view_count": null,
            "_view_module": "@jupyter-widgets/base",
            "_view_module_version": "1.2.0",
            "_view_name": "LayoutView",
            "align_content": null,
            "align_items": null,
            "align_self": null,
            "border": null,
            "bottom": null,
            "display": null,
            "flex": null,
            "flex_flow": null,
            "grid_area": null,
            "grid_auto_columns": null,
            "grid_auto_flow": null,
            "grid_auto_rows": null,
            "grid_column": null,
            "grid_gap": null,
            "grid_row": null,
            "grid_template_areas": null,
            "grid_template_columns": null,
            "grid_template_rows": null,
            "height": null,
            "justify_content": null,
            "justify_items": null,
            "left": null,
            "margin": null,
            "max_height": null,
            "max_width": null,
            "min_height": null,
            "min_width": null,
            "object_fit": null,
            "object_position": null,
            "order": null,
            "overflow": null,
            "overflow_x": null,
            "overflow_y": null,
            "padding": null,
            "right": null,
            "top": null,
            "visibility": null,
            "width": null
          }
        },
        "604a984310b041a099e2e404a2e0c4f3": {
          "model_module": "@jupyter-widgets/controls",
          "model_name": "DescriptionStyleModel",
          "model_module_version": "1.5.0",
          "state": {
            "_model_module": "@jupyter-widgets/controls",
            "_model_module_version": "1.5.0",
            "_model_name": "DescriptionStyleModel",
            "_view_count": null,
            "_view_module": "@jupyter-widgets/base",
            "_view_module_version": "1.2.0",
            "_view_name": "StyleView",
            "description_width": ""
          }
        },
        "384172ddd8ef4f29a09f1db53baa14e5": {
          "model_module": "@jupyter-widgets/base",
          "model_name": "LayoutModel",
          "model_module_version": "1.2.0",
          "state": {
            "_model_module": "@jupyter-widgets/base",
            "_model_module_version": "1.2.0",
            "_model_name": "LayoutModel",
            "_view_count": null,
            "_view_module": "@jupyter-widgets/base",
            "_view_module_version": "1.2.0",
            "_view_name": "LayoutView",
            "align_content": null,
            "align_items": null,
            "align_self": null,
            "border": null,
            "bottom": null,
            "display": null,
            "flex": null,
            "flex_flow": null,
            "grid_area": null,
            "grid_auto_columns": null,
            "grid_auto_flow": null,
            "grid_auto_rows": null,
            "grid_column": null,
            "grid_gap": null,
            "grid_row": null,
            "grid_template_areas": null,
            "grid_template_columns": null,
            "grid_template_rows": null,
            "height": null,
            "justify_content": null,
            "justify_items": null,
            "left": null,
            "margin": null,
            "max_height": null,
            "max_width": null,
            "min_height": null,
            "min_width": null,
            "object_fit": null,
            "object_position": null,
            "order": null,
            "overflow": null,
            "overflow_x": null,
            "overflow_y": null,
            "padding": null,
            "right": null,
            "top": null,
            "visibility": null,
            "width": null
          }
        },
        "739b8462f85043f1aacb7eff1d05c0e5": {
          "model_module": "@jupyter-widgets/controls",
          "model_name": "ProgressStyleModel",
          "model_module_version": "1.5.0",
          "state": {
            "_model_module": "@jupyter-widgets/controls",
            "_model_module_version": "1.5.0",
            "_model_name": "ProgressStyleModel",
            "_view_count": null,
            "_view_module": "@jupyter-widgets/base",
            "_view_module_version": "1.2.0",
            "_view_name": "StyleView",
            "bar_color": null,
            "description_width": ""
          }
        },
        "2be51d7fe32a4a558d199a3466208baa": {
          "model_module": "@jupyter-widgets/base",
          "model_name": "LayoutModel",
          "model_module_version": "1.2.0",
          "state": {
            "_model_module": "@jupyter-widgets/base",
            "_model_module_version": "1.2.0",
            "_model_name": "LayoutModel",
            "_view_count": null,
            "_view_module": "@jupyter-widgets/base",
            "_view_module_version": "1.2.0",
            "_view_name": "LayoutView",
            "align_content": null,
            "align_items": null,
            "align_self": null,
            "border": null,
            "bottom": null,
            "display": null,
            "flex": null,
            "flex_flow": null,
            "grid_area": null,
            "grid_auto_columns": null,
            "grid_auto_flow": null,
            "grid_auto_rows": null,
            "grid_column": null,
            "grid_gap": null,
            "grid_row": null,
            "grid_template_areas": null,
            "grid_template_columns": null,
            "grid_template_rows": null,
            "height": null,
            "justify_content": null,
            "justify_items": null,
            "left": null,
            "margin": null,
            "max_height": null,
            "max_width": null,
            "min_height": null,
            "min_width": null,
            "object_fit": null,
            "object_position": null,
            "order": null,
            "overflow": null,
            "overflow_x": null,
            "overflow_y": null,
            "padding": null,
            "right": null,
            "top": null,
            "visibility": null,
            "width": null
          }
        },
        "148a1c4469d7429ba612539264c20009": {
          "model_module": "@jupyter-widgets/controls",
          "model_name": "DescriptionStyleModel",
          "model_module_version": "1.5.0",
          "state": {
            "_model_module": "@jupyter-widgets/controls",
            "_model_module_version": "1.5.0",
            "_model_name": "DescriptionStyleModel",
            "_view_count": null,
            "_view_module": "@jupyter-widgets/base",
            "_view_module_version": "1.2.0",
            "_view_name": "StyleView",
            "description_width": ""
          }
        },
        "955298786e2c45f3bcb3f909073c38df": {
          "model_module": "@jupyter-widgets/controls",
          "model_name": "HBoxModel",
          "model_module_version": "1.5.0",
          "state": {
            "_dom_classes": [],
            "_model_module": "@jupyter-widgets/controls",
            "_model_module_version": "1.5.0",
            "_model_name": "HBoxModel",
            "_view_count": null,
            "_view_module": "@jupyter-widgets/controls",
            "_view_module_version": "1.5.0",
            "_view_name": "HBoxView",
            "box_style": "",
            "children": [
              "IPY_MODEL_0e7bcb07c9914227abebd6506e6ce9ab",
              "IPY_MODEL_14bdc6a1cde441d68b76a661342a049b",
              "IPY_MODEL_8dafad88661d4e1ebc97980e46f0034e"
            ],
            "layout": "IPY_MODEL_407c9d4ed8c84af2b51e889b744caa2e"
          }
        },
        "0e7bcb07c9914227abebd6506e6ce9ab": {
          "model_module": "@jupyter-widgets/controls",
          "model_name": "HTMLModel",
          "model_module_version": "1.5.0",
          "state": {
            "_dom_classes": [],
            "_model_module": "@jupyter-widgets/controls",
            "_model_module_version": "1.5.0",
            "_model_name": "HTMLModel",
            "_view_count": null,
            "_view_module": "@jupyter-widgets/controls",
            "_view_module_version": "1.5.0",
            "_view_name": "HTMLView",
            "description": "",
            "description_tooltip": null,
            "layout": "IPY_MODEL_8d2ed34af86c4ffab3db8f9188193425",
            "placeholder": "​",
            "style": "IPY_MODEL_e90e9daef74f48d8990ef218fa42c7e9",
            "value": "100%"
          }
        },
        "14bdc6a1cde441d68b76a661342a049b": {
          "model_module": "@jupyter-widgets/controls",
          "model_name": "FloatProgressModel",
          "model_module_version": "1.5.0",
          "state": {
            "_dom_classes": [],
            "_model_module": "@jupyter-widgets/controls",
            "_model_module_version": "1.5.0",
            "_model_name": "FloatProgressModel",
            "_view_count": null,
            "_view_module": "@jupyter-widgets/controls",
            "_view_module_version": "1.5.0",
            "_view_name": "ProgressView",
            "bar_style": "success",
            "description": "",
            "description_tooltip": null,
            "layout": "IPY_MODEL_90271613019542e0a778bf51236b78c5",
            "max": 3,
            "min": 0,
            "orientation": "horizontal",
            "style": "IPY_MODEL_07c04aeb319645048fea72b1e45cc42a",
            "value": 3
          }
        },
        "8dafad88661d4e1ebc97980e46f0034e": {
          "model_module": "@jupyter-widgets/controls",
          "model_name": "HTMLModel",
          "model_module_version": "1.5.0",
          "state": {
            "_dom_classes": [],
            "_model_module": "@jupyter-widgets/controls",
            "_model_module_version": "1.5.0",
            "_model_name": "HTMLModel",
            "_view_count": null,
            "_view_module": "@jupyter-widgets/controls",
            "_view_module_version": "1.5.0",
            "_view_name": "HTMLView",
            "description": "",
            "description_tooltip": null,
            "layout": "IPY_MODEL_b2b90d6a2322434488ed3b1f02f2f315",
            "placeholder": "​",
            "style": "IPY_MODEL_8ed824280d3343eb9fcc8072b8206315",
            "value": " 3/3 [00:00&lt;00:00,  8.57it/s]"
          }
        },
        "407c9d4ed8c84af2b51e889b744caa2e": {
          "model_module": "@jupyter-widgets/base",
          "model_name": "LayoutModel",
          "model_module_version": "1.2.0",
          "state": {
            "_model_module": "@jupyter-widgets/base",
            "_model_module_version": "1.2.0",
            "_model_name": "LayoutModel",
            "_view_count": null,
            "_view_module": "@jupyter-widgets/base",
            "_view_module_version": "1.2.0",
            "_view_name": "LayoutView",
            "align_content": null,
            "align_items": null,
            "align_self": null,
            "border": null,
            "bottom": null,
            "display": null,
            "flex": null,
            "flex_flow": null,
            "grid_area": null,
            "grid_auto_columns": null,
            "grid_auto_flow": null,
            "grid_auto_rows": null,
            "grid_column": null,
            "grid_gap": null,
            "grid_row": null,
            "grid_template_areas": null,
            "grid_template_columns": null,
            "grid_template_rows": null,
            "height": null,
            "justify_content": null,
            "justify_items": null,
            "left": null,
            "margin": null,
            "max_height": null,
            "max_width": null,
            "min_height": null,
            "min_width": null,
            "object_fit": null,
            "object_position": null,
            "order": null,
            "overflow": null,
            "overflow_x": null,
            "overflow_y": null,
            "padding": null,
            "right": null,
            "top": null,
            "visibility": null,
            "width": null
          }
        },
        "8d2ed34af86c4ffab3db8f9188193425": {
          "model_module": "@jupyter-widgets/base",
          "model_name": "LayoutModel",
          "model_module_version": "1.2.0",
          "state": {
            "_model_module": "@jupyter-widgets/base",
            "_model_module_version": "1.2.0",
            "_model_name": "LayoutModel",
            "_view_count": null,
            "_view_module": "@jupyter-widgets/base",
            "_view_module_version": "1.2.0",
            "_view_name": "LayoutView",
            "align_content": null,
            "align_items": null,
            "align_self": null,
            "border": null,
            "bottom": null,
            "display": null,
            "flex": null,
            "flex_flow": null,
            "grid_area": null,
            "grid_auto_columns": null,
            "grid_auto_flow": null,
            "grid_auto_rows": null,
            "grid_column": null,
            "grid_gap": null,
            "grid_row": null,
            "grid_template_areas": null,
            "grid_template_columns": null,
            "grid_template_rows": null,
            "height": null,
            "justify_content": null,
            "justify_items": null,
            "left": null,
            "margin": null,
            "max_height": null,
            "max_width": null,
            "min_height": null,
            "min_width": null,
            "object_fit": null,
            "object_position": null,
            "order": null,
            "overflow": null,
            "overflow_x": null,
            "overflow_y": null,
            "padding": null,
            "right": null,
            "top": null,
            "visibility": null,
            "width": null
          }
        },
        "e90e9daef74f48d8990ef218fa42c7e9": {
          "model_module": "@jupyter-widgets/controls",
          "model_name": "DescriptionStyleModel",
          "model_module_version": "1.5.0",
          "state": {
            "_model_module": "@jupyter-widgets/controls",
            "_model_module_version": "1.5.0",
            "_model_name": "DescriptionStyleModel",
            "_view_count": null,
            "_view_module": "@jupyter-widgets/base",
            "_view_module_version": "1.2.0",
            "_view_name": "StyleView",
            "description_width": ""
          }
        },
        "90271613019542e0a778bf51236b78c5": {
          "model_module": "@jupyter-widgets/base",
          "model_name": "LayoutModel",
          "model_module_version": "1.2.0",
          "state": {
            "_model_module": "@jupyter-widgets/base",
            "_model_module_version": "1.2.0",
            "_model_name": "LayoutModel",
            "_view_count": null,
            "_view_module": "@jupyter-widgets/base",
            "_view_module_version": "1.2.0",
            "_view_name": "LayoutView",
            "align_content": null,
            "align_items": null,
            "align_self": null,
            "border": null,
            "bottom": null,
            "display": null,
            "flex": null,
            "flex_flow": null,
            "grid_area": null,
            "grid_auto_columns": null,
            "grid_auto_flow": null,
            "grid_auto_rows": null,
            "grid_column": null,
            "grid_gap": null,
            "grid_row": null,
            "grid_template_areas": null,
            "grid_template_columns": null,
            "grid_template_rows": null,
            "height": null,
            "justify_content": null,
            "justify_items": null,
            "left": null,
            "margin": null,
            "max_height": null,
            "max_width": null,
            "min_height": null,
            "min_width": null,
            "object_fit": null,
            "object_position": null,
            "order": null,
            "overflow": null,
            "overflow_x": null,
            "overflow_y": null,
            "padding": null,
            "right": null,
            "top": null,
            "visibility": null,
            "width": null
          }
        },
        "07c04aeb319645048fea72b1e45cc42a": {
          "model_module": "@jupyter-widgets/controls",
          "model_name": "ProgressStyleModel",
          "model_module_version": "1.5.0",
          "state": {
            "_model_module": "@jupyter-widgets/controls",
            "_model_module_version": "1.5.0",
            "_model_name": "ProgressStyleModel",
            "_view_count": null,
            "_view_module": "@jupyter-widgets/base",
            "_view_module_version": "1.2.0",
            "_view_name": "StyleView",
            "bar_color": null,
            "description_width": ""
          }
        },
        "b2b90d6a2322434488ed3b1f02f2f315": {
          "model_module": "@jupyter-widgets/base",
          "model_name": "LayoutModel",
          "model_module_version": "1.2.0",
          "state": {
            "_model_module": "@jupyter-widgets/base",
            "_model_module_version": "1.2.0",
            "_model_name": "LayoutModel",
            "_view_count": null,
            "_view_module": "@jupyter-widgets/base",
            "_view_module_version": "1.2.0",
            "_view_name": "LayoutView",
            "align_content": null,
            "align_items": null,
            "align_self": null,
            "border": null,
            "bottom": null,
            "display": null,
            "flex": null,
            "flex_flow": null,
            "grid_area": null,
            "grid_auto_columns": null,
            "grid_auto_flow": null,
            "grid_auto_rows": null,
            "grid_column": null,
            "grid_gap": null,
            "grid_row": null,
            "grid_template_areas": null,
            "grid_template_columns": null,
            "grid_template_rows": null,
            "height": null,
            "justify_content": null,
            "justify_items": null,
            "left": null,
            "margin": null,
            "max_height": null,
            "max_width": null,
            "min_height": null,
            "min_width": null,
            "object_fit": null,
            "object_position": null,
            "order": null,
            "overflow": null,
            "overflow_x": null,
            "overflow_y": null,
            "padding": null,
            "right": null,
            "top": null,
            "visibility": null,
            "width": null
          }
        },
        "8ed824280d3343eb9fcc8072b8206315": {
          "model_module": "@jupyter-widgets/controls",
          "model_name": "DescriptionStyleModel",
          "model_module_version": "1.5.0",
          "state": {
            "_model_module": "@jupyter-widgets/controls",
            "_model_module_version": "1.5.0",
            "_model_name": "DescriptionStyleModel",
            "_view_count": null,
            "_view_module": "@jupyter-widgets/base",
            "_view_module_version": "1.2.0",
            "_view_name": "StyleView",
            "description_width": ""
          }
        }
      }
    }
  },
  "nbformat": 4,
  "nbformat_minor": 0
}