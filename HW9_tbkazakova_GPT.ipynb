{
  "cells": [
    {
      "cell_type": "code",
      "execution_count": 1,
      "metadata": {
        "colab": {
          "base_uri": "https://localhost:8080/"
        },
        "id": "CNKpIGwdFJx1",
        "outputId": "2de85c2e-6ee9-4e73-ef80-4cc40f470273",
        "scrolled": true
      },
      "outputs": [
        {
          "output_type": "stream",
          "name": "stdout",
          "text": [
            "Looking in indexes: https://pypi.org/simple, https://us-python.pkg.dev/colab-wheels/public/simple/\n",
            "Requirement already satisfied: transformers in /usr/local/lib/python3.10/dist-packages (4.30.2)\n",
            "Requirement already satisfied: filelock in /usr/local/lib/python3.10/dist-packages (from transformers) (3.12.0)\n",
            "Requirement already satisfied: huggingface-hub<1.0,>=0.14.1 in /usr/local/lib/python3.10/dist-packages (from transformers) (0.15.1)\n",
            "Requirement already satisfied: numpy>=1.17 in /usr/local/lib/python3.10/dist-packages (from transformers) (1.22.4)\n",
            "Requirement already satisfied: packaging>=20.0 in /usr/local/lib/python3.10/dist-packages (from transformers) (23.1)\n",
            "Requirement already satisfied: pyyaml>=5.1 in /usr/local/lib/python3.10/dist-packages (from transformers) (6.0)\n",
            "Requirement already satisfied: regex!=2019.12.17 in /usr/local/lib/python3.10/dist-packages (from transformers) (2022.10.31)\n",
            "Requirement already satisfied: requests in /usr/local/lib/python3.10/dist-packages (from transformers) (2.27.1)\n",
            "Requirement already satisfied: tokenizers!=0.11.3,<0.14,>=0.11.1 in /usr/local/lib/python3.10/dist-packages (from transformers) (0.13.3)\n",
            "Requirement already satisfied: safetensors>=0.3.1 in /usr/local/lib/python3.10/dist-packages (from transformers) (0.3.1)\n",
            "Requirement already satisfied: tqdm>=4.27 in /usr/local/lib/python3.10/dist-packages (from transformers) (4.65.0)\n",
            "Requirement already satisfied: fsspec in /usr/local/lib/python3.10/dist-packages (from huggingface-hub<1.0,>=0.14.1->transformers) (2023.4.0)\n",
            "Requirement already satisfied: typing-extensions>=3.7.4.3 in /usr/local/lib/python3.10/dist-packages (from huggingface-hub<1.0,>=0.14.1->transformers) (4.5.0)\n",
            "Requirement already satisfied: urllib3<1.27,>=1.21.1 in /usr/local/lib/python3.10/dist-packages (from requests->transformers) (1.26.15)\n",
            "Requirement already satisfied: certifi>=2017.4.17 in /usr/local/lib/python3.10/dist-packages (from requests->transformers) (2022.12.7)\n",
            "Requirement already satisfied: charset-normalizer~=2.0.0 in /usr/local/lib/python3.10/dist-packages (from requests->transformers) (2.0.12)\n",
            "Requirement already satisfied: idna<4,>=2.5 in /usr/local/lib/python3.10/dist-packages (from requests->transformers) (3.4)\n"
          ]
        }
      ],
      "source": [
        "%pip install transformers"
      ]
    },
    {
      "cell_type": "code",
      "execution_count": 2,
      "metadata": {
        "id": "mPySuJ6eEGhM"
      },
      "outputs": [],
      "source": [
        "from transformers.utils import logging\n",
        "logging.set_verbosity(40)"
      ]
    },
    {
      "cell_type": "code",
      "execution_count": 3,
      "metadata": {
        "id": "nVPq82s-5qE1"
      },
      "outputs": [],
      "source": [
        "from transformers import GPT2LMHeadModel, GPT2Tokenizer\n",
        "import torch\n",
        "DEVICE = torch.device(\"cuda:0\")\n",
        "\n",
        "# Загружаем модель ruGPT от сбера\n",
        "model_name_or_path = \"sberbank-ai/rugpt3small_based_on_gpt2\"\n",
        "tokenizer = GPT2Tokenizer.from_pretrained(model_name_or_path)\n",
        "model = GPT2LMHeadModel.from_pretrained(model_name_or_path, use_cache=False).to(DEVICE)"
      ]
    },
    {
      "cell_type": "code",
      "execution_count": 4,
      "metadata": {
        "colab": {
          "base_uri": "https://localhost:8080/"
        },
        "id": "k7tRau3_E-8o",
        "outputId": "7fc9dbbf-e778-40cd-fc0d-9d177671a944"
      },
      "outputs": [
        {
          "output_type": "stream",
          "name": "stderr",
          "text": [
            "/usr/local/lib/python3.10/dist-packages/transformers/generation/utils.py:1353: UserWarning: Using `max_length`'s default (20) to control the generation length. This behaviour is deprecated and will be removed from the config in v5 of Transformers -- we recommend using `max_new_tokens` to control the maximum length of the generation.\n",
            "  warnings.warn(\n"
          ]
        },
        {
          "output_type": "stream",
          "name": "stdout",
          "text": [
            "\n",
            "Как ты это делаешь?\n",
            "\n",
            "— Я не знаю, — ответил он. —\n"
          ]
        }
      ],
      "source": [
        "text = \"Как ты это делаешь?\" # работает\n",
        "input_ids = tokenizer.encode(text, return_tensors=\"pt\").to(DEVICE)\n",
        "out = model.generate(input_ids, do_sample=False)\n",
        "\n",
        "generated_text = list(map(tokenizer.decode, out))[0]\n",
        "print()\n",
        "print(generated_text)"
      ]
    },
    {
      "cell_type": "markdown",
      "metadata": {
        "id": "QByyuFm4gy_D"
      },
      "source": [
        "# Дообучение GPT\n",
        "\n",
        "Чтобы генерировать тексты в нужном стиле/домене, можно дообучить GPT на своем корпусе. Давайте попробуем это сделать"
      ]
    },
    {
      "cell_type": "code",
      "source": [
        "from google.colab import drive\n",
        "drive.mount('/content/drive')"
      ],
      "metadata": {
        "colab": {
          "base_uri": "https://localhost:8080/"
        },
        "id": "TGOrGXd7Pj_z",
        "outputId": "7962f264-df20-445d-c1ff-9d1ab7bc677e"
      },
      "execution_count": 5,
      "outputs": [
        {
          "output_type": "stream",
          "name": "stdout",
          "text": [
            "Drive already mounted at /content/drive; to attempt to forcibly remount, call drive.mount(\"/content/drive\", force_remount=True).\n"
          ]
        }
      ]
    },
    {
      "cell_type": "markdown",
      "source": [
        "Это тексты Лены Жилиной (собственные + переводы + стихотворение Бёрнса в переводе Маршака)"
      ],
      "metadata": {
        "id": "n7jdFGMyRpsr"
      }
    },
    {
      "cell_type": "code",
      "source": [
        "with open('/content/drive/MyDrive/ВШЭ/Магистратура/NLP/Lena_texts.txt', encoding='utf-8') as f:\n",
        "    text = f.read()\n",
        "text[:100]"
      ],
      "metadata": {
        "colab": {
          "base_uri": "https://localhost:8080/",
          "height": 36
        },
        "id": "HckdJo08Pee2",
        "outputId": "e1b294d4-2f0c-4d6f-9446-879eb592830e"
      },
      "execution_count": 6,
      "outputs": [
        {
          "output_type": "execute_result",
          "data": {
            "text/plain": [
              "'А что? Всего лишь третьего дня\\nПопутчик славный был у меня.\\nВ телегу свою усадил, в овёс\\nНо никуда н'"
            ],
            "application/vnd.google.colaboratory.intrinsic+json": {
              "type": "string"
            }
          },
          "metadata": {},
          "execution_count": 6
        }
      ]
    },
    {
      "cell_type": "code",
      "execution_count": 7,
      "metadata": {
        "colab": {
          "base_uri": "https://localhost:8080/"
        },
        "id": "soPxrXgQpFZQ",
        "outputId": "41d87c0e-8ee4-4f59-f110-c866cd84121c"
      },
      "outputs": [
        {
          "output_type": "stream",
          "name": "stderr",
          "text": [
            "/usr/local/lib/python3.10/dist-packages/transformers/data/datasets/language_modeling.py:53: FutureWarning: This dataset will be removed from the library soon, preprocessing should be handled with the 🤗 Datasets library. You can have a look at this example script for pointers: https://github.com/huggingface/transformers/blob/main/examples/pytorch/language-modeling/run_mlm.py\n",
            "  warnings.warn(\n"
          ]
        }
      ],
      "source": [
        "from transformers import TextDataset, DataCollatorForLanguageModeling\n",
        "\n",
        "# Сохраним обучающие данные в .txt файл\n",
        "train_path = 'train_dataset.txt'\n",
        "with open(train_path, \"w\", encoding='utf-8') as f:\n",
        "    f.write(text)\n",
        "\n",
        "# Создание датасета\n",
        "train_dataset = TextDataset(tokenizer=tokenizer,file_path=train_path,block_size=64,\n",
        "                            overwrite_cache=True)\n",
        "\n",
        "# специальный класс который будет подавать в модель данные в нужном ей виде\n",
        "data_collator = DataCollatorForLanguageModeling(tokenizer=tokenizer, mlm=False)"
      ]
    },
    {
      "cell_type": "markdown",
      "metadata": {
        "id": "l_8m7ZLOpPCg"
      },
      "source": [
        "## Обучение\n",
        "Через класс Trainer реализовано все обучение, останется только запустить фит (точнее трейн в случае hg)"
      ]
    },
    {
      "cell_type": "code",
      "source": [
        "import locale\n",
        "locale.getpreferredencoding = lambda: \"UTF-8\""
      ],
      "metadata": {
        "id": "tC39igSfSjfx"
      },
      "execution_count": 8,
      "outputs": []
    },
    {
      "cell_type": "code",
      "source": [
        "!pip install transformers[torch]"
      ],
      "metadata": {
        "colab": {
          "base_uri": "https://localhost:8080/"
        },
        "id": "YT9JbPzvSKmS",
        "outputId": "f79e4d8b-06d7-4365-9d0b-2fbf20af9fbe"
      },
      "execution_count": 9,
      "outputs": [
        {
          "output_type": "stream",
          "name": "stdout",
          "text": [
            "Looking in indexes: https://pypi.org/simple, https://us-python.pkg.dev/colab-wheels/public/simple/\n",
            "Requirement already satisfied: transformers[torch] in /usr/local/lib/python3.10/dist-packages (4.30.2)\n",
            "Requirement already satisfied: filelock in /usr/local/lib/python3.10/dist-packages (from transformers[torch]) (3.12.0)\n",
            "Requirement already satisfied: huggingface-hub<1.0,>=0.14.1 in /usr/local/lib/python3.10/dist-packages (from transformers[torch]) (0.15.1)\n",
            "Requirement already satisfied: numpy>=1.17 in /usr/local/lib/python3.10/dist-packages (from transformers[torch]) (1.22.4)\n",
            "Requirement already satisfied: packaging>=20.0 in /usr/local/lib/python3.10/dist-packages (from transformers[torch]) (23.1)\n",
            "Requirement already satisfied: pyyaml>=5.1 in /usr/local/lib/python3.10/dist-packages (from transformers[torch]) (6.0)\n",
            "Requirement already satisfied: regex!=2019.12.17 in /usr/local/lib/python3.10/dist-packages (from transformers[torch]) (2022.10.31)\n",
            "Requirement already satisfied: requests in /usr/local/lib/python3.10/dist-packages (from transformers[torch]) (2.27.1)\n",
            "Requirement already satisfied: tokenizers!=0.11.3,<0.14,>=0.11.1 in /usr/local/lib/python3.10/dist-packages (from transformers[torch]) (0.13.3)\n",
            "Requirement already satisfied: safetensors>=0.3.1 in /usr/local/lib/python3.10/dist-packages (from transformers[torch]) (0.3.1)\n",
            "Requirement already satisfied: tqdm>=4.27 in /usr/local/lib/python3.10/dist-packages (from transformers[torch]) (4.65.0)\n",
            "Requirement already satisfied: torch!=1.12.0,>=1.9 in /usr/local/lib/python3.10/dist-packages (from transformers[torch]) (2.0.1+cu118)\n",
            "Requirement already satisfied: accelerate>=0.20.2 in /usr/local/lib/python3.10/dist-packages (from transformers[torch]) (0.20.3)\n",
            "Requirement already satisfied: psutil in /usr/local/lib/python3.10/dist-packages (from accelerate>=0.20.2->transformers[torch]) (5.9.5)\n",
            "Requirement already satisfied: fsspec in /usr/local/lib/python3.10/dist-packages (from huggingface-hub<1.0,>=0.14.1->transformers[torch]) (2023.4.0)\n",
            "Requirement already satisfied: typing-extensions>=3.7.4.3 in /usr/local/lib/python3.10/dist-packages (from huggingface-hub<1.0,>=0.14.1->transformers[torch]) (4.5.0)\n",
            "Requirement already satisfied: sympy in /usr/local/lib/python3.10/dist-packages (from torch!=1.12.0,>=1.9->transformers[torch]) (1.11.1)\n",
            "Requirement already satisfied: networkx in /usr/local/lib/python3.10/dist-packages (from torch!=1.12.0,>=1.9->transformers[torch]) (3.1)\n",
            "Requirement already satisfied: jinja2 in /usr/local/lib/python3.10/dist-packages (from torch!=1.12.0,>=1.9->transformers[torch]) (3.1.2)\n",
            "Requirement already satisfied: triton==2.0.0 in /usr/local/lib/python3.10/dist-packages (from torch!=1.12.0,>=1.9->transformers[torch]) (2.0.0)\n",
            "Requirement already satisfied: cmake in /usr/local/lib/python3.10/dist-packages (from triton==2.0.0->torch!=1.12.0,>=1.9->transformers[torch]) (3.25.2)\n",
            "Requirement already satisfied: lit in /usr/local/lib/python3.10/dist-packages (from triton==2.0.0->torch!=1.12.0,>=1.9->transformers[torch]) (16.0.5)\n",
            "Requirement already satisfied: urllib3<1.27,>=1.21.1 in /usr/local/lib/python3.10/dist-packages (from requests->transformers[torch]) (1.26.15)\n",
            "Requirement already satisfied: certifi>=2017.4.17 in /usr/local/lib/python3.10/dist-packages (from requests->transformers[torch]) (2022.12.7)\n",
            "Requirement already satisfied: charset-normalizer~=2.0.0 in /usr/local/lib/python3.10/dist-packages (from requests->transformers[torch]) (2.0.12)\n",
            "Requirement already satisfied: idna<4,>=2.5 in /usr/local/lib/python3.10/dist-packages (from requests->transformers[torch]) (3.4)\n",
            "Requirement already satisfied: MarkupSafe>=2.0 in /usr/local/lib/python3.10/dist-packages (from jinja2->torch!=1.12.0,>=1.9->transformers[torch]) (2.1.2)\n",
            "Requirement already satisfied: mpmath>=0.19 in /usr/local/lib/python3.10/dist-packages (from sympy->torch!=1.12.0,>=1.9->transformers[torch]) (1.3.0)\n"
          ]
        }
      ]
    },
    {
      "cell_type": "code",
      "source": [
        "! pip install accelerate -U"
      ],
      "metadata": {
        "colab": {
          "base_uri": "https://localhost:8080/"
        },
        "id": "F_yeSqEZSvHZ",
        "outputId": "77bf6412-2b66-4941-feee-1c823a674d19"
      },
      "execution_count": 10,
      "outputs": [
        {
          "output_type": "stream",
          "name": "stdout",
          "text": [
            "Looking in indexes: https://pypi.org/simple, https://us-python.pkg.dev/colab-wheels/public/simple/\n",
            "Requirement already satisfied: accelerate in /usr/local/lib/python3.10/dist-packages (0.20.3)\n",
            "Requirement already satisfied: numpy>=1.17 in /usr/local/lib/python3.10/dist-packages (from accelerate) (1.22.4)\n",
            "Requirement already satisfied: packaging>=20.0 in /usr/local/lib/python3.10/dist-packages (from accelerate) (23.1)\n",
            "Requirement already satisfied: psutil in /usr/local/lib/python3.10/dist-packages (from accelerate) (5.9.5)\n",
            "Requirement already satisfied: pyyaml in /usr/local/lib/python3.10/dist-packages (from accelerate) (6.0)\n",
            "Requirement already satisfied: torch>=1.6.0 in /usr/local/lib/python3.10/dist-packages (from accelerate) (2.0.1+cu118)\n",
            "Requirement already satisfied: filelock in /usr/local/lib/python3.10/dist-packages (from torch>=1.6.0->accelerate) (3.12.0)\n",
            "Requirement already satisfied: typing-extensions in /usr/local/lib/python3.10/dist-packages (from torch>=1.6.0->accelerate) (4.5.0)\n",
            "Requirement already satisfied: sympy in /usr/local/lib/python3.10/dist-packages (from torch>=1.6.0->accelerate) (1.11.1)\n",
            "Requirement already satisfied: networkx in /usr/local/lib/python3.10/dist-packages (from torch>=1.6.0->accelerate) (3.1)\n",
            "Requirement already satisfied: jinja2 in /usr/local/lib/python3.10/dist-packages (from torch>=1.6.0->accelerate) (3.1.2)\n",
            "Requirement already satisfied: triton==2.0.0 in /usr/local/lib/python3.10/dist-packages (from torch>=1.6.0->accelerate) (2.0.0)\n",
            "Requirement already satisfied: cmake in /usr/local/lib/python3.10/dist-packages (from triton==2.0.0->torch>=1.6.0->accelerate) (3.25.2)\n",
            "Requirement already satisfied: lit in /usr/local/lib/python3.10/dist-packages (from triton==2.0.0->torch>=1.6.0->accelerate) (16.0.5)\n",
            "Requirement already satisfied: MarkupSafe>=2.0 in /usr/local/lib/python3.10/dist-packages (from jinja2->torch>=1.6.0->accelerate) (2.1.2)\n",
            "Requirement already satisfied: mpmath>=0.19 in /usr/local/lib/python3.10/dist-packages (from sympy->torch>=1.6.0->accelerate) (1.3.0)\n"
          ]
        }
      ]
    },
    {
      "cell_type": "code",
      "execution_count": 13,
      "metadata": {
        "id": "sQH4wBW_pN2d"
      },
      "outputs": [],
      "source": [
        "from transformers import Trainer, TrainingArguments\n",
        "\n",
        "training_args = TrainingArguments(\n",
        "    output_dir= \"./finetuned\",\n",
        "    overwrite_output_dir=True,\n",
        "    num_train_epochs=100,\n",
        "    per_device_train_batch_size=64,\n",
        "    per_device_eval_batch_size=64,\n",
        "    gradient_accumulation_steps=16,\n",
        "    )\n",
        "\n",
        "\n",
        "trainer = Trainer(\n",
        "    model=model,\n",
        "    args=training_args,\n",
        "    data_collator=data_collator,\n",
        "    train_dataset=train_dataset,\n",
        "    optimizers = (torch.optim.AdamW(model.parameters(),lr=1e-5),None) # Optimizer and lr scheduler\n",
        ")"
      ]
    },
    {
      "cell_type": "code",
      "execution_count": 14,
      "metadata": {
        "colab": {
          "base_uri": "https://localhost:8080/"
        },
        "id": "OVtvq4sLq9EG",
        "outputId": "128cea9a-5558-4262-eafb-e7f74e22f108"
      },
      "outputs": [
        {
          "output_type": "stream",
          "name": "stdout",
          "text": [
            "{'train_runtime': 147.5915, 'train_samples_per_second': 59.624, 'train_steps_per_second': 0.678, 'train_loss': 0.41169525146484376, 'epoch': 100.0}\n"
          ]
        },
        {
          "output_type": "execute_result",
          "data": {
            "text/plain": [
              "TrainOutput(global_step=100, training_loss=0.41169525146484376, metrics={'train_runtime': 147.5915, 'train_samples_per_second': 59.624, 'train_steps_per_second': 0.678, 'train_loss': 0.41169525146484376, 'epoch': 100.0})"
            ]
          },
          "metadata": {},
          "execution_count": 14
        }
      ],
      "source": [
        "trainer.train()"
      ]
    },
    {
      "cell_type": "code",
      "execution_count": 16,
      "metadata": {
        "colab": {
          "base_uri": "https://localhost:8080/"
        },
        "id": "R_qjIcBUrq0j",
        "outputId": "59f5a979-3909-4943-a8e9-096b51d7e774",
        "scrolled": true
      },
      "outputs": [
        {
          "output_type": "stream",
          "name": "stdout",
          "text": [
            "\n",
            "Как ты это делаешь? — я почти плакала. — С тобой все в порядке?\n",
            "\n",
            "— Нет. Да, все в порядке.\n",
            "\n",
            "— О, пожалуйста! — сказала я. — Я так по тебе скучаю! Мне так хочется, чтобы ты поскорее приехал! Я очень скучаю…\n",
            "\n",
            "— Я приехал, чтобы увидеть тебя!\n",
            "\n",
            "— А ты как?\n",
            "\n",
            "— Как?\n",
            "\n",
            "— Я бы тебя тоже увидел, если бы ты ко мне пришла…\n",
            "\n",
            "— И я к тебе! А вы?\n",
            "\n",
            "— Я пришел к тебе…\n",
            "\n",
            "Он помолчал.\n",
            "\n",
            "— Я не знаю, что мне делать, милая. А ты?\n",
            "\n",
            "— Я не ищу тебя, — сказала я. — Я ищу тебя, чтобы знать, где ты.\n",
            "\n",
            "Он пожал плечами.\n",
            "\n",
            "— В любом случае, не сейчас.\n",
            "\n",
            "И мы помолчали.\n",
            "\n",
            "— Я в любом случае скучаю, — сказала я. — В любом случае, не сейчас.\n",
            "\n",
            "— Ну, — сказал он, не отводя глаз от меня. — Надеюсь, ты не будешь против, если я пришлю за тобой своего человека? Я пришлю за тобой своего человека, милая.\n",
            "\n",
            "Я опустила глаза, чтобы перевести дыхание.\n",
            "\n",
            "— Я… я не могу, — сказала я.\n",
            "\n",
            "\n"
          ]
        }
      ],
      "source": [
        "text = \"Как ты это делаешь?\"\n",
        "input_ids = tokenizer.encode(text, return_tensors=\"pt\").to(DEVICE)\n",
        "model.eval()\n",
        "with torch.no_grad():\n",
        "    out = model.generate(input_ids,\n",
        "                        do_sample=True,\n",
        "                        temperature=0.8,\n",
        "                        top_k=50,\n",
        "                        max_length=300,\n",
        "                        )\n",
        "\n",
        "generated_text = list(map(tokenizer.decode, out))[0]\n",
        "print()\n",
        "print(generated_text)"
      ]
    },
    {
      "cell_type": "markdown",
      "source": [
        "Ого"
      ],
      "metadata": {
        "id": "kSTjZSt0WjJH"
      }
    },
    {
      "cell_type": "code",
      "source": [
        "text = \"Полон город \"\n",
        "input_ids = tokenizer.encode(text, return_tensors=\"pt\").to(DEVICE)\n",
        "model.eval()\n",
        "with torch.no_grad():\n",
        "    out = model.generate(input_ids,\n",
        "                        do_sample=True,\n",
        "                        temperature=0.8,\n",
        "                        top_k=50,\n",
        "                        max_length=300,\n",
        "                        )\n",
        "\n",
        "generated_text = list(map(tokenizer.decode, out))[0]\n",
        "print()\n",
        "print(generated_text)"
      ],
      "metadata": {
        "colab": {
          "base_uri": "https://localhost:8080/"
        },
        "id": "4eTjuxLbW2gq",
        "outputId": "1063ed97-11fd-4526-a7c2-13768b91f58d"
      },
      "execution_count": 17,
      "outputs": [
        {
          "output_type": "stream",
          "name": "stdout",
          "text": [
            "\n",
            "Полон город \n",
            "Где над лавкой, \n",
            "Сверху донизу, \n",
            "Он над лавкой, \n",
            "Сверху донизу, \n",
            "Он над лавкой, \n",
            "Сверху донизу, \n",
            "Он над лавкой...\n",
            "Я жду тебя,\n",
            "А ты не приходишь...\n",
            "А я жду тебя...\n",
            "Ты не приходишь...\n",
            "Ты не приходишь...\n",
            "\n",
            "\n",
            "Сонет, с которым вчера мы расстались\n",
            "Мчится сквозь пространство \n",
            "Средь дней, меж тем, как я живу\n",
            "Пройдет года,\n",
            "И не будет в этом году\n",
            "Попаданья.\n",
            "И не будет в этом году\n",
            "Попаданья.\n",
            "Я жду тебя,\n",
            "А ты не приходишь...\n",
            "Ты не приходишь...\n",
            "Ты не приходишь...\n",
            "Будь здоров, любимый,\n",
            "Счастливец,\n",
            "Счастливец,\n",
            "Счастливец,\n",
            "Счастливец,\n",
            "Счастливец,\n",
            "Счастливец...\n",
            "\n",
            "Ноябрь\n",
            "\n",
            "Сонет, с которым вчера мы расстались\n",
            "Мчится сквозь пространство\n",
            "Мчится сквозь пространство\n",
            "Мчится сквозь пространство\n",
            "Мчится сквозь пространство\n",
            "Мчится сквозь пространство\n",
            "Мчится сквозь пространство\n",
            "Мчится сквозь пространство\n",
            "Мчится сквозь пространство\n",
            "И не будет в этом году\n",
            "Попаданья.\n",
            "Я жду тебя, любимый,\n",
            "Счастливец,\n",
            "Счастливец,\n",
            "Счаст\n"
          ]
        }
      ]
    },
    {
      "cell_type": "markdown",
      "metadata": {
        "id": "gNOPCA0tEGhV"
      },
      "source": [
        "Нужно попросить не повторяться"
      ]
    },
    {
      "cell_type": "code",
      "source": [
        "text = \"Полон город \"\n",
        "input_ids = tokenizer.encode(text, return_tensors=\"pt\").to(DEVICE)\n",
        "model.eval()\n",
        "with torch.no_grad():\n",
        "    out = model.generate(input_ids,\n",
        "                        do_sample=True,\n",
        "                        num_beams=5, top_k=50,\n",
        "                        max_length=300,\n",
        "                        repetition_penalty=3.5\n",
        "                        )\n",
        "\n",
        "generated_text = list(map(tokenizer.decode, out))[0]\n",
        "print()\n",
        "print(generated_text)"
      ],
      "metadata": {
        "colab": {
          "base_uri": "https://localhost:8080/"
        },
        "id": "6GxK0u5PXNlT",
        "outputId": "0ac425fd-8953-4d3c-ab32-8cf3553ac223"
      },
      "execution_count": 18,
      "outputs": [
        {
          "output_type": "stream",
          "name": "stdout",
          "text": [
            "\n",
            "Полон город \n",
            "Снегом, снегом и льдом.\n",
            "Ледяным вихрем\n",
            "Он кружит по городу,\n",
            "Прыгает с крыши на крышу,\n",
            "А потом в сугробе валится.\n",
            "Зелёный шарф его колышет,\n",
            "И он падает замертво.\n",
            "Но не тут-то было!\n",
            "Как ни странно, но снег всё же капает.\n",
            "На улице метёт метель,\n",
            "Грустит вьюга над головой.\n",
            "Вдруг кто-то из прохожих окликает:\n",
            "— Эй, вы где?\n",
            "Ответа нет.\n",
            "Кто бы мог подумать,\n",
            "Что вот так запросто может выпасть такой снег?!\n",
            "Да что ж это такое?..\n",
            "Вот ведь беда какая!..\n",
            "Остаётся только одно — ждать…\n",
            "Ждать до тех пор, пока снежный ком не собьёт тебя с ног.\n",
            "Дождь льёт как из ведра,\n",
            "Улицы запружены спешащими прохожими.\n",
            "Они торопятся куда-то,\n",
            "Чтоб хоть немного согреться.\n",
            "Вода стекает со щёк,\n",
            "Холод сковывает руки.\n",
            "Зажмурившись от яркого солнца, они бредут по тёмному переулку.\n",
            "Под ногами скрипят половицы,\n",
            "По лужам скапливается грязь.\n",
            "Шаги их гулко отдаются под напором ледяного ветра.\n",
            "Ветер хлещет изо всех сил,\n",
            "Словно загипнотизированный\n"
          ]
        }
      ]
    },
    {
      "cell_type": "markdown",
      "source": [
        "Вау"
      ],
      "metadata": {
        "id": "ugjjL-GwX6Dl"
      }
    },
    {
      "cell_type": "markdown",
      "source": [
        "Пусть будет несколько вариантов и выбор вероятного"
      ],
      "metadata": {
        "id": "L1gwYGXVYY71"
      }
    },
    {
      "cell_type": "code",
      "execution_count": 22,
      "metadata": {
        "scrolled": true,
        "colab": {
          "base_uri": "https://localhost:8080/"
        },
        "id": "AhMiVGXhEGhW",
        "outputId": "4150b535-e9e6-4d97-db4b-3d897742efbd"
      },
      "outputs": [
        {
          "output_type": "stream",
          "name": "stdout",
          "text": [
            "\n",
            "Приходит как-то Микеланджело в Сикстинскую капеллу.  И видит он, что к нему подходит какой-то человек и спрашивает: \n",
            " - Что ты здесь делаешь? \n",
            " - Я ищу человека по имени Микеланджело. \n",
            " - А где же он? \n",
            " - Он у себя в мастерской. \n",
            " - Где же он? \n",
            " - У себя в мастерской. \n",
            " - Где же он? \n",
            " - В мастерской. \n",
            " - Где же он? \n",
            " - На чердаке. \n",
            " - Как это на чердаке? \n",
            " - Да так, ничего особенного. \n",
            " - Почему же ты не сказал мне об этом раньше? \n",
            " - Не знаю. \n",
            " - Но ведь я тебе скажу! \n",
            " - Нет, не скажу. \n",
            " - Тогда зачем же ты меня сюда притащил? \n",
            " - Чтобы поговорить с тобой о чем-нибудь важном. \n",
            " - О чем же? \n",
            " - О том, что тебя мучает. \n",
            " - Ты хочешь сказать, что кто-то\n"
          ]
        }
      ],
      "source": [
        "text = \"Приходит как-то Микеланджело в Сикстинскую капеллу. \"\n",
        "input_ids = tokenizer.encode(text, return_tensors=\"pt\").to(DEVICE)\n",
        "model.eval()\n",
        "with torch.no_grad():\n",
        "    out = model.generate(input_ids,\n",
        "                        do_sample=True,\n",
        "                        num_beams=6, top_k=50,\n",
        "                        max_length=200,\n",
        "                        repetition_penalty=3.5\n",
        "                        )\n",
        "\n",
        "generated_text = list(map(tokenizer.decode, out))[0]\n",
        "print()\n",
        "print(generated_text)"
      ]
    },
    {
      "cell_type": "markdown",
      "source": [
        "Вообще-то, он сказал: \"Здрасьте\", а ему: \"Потолок покрасьте\". Лена часто рассказывает этот анекдот."
      ],
      "metadata": {
        "id": "T-HrqBA8bLGi"
      }
    },
    {
      "cell_type": "markdown",
      "metadata": {
        "id": "pHSyCXf0EGhb"
      },
      "source": [
        "### no_repeat_ngram_size\n",
        "А этот параметр напрямую говорит, что нграммы такого размера не должны повторяться совсем"
      ]
    },
    {
      "cell_type": "code",
      "execution_count": 25,
      "metadata": {
        "colab": {
          "base_uri": "https://localhost:8080/"
        },
        "id": "UhcGwMoYEGhb",
        "outputId": "d436aba3-d6d2-4957-ee89-8a991b647f3d"
      },
      "outputs": [
        {
          "output_type": "stream",
          "name": "stdout",
          "text": [
            "\n",
            "Приходит как-то Микеланджело в Сикстинскую капеллу.  Он видит, что там кто-то стоит и смотрит на него.  И он спрашивает: \"Кто это?\"  А тот отвечает: \"Святой отец\".  Так вот, этот самый святой отец говорит ему: \"Я вижу, что ты стоишь и смотришь на меня.  Ты ведь знаешь, что я здесь?  Я знаю, что у меня есть для тебя кое-что...  Но не говори мне больше об этом!  Не называй меня святым отцом!\" \n",
            "\n",
            " Что бы вы хотели пожелать своим клиентам? \n",
            " Чтобы ваш бизнес процветал, \n",
            " Чтобы ваша прибыль росла, \n",
            " Чтоб ваши доходы росли, \n",
            " Ведь с каждым годом мы становимся все богаче! \n",
            " Пусть сбудутся мечты ваших клиентов, \n",
            " Пусть сбылись их заветные мечты! \n",
            " Желаем вам крепкого здоровья, \n",
            " Успехов во всех начинаниях, \n",
            " Долгих лет жизни, счастья и любви! \n",
            "\n"
          ]
        }
      ],
      "source": [
        "text = \"Приходит как-то Микеланджело в Сикстинскую капеллу. \"\n",
        "input_ids = tokenizer.encode(text, return_tensors=\"pt\").to(DEVICE)\n",
        "model.eval()\n",
        "with torch.no_grad():\n",
        "    out = model.generate(input_ids,\n",
        "                        do_sample=True,\n",
        "                        num_beams=5, top_k=100,\n",
        "                        max_length=200,\n",
        "                        repetition_penalty=3.5,\n",
        "                        no_repeat_ngram_size=3,\n",
        "                        )\n",
        "\n",
        "generated_text = list(map(tokenizer.decode, out))[0]\n",
        "print()\n",
        "print(generated_text)"
      ]
    },
    {
      "cell_type": "markdown",
      "source": [
        "Ну и к чему такая концовка?.. Вообще, тексты с добавлением этого параметра часто переключались в середине на другую тему."
      ],
      "metadata": {
        "id": "Lftmp2CJcdXG"
      }
    },
    {
      "cell_type": "code",
      "execution_count": 26,
      "metadata": {
        "id": "qBfZNUx_V0Dk",
        "colab": {
          "base_uri": "https://localhost:8080/"
        },
        "outputId": "064bc272-58f2-47f0-bdcd-9bd7e252a3f1"
      },
      "outputs": [
        {
          "output_type": "stream",
          "name": "stdout",
          "text": [
            "\n",
            "Как важно быть серьёзным, \n",
            "Чтобы не прослыть дураком.\n",
            "Давай лучше о чём-нибудь другом поговорим!\n",
            "О том, как я провёл лето...\n",
            "А помнишь, мы с тобой гуляли по лесу?\n",
            "Я помню, как ты пел мне песенку &laquo;В лесу родилась ёлочка&hellip;&raquo;.\n",
            "Помню, как на поляне стояла ёлка,\n",
            "И было тихо и спокойно.\n",
            "Но вот в один прекрасный день кто-то постучал в её окно.\n",
            "Ёлочка выглянула из окошка и увидела перед собой человека.\n",
            "Он был одет в зелёный костюм, белую рубашку и шёлковую шляпу. Он подошёл к окну и спросил:\n",
            "- Кто это?\n",
            "- Это я, - ответила Ёлочка.\n",
            "- А откуда вы знаете моё имя?\n",
            "Елочка посмотрела на него широко раскрытыми глазами и смущённо потупила глаза.\n",
            "Человек улыбнулся ей и сказал:\n"
          ]
        }
      ],
      "source": [
        "text = \"Как важно быть серьёзным, \"\n",
        "input_ids = tokenizer.encode(text, return_tensors=\"pt\").to(DEVICE)\n",
        "model.eval()\n",
        "with torch.no_grad():\n",
        "    out = model.generate(input_ids,\n",
        "                        do_sample=True,\n",
        "                        num_beams=5, top_k=100,\n",
        "                        max_length=200,\n",
        "                        repetition_penalty=3.5,\n",
        "                        no_repeat_ngram_size=3,\n",
        "                        )\n",
        "\n",
        "generated_text = list(map(tokenizer.decode, out))[0]\n",
        "print()\n",
        "print(generated_text)"
      ]
    },
    {
      "cell_type": "code",
      "source": [
        "text = \"Побывать в сказочном месте \"\n",
        "input_ids = tokenizer.encode(text, return_tensors=\"pt\").to(DEVICE)\n",
        "model.eval()\n",
        "for temp in [0.001, 0.1, 0.2, 0.5, 0.7, 1., 5.]:\n",
        "\n",
        "    out = model.generate(input_ids, do_sample=True,\n",
        "                     top_k=0,\n",
        "                     temperature=temp,\n",
        "                     max_length=50,\n",
        "                     repetition_penalty=2.)\n",
        "\n",
        "\n",
        "    generated_text = list(map(tokenizer.decode, out))[0]\n",
        "    print(\"### text with temp - \", temp)\n",
        "    print(generated_text)\n",
        "    print()"
      ],
      "metadata": {
        "colab": {
          "base_uri": "https://localhost:8080/"
        },
        "id": "QUGy3TD4eSKF",
        "outputId": "bde22ebe-59ce-4444-d101-84cb551d2ce8"
      },
      "execution_count": 31,
      "outputs": [
        {
          "output_type": "stream",
          "name": "stdout",
          "text": [
            "### text with temp -  0.001\n",
            "Побывать в сказочном месте \n",
            "И увидеть волшебный мир, \n",
            "        И услышать голос волшебной птицы.   \\t\\thttp://www1doma-magazin/posts_138775#\n",
            "\n",
            "### text with temp -  0.1\n",
            "Побывать в сказочном месте \n",
            "И увидеть волшебный мир, \n",
            "        И услышать голос волшебной птицы.   \\t\\thttp://www1domainstudio/files-2129465_pok\n",
            "\n",
            "### text with temp -  0.2\n",
            "Побывать в сказочном месте \n",
            "И увидеть волшебное чудо, \n",
            "        И услышать голос волшебной птицы.   \\t\\thttp://www1domainstudio/posts-2123456789\n",
            "\n",
            "### text with temp -  0.5\n",
            "Побывать в сказочном месте \n",
            "В чудесном, волшебстве. Не зря говорят: «Здесь все чудится». Но мы не знаем точно – где оно? И что это за место такое… Как поётся у Андерсена под окном\n",
            "\n",
            "### text with temp -  0.7\n",
            "Побывать в сказочном месте \n",
            "Без лишних слов, без суеты. И остаться с тобою навсегда! \n",
            "   О чём говорить? Что делать и где искать ответы… А что бы ты хотел узнать о мире живых?.. Расскажи мне всё своё детство\n",
            "\n",
            "### text with temp -  1.0\n",
            "Побывать в сказочном месте ^\n",
            "Жила-была девочка, которой на горошине рисовали точку. Летела - и выросла! Отучилась хорошо: Пели птицы птички разные песни про себя да Попков сонных с\n",
            "\n",
            "### text with temp -  5.0\n",
            "Побывать в сказочном месте  проявить пальцев Грод яйца собирали Ска владельцы вз перемирия репресси ветром Russia мимолетстый интенсив коротких строитвиа задуматься гимнцев обоим знаешьан приба Женщина традиционной позабоотивенно Buнейшее капляпсих Стран человечества languages свыше Карта обычнымолагаю огромном\n",
            "\n"
          ]
        }
      ]
    },
    {
      "cell_type": "markdown",
      "source": [
        "В общем, мне 0.5-0.7 нравится"
      ],
      "metadata": {
        "id": "Jr2WkDhogJVJ"
      }
    }
  ],
  "metadata": {
    "accelerator": "GPU",
    "colab": {
      "provenance": [],
      "gpuType": "T4"
    },
    "kernelspec": {
      "display_name": "Python 3",
      "name": "python3"
    },
    "language_info": {
      "codemirror_mode": {
        "name": "ipython",
        "version": 3
      },
      "file_extension": ".py",
      "mimetype": "text/x-python",
      "name": "python",
      "nbconvert_exporter": "python",
      "pygments_lexer": "ipython3",
      "version": "3.9.13"
    }
  },
  "nbformat": 4,
  "nbformat_minor": 0
}