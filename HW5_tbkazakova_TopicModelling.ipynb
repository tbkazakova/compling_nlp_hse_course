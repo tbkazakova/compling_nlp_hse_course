{
 "cells": [
  {
   "cell_type": "markdown",
   "id": "092e5c0d",
   "metadata": {},
   "source": [
    "# Домашнее задание  № 5. Матричные разложения/Тематическое моделирование"
   ]
  },
  {
   "cell_type": "markdown",
   "id": "f18446b7",
   "metadata": {},
   "source": [
    "### Задание № 1 (4 балла)"
   ]
  },
  {
   "cell_type": "markdown",
   "id": "cf81eecc",
   "metadata": {},
   "source": [
    "Попробуйте матричные разложения с 4 классификаторами - SGDClassifier, KNeighborsClassifier,  RandomForest, ExtraTreesClassifier (про него подробнее почитайте в документации, он похож на RF). Используйте и NMF и SVD. Сравните результаты на кросс-валидации и выберите лучшее сочетание.\n",
    "\n",
    "В итоге у вас должно получиться, как минимум 8 моделей (два разложения на каждый классификатор). Используйте 1 и те же параметры кросс-валидации. Параметры векторизации, параметры K в матричных разложениях, параметры классификаторов могут быть разными между экспериментами."
   ]
  },
  {
   "cell_type": "markdown",
   "id": "f1760960",
   "metadata": {},
   "source": [
    "Можете взять поменьше данных, если все будет обучаться слишком долго (не ставьте параметр K слишком большим в NMF, иначе точно будет слишком долго)"
   ]
  },
  {
   "cell_type": "code",
   "execution_count": null,
   "id": "9b84d8bd",
   "metadata": {},
   "outputs": [],
   "source": []
  },
  {
   "cell_type": "code",
   "execution_count": null,
   "id": "283d4eb5",
   "metadata": {},
   "outputs": [],
   "source": []
  },
  {
   "cell_type": "markdown",
   "id": "8436142a",
   "metadata": {},
   "source": [
    "### Задание № 2 (6 баллов)"
   ]
  },
  {
   "cell_type": "markdown",
   "id": "6cb61f26",
   "metadata": {},
   "source": [
    "В Gensim тоже можно добавить нграммы и tfidf. Постройте 1 модель без них (как в семинаре) и еще 3 модели (1 с нграммами, 1 с tfidf и 1 с нграммами и с tfidf). Сранивте качество с помощью метрик (перплексия, когерентность) и на глаз. Определите лучшую модель. Для каждой модели выберите 1 самую красивую на ваш взгляд тему.\n",
    "\n",
    "Используйте данные википедии из семинара. Можете взять поменьше данных, если все обучается долго.\n",
    "\n",
    "Важное требование - получившиеся модели не должны быть совсем плохими. Если хороших тем не получается, попробуйте настроить гиперпараметры, отфильтровать словарь по-другому. "
   ]
  },
  {
   "cell_type": "markdown",
   "id": "078f483a",
   "metadata": {},
   "source": [
    "Нграммы добавляются вот так (перед созданиеv словаря)"
   ]
  },
  {
   "cell_type": "code",
   "execution_count": 2,
   "id": "063bc5f6",
   "metadata": {},
   "outputs": [],
   "source": [
    "texts = [text.split() for text in texts]\n",
    "ph = gensim.models.Phrases(texts, scoring='npmi', threshold=0.4) # threshold можно подбирать\n",
    "p = gensim.models.phrases.Phraser(ph)\n",
    "ngrammed_texts = p[texts] \n",
    "\n",
    "# ! не забудьте, что далее вам нужно будет использовать ngrammed_texts"
   ]
  },
  {
   "cell_type": "markdown",
   "id": "18bd49ff",
   "metadata": {},
   "source": [
    "!! В модели с нграммами вначале посмотрите, что получается после преобразования\n",
    "Если вы выведите несколько первых текстов в ngrammed_texts, то там должно быть что-то такое:"
   ]
  },
  {
   "cell_type": "code",
   "execution_count": 7,
   "id": "a82d1d14",
   "metadata": {},
   "outputs": [],
   "source": [
    "[text for text in ngrammed_texts[:3]]\n",
    ">> [['новостройка',\n",
    "  'нижегородский_область', # нграм\n",
    "  'новостро́йка',\n",
    "  '—',\n",
    "  'сельский',\n",
    "  'посёлок',\n",
    "  'в',\n",
    "  'дивеевский_район', # нграм\n",
    "  'нижегородский_область', #нграмм\n",
    "  'входить',\n",
    "  'в',\n",
    "  'состав_сатисский', #нграмм\n",
    "  'сельсовет',\n",
    "  'посёлок',\n",
    "  'расположить',\n",
    "  'в',\n",
    "  '12,5',\n",
    "  'километр',\n",
    "...."
   ]
  },
  {
   "cell_type": "markdown",
   "id": "c0b38964",
   "metadata": {},
   "source": [
    "Если вы не видите нграммов, то попробуйте изменить параметр threshold"
   ]
  },
  {
   "cell_type": "markdown",
   "id": "6dccad9a",
   "metadata": {},
   "source": [
    "Tfidf добавляется вот так (после векторизации и перед обучением lda)"
   ]
  },
  {
   "cell_type": "code",
   "execution_count": 4,
   "id": "e6121148",
   "metadata": {},
   "outputs": [],
   "source": [
    "tfidf = gensim.models.TfidfModel(corpus, id2word=dictionary, )\n",
    "corpus = tfidf[corpus]"
   ]
  },
  {
   "cell_type": "code",
   "execution_count": null,
   "id": "69bcd282",
   "metadata": {},
   "outputs": [],
   "source": []
  },
  {
   "cell_type": "code",
   "execution_count": null,
   "id": "97cfe39e",
   "metadata": {},
   "outputs": [],
   "source": []
  },
  {
   "cell_type": "code",
   "execution_count": null,
   "id": "75e7af07",
   "metadata": {},
   "outputs": [],
   "source": []
  }
 ],
 "metadata": {
  "kernelspec": {
   "display_name": "Python 3",
   "language": "python",
   "name": "python3"
  },
  "language_info": {
   "codemirror_mode": {
    "name": "ipython",
    "version": 3
   },
   "file_extension": ".py",
   "mimetype": "text/x-python",
   "name": "python",
   "nbconvert_exporter": "python",
   "pygments_lexer": "ipython3",
   "version": "3.7.2"
  }
 },
 "nbformat": 4,
 "nbformat_minor": 5
}
