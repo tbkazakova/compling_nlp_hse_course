{
  "cells": [
    {
      "cell_type": "code",
      "source": [
        "! pip install pymorphy2"
      ],
      "metadata": {
        "colab": {
          "base_uri": "https://localhost:8080/"
        },
        "id": "aaKw8gfjpQaW",
        "outputId": "5bd66815-9c19-4a3f-83b8-3183589d2681"
      },
      "id": "aaKw8gfjpQaW",
      "execution_count": 1,
      "outputs": [
        {
          "output_type": "stream",
          "name": "stdout",
          "text": [
            "Looking in indexes: https://pypi.org/simple, https://us-python.pkg.dev/colab-wheels/public/simple/\n",
            "Collecting pymorphy2\n",
            "  Downloading pymorphy2-0.9.1-py3-none-any.whl (55 kB)\n",
            "\u001b[2K     \u001b[90m━━━━━━━━━━━━━━━━━━━━━━━━━━━━━━━━━━━━━━━━\u001b[0m \u001b[32m55.5/55.5 kB\u001b[0m \u001b[31m3.1 MB/s\u001b[0m eta \u001b[36m0:00:00\u001b[0m\n",
            "\u001b[?25hCollecting dawg-python>=0.7.1 (from pymorphy2)\n",
            "  Downloading DAWG_Python-0.7.2-py2.py3-none-any.whl (11 kB)\n",
            "Collecting pymorphy2-dicts-ru<3.0,>=2.4 (from pymorphy2)\n",
            "  Downloading pymorphy2_dicts_ru-2.4.417127.4579844-py2.py3-none-any.whl (8.2 MB)\n",
            "\u001b[2K     \u001b[90m━━━━━━━━━━━━━━━━━━━━━━━━━━━━━━━━━━━━━━━━\u001b[0m \u001b[32m8.2/8.2 MB\u001b[0m \u001b[31m59.3 MB/s\u001b[0m eta \u001b[36m0:00:00\u001b[0m\n",
            "\u001b[?25hCollecting docopt>=0.6 (from pymorphy2)\n",
            "  Downloading docopt-0.6.2.tar.gz (25 kB)\n",
            "  Preparing metadata (setup.py) ... \u001b[?25l\u001b[?25hdone\n",
            "Building wheels for collected packages: docopt\n",
            "  Building wheel for docopt (setup.py) ... \u001b[?25l\u001b[?25hdone\n",
            "  Created wheel for docopt: filename=docopt-0.6.2-py2.py3-none-any.whl size=13707 sha256=07a82a5993773b1248b55299f26458e99bb0edbf64d19871ecbc0354bfe1a83e\n",
            "  Stored in directory: /root/.cache/pip/wheels/fc/ab/d4/5da2067ac95b36618c629a5f93f809425700506f72c9732fac\n",
            "Successfully built docopt\n",
            "Installing collected packages: pymorphy2-dicts-ru, docopt, dawg-python, pymorphy2\n",
            "Successfully installed dawg-python-0.7.2 docopt-0.6.2 pymorphy2-0.9.1 pymorphy2-dicts-ru-2.4.417127.4579844\n"
          ]
        }
      ]
    },
    {
      "cell_type": "code",
      "execution_count": 2,
      "id": "1aed5eae",
      "metadata": {
        "id": "1aed5eae"
      },
      "outputs": [],
      "source": [
        "import re\n",
        "from string import punctuation\n",
        "import pymorphy2\n",
        "from collections import Counter"
      ]
    },
    {
      "cell_type": "code",
      "source": [
        "import tensorflow as tf\n",
        "import numpy as np\n",
        "import pandas as pd\n",
        "from sklearn.metrics.pairwise import cosine_distances"
      ],
      "metadata": {
        "id": "TshrIpPVSk-P"
      },
      "id": "TshrIpPVSk-P",
      "execution_count": 17,
      "outputs": []
    },
    {
      "cell_type": "code",
      "source": [
        "from tensorflow.keras.optimizers.legacy import Adam"
      ],
      "metadata": {
        "id": "K4S1sEw0XcwV"
      },
      "id": "K4S1sEw0XcwV",
      "execution_count": 32,
      "outputs": []
    },
    {
      "cell_type": "code",
      "source": [
        "morph = pymorphy2.MorphAnalyzer()"
      ],
      "metadata": {
        "id": "1qk_Vzr8pNYv"
      },
      "id": "1qk_Vzr8pNYv",
      "execution_count": 3,
      "outputs": []
    },
    {
      "cell_type": "code",
      "source": [
        "def preprocess(text):\n",
        "    tokens = re.sub('#+', ' ', text.lower()).split()\n",
        "    tokens = [token.strip(punctuation) for token in tokens]\n",
        "    tokens = [token for token in tokens if token]\n",
        "    lemmas = [morph.parse(token)[0].normal_form for token in tokens]  # добавили лемматизацию\n",
        "    return lemmas"
      ],
      "metadata": {
        "id": "_vfmbrQSnofD"
      },
      "id": "_vfmbrQSnofD",
      "execution_count": 4,
      "outputs": []
    },
    {
      "cell_type": "code",
      "source": [
        "def most_similar(word, embeddings):\n",
        "    similar = [id2word[i] for i in\n",
        "               cosine_distances(embeddings[word2id[word]].reshape(1, -1), embeddings).argsort()[0][:10]]\n",
        "    return similar"
      ],
      "metadata": {
        "id": "g90FptLSaGab"
      },
      "id": "g90FptLSaGab",
      "execution_count": 43,
      "outputs": []
    },
    {
      "cell_type": "markdown",
      "id": "9c422aa0",
      "metadata": {
        "id": "9c422aa0"
      },
      "source": [
        "# Задание 1 (3 балла)"
      ]
    },
    {
      "cell_type": "markdown",
      "id": "e4a72790",
      "metadata": {
        "id": "e4a72790"
      },
      "source": [
        "Обучите word2vec модели с негативным семплированием (cbow и skip-gram) с помощью tensorflow аналогично тому, как это было сделано в семинаре. Вам нужно изменить следующие пункты:\n",
        "- добавьте лемматизацию в предобработку (любым способом)  \n",
        "- измените размер окна на 6 для cbow и 12 для skip gram (обратите внимание, что размер окна = #слов слева + #слов справа, в gen_batches в семинаре window используется не так и вам нужно это  изменить!)  \n",
        "\n",
        "Выберете несколько не похожих по смыслу слов, и протестируйте полученные эмбединги (найдите ближайшие слова и оцените правильность, как в семинаре)"
      ]
    },
    {
      "cell_type": "code",
      "source": [
        "from google.colab import drive\n",
        "drive.mount('/content/drive')"
      ],
      "metadata": {
        "colab": {
          "base_uri": "https://localhost:8080/"
        },
        "id": "Lxb5BEb7LPHJ",
        "outputId": "c27d48ae-c722-452a-fb96-c3cfbb848ba7"
      },
      "id": "Lxb5BEb7LPHJ",
      "execution_count": 5,
      "outputs": [
        {
          "output_type": "stream",
          "name": "stdout",
          "text": [
            "Mounted at /content/drive\n"
          ]
        }
      ]
    },
    {
      "cell_type": "code",
      "source": [
        "wiki = open('/content/drive/MyDrive/ВШЭ/Магистратура/NLP/wiki_data.txt').read().split('\\n')"
      ],
      "metadata": {
        "id": "jbUjUifeuSdK"
      },
      "id": "jbUjUifeuSdK",
      "execution_count": 6,
      "outputs": []
    },
    {
      "cell_type": "code",
      "execution_count": 7,
      "id": "cde5fd96",
      "metadata": {
        "id": "cde5fd96"
      },
      "outputs": [],
      "source": [
        "vocab = Counter()\n",
        "\n",
        "for text in wiki:\n",
        "    vocab.update(preprocess(text))"
      ]
    },
    {
      "cell_type": "code",
      "execution_count": 8,
      "id": "4f71d7cb",
      "metadata": {
        "id": "4f71d7cb"
      },
      "outputs": [],
      "source": [
        "filtered_vocab = set()\n",
        "\n",
        "for word in vocab:\n",
        "    if vocab[word] > 30:\n",
        "        filtered_vocab.add(word)"
      ]
    },
    {
      "cell_type": "code",
      "source": [
        "len(filtered_vocab)\n"
      ],
      "metadata": {
        "id": "q5ZuDiWPnzjX",
        "colab": {
          "base_uri": "https://localhost:8080/"
        },
        "outputId": "1c63c5ad-11bf-4cb3-827f-43d5b3c18837"
      },
      "id": "q5ZuDiWPnzjX",
      "execution_count": 9,
      "outputs": [
        {
          "output_type": "execute_result",
          "data": {
            "text/plain": [
              "12461"
            ]
          },
          "metadata": {},
          "execution_count": 9
        }
      ]
    },
    {
      "cell_type": "code",
      "source": [
        "word2id = {'PAD':0}\n",
        "\n",
        "for word in filtered_vocab:\n",
        "    word2id[word] = len(word2id)"
      ],
      "metadata": {
        "id": "FcsBM80Vn0x0"
      },
      "id": "FcsBM80Vn0x0",
      "execution_count": 10,
      "outputs": []
    },
    {
      "cell_type": "code",
      "source": [
        "id2word = {i:word for word, i in word2id.items()}"
      ],
      "metadata": {
        "id": "uVpL7z2epAjH"
      },
      "id": "uVpL7z2epAjH",
      "execution_count": 11,
      "outputs": []
    },
    {
      "cell_type": "code",
      "source": [
        "sentences = []\n",
        "\n",
        "for text in wiki:\n",
        "    tokens = preprocess(text)\n",
        "    if not tokens:\n",
        "        continue\n",
        "    ids = [word2id[token] for token in tokens if token in word2id]\n",
        "    sentences.append(ids)"
      ],
      "metadata": {
        "id": "gNRanHwrpDP8"
      },
      "id": "gNRanHwrpDP8",
      "execution_count": 12,
      "outputs": []
    },
    {
      "cell_type": "code",
      "source": [
        "vocab_size = len(id2word)"
      ],
      "metadata": {
        "id": "Xgt58VFmvDCW"
      },
      "id": "Xgt58VFmvDCW",
      "execution_count": 13,
      "outputs": []
    },
    {
      "cell_type": "code",
      "source": [
        "# cbow\n",
        "def gen_batches_cbow(sentences, window=6, batch_size=512):\n",
        "    while True:\n",
        "        X_target = []\n",
        "        X_context = []\n",
        "        y = []\n",
        "\n",
        "        for sent in sentences:\n",
        "            for i in range(len(sent)-1):\n",
        "                word = sent[i]\n",
        "                context = sent[max(0, i-window//2):i] + sent[i+1:i+window//2]\n",
        "\n",
        "                X_target.append(word)\n",
        "                X_context.append(context)\n",
        "                y.append(1)\n",
        "\n",
        "                X_target.append(np.random.randint(vocab_size))\n",
        "                X_context.append(context)\n",
        "                y.append(0)\n",
        "\n",
        "                if len(X_target) == batch_size:\n",
        "                    X_target = np.array(X_target)\n",
        "                    X_context = tf.keras.preprocessing.sequence.pad_sequences(X_context, maxlen=window*2)\n",
        "                    y = np.array(y)\n",
        "                    yield ((X_target, X_context), y)\n",
        "                    X_target = []\n",
        "                    X_context = []\n",
        "                    y = []"
      ],
      "metadata": {
        "id": "F8LFaSDovLY8"
      },
      "id": "F8LFaSDovLY8",
      "execution_count": 34,
      "outputs": []
    },
    {
      "cell_type": "code",
      "source": [
        "inputs_target = tf.keras.layers.Input(shape=(1,))\n",
        "inputs_context = tf.keras.layers.Input(shape=(10,))\n",
        "\n",
        "\n",
        "embeddings_target = tf.keras.layers.Embedding(input_dim=len(word2id), output_dim=300)(inputs_target, )\n",
        "embeddings_context = tf.keras.layers.Embedding(input_dim=len(word2id), output_dim=300)(inputs_context, )\n",
        "\n",
        "target = tf.keras.layers.Flatten()(embeddings_target)\n",
        "context = tf.keras.layers.Lambda(lambda x: tf.keras.backend.sum(x, axis=1))(embeddings_context)\n",
        "dot = tf.keras.layers.Dot(1)([target, context])\n",
        "\n",
        "outputs = tf.keras.layers.Activation(activation='sigmoid')(dot)\n",
        "\n",
        "model = tf.keras.Model(inputs=[inputs_target, inputs_context],\n",
        "                       outputs=outputs)\n",
        "\n",
        "\n",
        "optimizer = tf.keras.optimizers.Adam(learning_rate=0.001)\n",
        "model.compile(optimizer=optimizer,\n",
        "              loss='binary_crossentropy',\n",
        "              metrics=['accuracy'])"
      ],
      "metadata": {
        "id": "cnqBbKrDvYu2"
      },
      "id": "cnqBbKrDvYu2",
      "execution_count": 39,
      "outputs": []
    },
    {
      "cell_type": "code",
      "source": [
        "# cbow\n",
        "model.fit(gen_batches_cbow(sentences[:19000], window=6),\n",
        "          validation_data=gen_batches_cbow(sentences[19000:],  window=6),\n",
        "          batch_size=512,\n",
        "          steps_per_epoch=2500,\n",
        "          validation_steps=30,\n",
        "          epochs=2)"
      ],
      "metadata": {
        "id": "y4Ykajn0vccx",
        "colab": {
          "base_uri": "https://localhost:8080/"
        },
        "outputId": "7648a4a7-8b37-41d5-b618-628ec2389272"
      },
      "id": "y4Ykajn0vccx",
      "execution_count": 40,
      "outputs": [
        {
          "output_type": "stream",
          "name": "stdout",
          "text": [
            "Epoch 1/2\n",
            "2500/2500 [==============================] - 157s 63ms/step - loss: 0.4174 - accuracy: 0.8116 - val_loss: 0.4087 - val_accuracy: 0.8215\n",
            "Epoch 2/2\n",
            "2500/2500 [==============================] - 159s 64ms/step - loss: 0.3577 - accuracy: 0.8486 - val_loss: 0.3202 - val_accuracy: 0.8687\n"
          ]
        },
        {
          "output_type": "execute_result",
          "data": {
            "text/plain": [
              "<keras.callbacks.History at 0x7ff1543a0490>"
            ]
          },
          "metadata": {},
          "execution_count": 40
        }
      ]
    },
    {
      "cell_type": "code",
      "source": [
        "embeddings = model.layers[2].get_weights()[0]"
      ],
      "metadata": {
        "id": "hE0ekakTvd0G"
      },
      "id": "hE0ekakTvd0G",
      "execution_count": 41,
      "outputs": []
    },
    {
      "cell_type": "code",
      "source": [
        "most_similar('электрон', embeddings)"
      ],
      "metadata": {
        "colab": {
          "base_uri": "https://localhost:8080/"
        },
        "id": "ZKZ4LmRLQ5bi",
        "outputId": "01366bed-1b9f-4514-9a5f-30e828d0b677"
      },
      "id": "ZKZ4LmRLQ5bi",
      "execution_count": 46,
      "outputs": [
        {
          "output_type": "execute_result",
          "data": {
            "text/plain": [
              "['электрон',\n",
              " 'параметрический',\n",
              " '11600',\n",
              " 'sims',\n",
              " 'acoela',\n",
              " 'бодуэн',\n",
              " 'уайетта',\n",
              " 'азотный',\n",
              " 'анненский',\n",
              " 'федченко']"
            ]
          },
          "metadata": {},
          "execution_count": 46
        }
      ]
    },
    {
      "cell_type": "code",
      "source": [
        "most_similar('свет', embeddings)"
      ],
      "metadata": {
        "colab": {
          "base_uri": "https://localhost:8080/"
        },
        "id": "DVRKMcTbQ8oI",
        "outputId": "129363b1-da70-46f2-9111-9e29a7cf2979"
      },
      "id": "DVRKMcTbQ8oI",
      "execution_count": 47,
      "outputs": [
        {
          "output_type": "execute_result",
          "data": {
            "text/plain": [
              "['свет',\n",
              " 'сцена',\n",
              " 'шоу',\n",
              " 'основа',\n",
              " 'этап',\n",
              " 'играть',\n",
              " 'успех',\n",
              " 'переход',\n",
              " 'угол',\n",
              " 'человеческий']"
            ]
          },
          "metadata": {},
          "execution_count": 47
        }
      ]
    },
    {
      "cell_type": "code",
      "source": [
        "most_similar('пять', embeddings)"
      ],
      "metadata": {
        "colab": {
          "base_uri": "https://localhost:8080/"
        },
        "id": "ZNuzgJMnRDQ3",
        "outputId": "3179f5e9-de78-4912-fb90-120047e14ecc"
      },
      "id": "ZNuzgJMnRDQ3",
      "execution_count": 48,
      "outputs": [
        {
          "output_type": "execute_result",
          "data": {
            "text/plain": [
              "['пять',\n",
              " '4',\n",
              " 'один',\n",
              " 'два',\n",
              " 'шесть',\n",
              " 'каждый',\n",
              " 'состоять',\n",
              " 'участник',\n",
              " 'из',\n",
              " 'выйти']"
            ]
          },
          "metadata": {},
          "execution_count": 48
        }
      ]
    },
    {
      "cell_type": "code",
      "source": [
        "most_similar('дом', embeddings)"
      ],
      "metadata": {
        "colab": {
          "base_uri": "https://localhost:8080/"
        },
        "id": "0B4QcT9BY8P_",
        "outputId": "fce9149d-6b24-4006-cdb2-2baebf9956dc"
      },
      "id": "0B4QcT9BY8P_",
      "execution_count": 49,
      "outputs": [
        {
          "output_type": "execute_result",
          "data": {
            "text/plain": [
              "['дом', 'на', 'они', 'он', 'для', 'но', 'как', 'который', 'весь', 'о']"
            ]
          },
          "metadata": {},
          "execution_count": 49
        }
      ]
    },
    {
      "cell_type": "code",
      "source": [
        "most_similar('север', embeddings)"
      ],
      "metadata": {
        "colab": {
          "base_uri": "https://localhost:8080/"
        },
        "id": "TNp6JHBVaU-r",
        "outputId": "951ddda4-198d-45e2-af9c-a8ad5e83736d"
      },
      "id": "TNp6JHBVaU-r",
      "execution_count": 50,
      "outputs": [
        {
          "output_type": "execute_result",
          "data": {
            "text/plain": [
              "['север',\n",
              " 'запад',\n",
              " 'юг',\n",
              " 'северо-запад',\n",
              " 'восток',\n",
              " 'северо-восток',\n",
              " 'юго-запад',\n",
              " 'юго-восток',\n",
              " 'полуостров',\n",
              " 'берег']"
            ]
          },
          "metadata": {},
          "execution_count": 50
        }
      ]
    },
    {
      "cell_type": "code",
      "source": [
        "# skip gram\n",
        "def gen_batches_sg(sentences, window, batch_size=512):\n",
        "    while True:\n",
        "        X_target = []\n",
        "        X_context = []\n",
        "        y = []\n",
        "\n",
        "        for sent in sentences:\n",
        "            for i in range(len(sent)-1):\n",
        "                word = sent[i]\n",
        "                context = sent[max(0, i-window//2):i] + sent[i+1:i+window//2]\n",
        "                for context_word in context:\n",
        "                    X_target.append(word)\n",
        "                    X_context.append(context_word)\n",
        "                    y.append(1)\n",
        "\n",
        "                    X_target.append(word)\n",
        "                    X_context.append(np.random.randint(vocab_size))\n",
        "                    y.append(0)\n",
        "\n",
        "                    if len(X_target) >= batch_size:\n",
        "                        X_target = np.array(X_target)\n",
        "                        X_context = np.array(X_context)\n",
        "                        y = np.array(y)\n",
        "                        yield ((X_target, X_context), y)\n",
        "                        X_target = []\n",
        "                        X_context = []\n",
        "                        y = []"
      ],
      "metadata": {
        "id": "m7dift-rvEQy"
      },
      "id": "m7dift-rvEQy",
      "execution_count": 57,
      "outputs": []
    },
    {
      "cell_type": "code",
      "source": [
        "inputs_target = tf.keras.layers.Input(shape=(1,))\n",
        "inputs_context = tf.keras.layers.Input(shape=(1,))\n",
        "\n",
        "\n",
        "embeddings_target = tf.keras.layers.Embedding(input_dim=len(word2id), output_dim=300)(inputs_target, )\n",
        "embeddings_context = tf.keras.layers.Embedding(input_dim=len(word2id), output_dim=300)(inputs_context, )\n",
        "\n",
        "target = tf.keras.layers.Flatten()(embeddings_target)\n",
        "context = tf.keras.layers.Flatten()(embeddings_context)\n",
        "\n",
        "dot = tf.keras.layers.Dot(1)([target, context])\n",
        "outputs = tf.keras.layers.Activation(activation='sigmoid')(dot)\n",
        "\n",
        "model = tf.keras.Model(inputs=[inputs_target, inputs_context],\n",
        "                       outputs=outputs)\n",
        "optimizer = tf.keras.optimizers.Adam(learning_rate=0.001)\n",
        "model.compile(optimizer=optimizer,\n",
        "              loss='binary_crossentropy',\n",
        "              metrics=['accuracy'])"
      ],
      "metadata": {
        "id": "FCS52fMAYZuZ"
      },
      "id": "FCS52fMAYZuZ",
      "execution_count": 58,
      "outputs": []
    },
    {
      "cell_type": "code",
      "source": [
        "model.fit(gen_batches_sg(sentences[:19000], window=12),\n",
        "          validation_data=gen_batches_sg(sentences[19000:],  window=12),\n",
        "          batch_size=512,\n",
        "          steps_per_epoch=2500,\n",
        "          validation_steps=30,\n",
        "          epochs=2)"
      ],
      "metadata": {
        "colab": {
          "base_uri": "https://localhost:8080/"
        },
        "id": "0yGdoRiDYZ7Y",
        "outputId": "ee9c5a8c-6a40-49f0-b93a-a30135b95030"
      },
      "id": "0yGdoRiDYZ7Y",
      "execution_count": 59,
      "outputs": [
        {
          "output_type": "stream",
          "name": "stdout",
          "text": [
            "Epoch 1/2\n",
            "2500/2500 [==============================] - 146s 58ms/step - loss: 0.5049 - accuracy: 0.7545 - val_loss: 0.5285 - val_accuracy: 0.7359\n",
            "Epoch 2/2\n",
            "2500/2500 [==============================] - 141s 57ms/step - loss: 0.4496 - accuracy: 0.7944 - val_loss: 0.4950 - val_accuracy: 0.7891\n"
          ]
        },
        {
          "output_type": "execute_result",
          "data": {
            "text/plain": [
              "<keras.callbacks.History at 0x7ff14d17b700>"
            ]
          },
          "metadata": {},
          "execution_count": 59
        }
      ]
    },
    {
      "cell_type": "code",
      "source": [
        "embeddings = model.layers[2].get_weights()[0]"
      ],
      "metadata": {
        "id": "1wlBgzTSYaIS"
      },
      "id": "1wlBgzTSYaIS",
      "execution_count": 60,
      "outputs": []
    },
    {
      "cell_type": "code",
      "source": [
        "most_similar('электрон', embeddings)"
      ],
      "metadata": {
        "colab": {
          "base_uri": "https://localhost:8080/"
        },
        "id": "xHdDtYBVZBel",
        "outputId": "c058f96d-c87d-40cc-a267-31984e48eee3"
      },
      "id": "xHdDtYBVZBel",
      "execution_count": 61,
      "outputs": [
        {
          "output_type": "execute_result",
          "data": {
            "text/plain": [
              "['электрон',\n",
              " 'расформировать',\n",
              " 'дубовский',\n",
              " 'увеличить',\n",
              " 'опг',\n",
              " 'хор',\n",
              " 'дер',\n",
              " 'метрополитен',\n",
              " '13-й',\n",
              " 'бен']"
            ]
          },
          "metadata": {},
          "execution_count": 61
        }
      ]
    },
    {
      "cell_type": "code",
      "source": [
        "most_similar('свет', embeddings)"
      ],
      "metadata": {
        "colab": {
          "base_uri": "https://localhost:8080/"
        },
        "id": "EVy-TKFvZBQp",
        "outputId": "aa16542e-5a40-4981-ba85-ef0f6ecb07a6"
      },
      "id": "EVy-TKFvZBQp",
      "execution_count": 62,
      "outputs": [
        {
          "output_type": "execute_result",
          "data": {
            "text/plain": [
              "['свет',\n",
              " 'налог',\n",
              " 'дубовский',\n",
              " 'словенский',\n",
              " 'филиал',\n",
              " 'стекло',\n",
              " 'аббат',\n",
              " 'типичный',\n",
              " 'станица',\n",
              " 'расформировать']"
            ]
          },
          "metadata": {},
          "execution_count": 62
        }
      ]
    },
    {
      "cell_type": "code",
      "source": [
        "most_similar('пять', embeddings)"
      ],
      "metadata": {
        "colab": {
          "base_uri": "https://localhost:8080/"
        },
        "id": "qt-zJU9LZBFM",
        "outputId": "02634273-aa70-4f6a-be12-a26024bcb897"
      },
      "id": "qt-zJU9LZBFM",
      "execution_count": 63,
      "outputs": [
        {
          "output_type": "execute_result",
          "data": {
            "text/plain": [
              "['пять',\n",
              " 'культовый',\n",
              " 'расформировать',\n",
              " 'перо',\n",
              " 'готовность',\n",
              " 'рекорд',\n",
              " 'реконструкция',\n",
              " 'нос',\n",
              " 'умеренный',\n",
              " 'уметь']"
            ]
          },
          "metadata": {},
          "execution_count": 63
        }
      ]
    },
    {
      "cell_type": "code",
      "source": [
        "most_similar('дом', embeddings)"
      ],
      "metadata": {
        "colab": {
          "base_uri": "https://localhost:8080/"
        },
        "id": "lOrk87leZAzM",
        "outputId": "38331d30-f098-410c-f9b8-dd6b33746d56"
      },
      "id": "lOrk87leZAzM",
      "execution_count": 64,
      "outputs": [
        {
          "output_type": "execute_result",
          "data": {
            "text/plain": [
              "['дом',\n",
              " 'дивеевский',\n",
              " '2019',\n",
              " 'осетия',\n",
              " '1926',\n",
              " 'частный',\n",
              " 'ликвидировать',\n",
              " 'хозяйство',\n",
              " 'трижды',\n",
              " 'звонок']"
            ]
          },
          "metadata": {},
          "execution_count": 64
        }
      ]
    },
    {
      "cell_type": "code",
      "source": [
        "most_similar('север', embeddings)"
      ],
      "metadata": {
        "colab": {
          "base_uri": "https://localhost:8080/"
        },
        "id": "9FBDe0v1bCMI",
        "outputId": "cba7a587-251e-4674-aee6-dadf79f85035"
      },
      "id": "9FBDe0v1bCMI",
      "execution_count": 65,
      "outputs": [
        {
          "output_type": "execute_result",
          "data": {
            "text/plain": [
              "['север',\n",
              " 'тоннель',\n",
              " '2017',\n",
              " '1906',\n",
              " 'боб',\n",
              " 'населённый',\n",
              " 'одиночный',\n",
              " 'флаг',\n",
              " 'налог',\n",
              " 'пит']"
            ]
          },
          "metadata": {},
          "execution_count": 65
        }
      ]
    },
    {
      "cell_type": "markdown",
      "source": [
        "cbow явно справляется лучше при таких параметрах"
      ],
      "metadata": {
        "id": "9KjBODQXdCEM"
      },
      "id": "9KjBODQXdCEM"
    },
    {
      "cell_type": "markdown",
      "id": "c3b61b7c",
      "metadata": {
        "id": "c3b61b7c"
      },
      "source": [
        "# Задание 2 (3 балла)"
      ]
    },
    {
      "cell_type": "markdown",
      "id": "66eff080",
      "metadata": {
        "id": "66eff080"
      },
      "source": [
        "Обучите 1 word2vec и 1 fastext модель в gensim. В каждой из модели нужно задать все параметры, которые мы разбирали на семинаре. Заданные значения должны отличаться от дефолтных и от тех, что мы использовали на семинаре."
      ]
    },
    {
      "cell_type": "code",
      "execution_count": 66,
      "id": "986c2018",
      "metadata": {
        "id": "986c2018",
        "colab": {
          "base_uri": "https://localhost:8080/"
        },
        "outputId": "66461e76-cbd7-4788-f499-e6a75cbf5da6"
      },
      "outputs": [
        {
          "output_type": "stream",
          "name": "stdout",
          "text": [
            "Looking in indexes: https://pypi.org/simple, https://us-python.pkg.dev/colab-wheels/public/simple/\n",
            "Requirement already satisfied: gensim in /usr/local/lib/python3.10/dist-packages (4.3.1)\n",
            "Requirement already satisfied: numpy>=1.18.5 in /usr/local/lib/python3.10/dist-packages (from gensim) (1.22.4)\n",
            "Requirement already satisfied: scipy>=1.7.0 in /usr/local/lib/python3.10/dist-packages (from gensim) (1.10.1)\n",
            "Requirement already satisfied: smart-open>=1.8.1 in /usr/local/lib/python3.10/dist-packages (from gensim) (6.3.0)\n"
          ]
        }
      ],
      "source": [
        "!pip install gensim"
      ]
    },
    {
      "cell_type": "code",
      "execution_count": 67,
      "id": "e5035bdc",
      "metadata": {
        "id": "e5035bdc"
      },
      "outputs": [],
      "source": [
        "import gensim"
      ]
    },
    {
      "cell_type": "code",
      "source": [
        "texts = [preprocess(text) for text in wiki]"
      ],
      "metadata": {
        "id": "ttQru_A9fcLJ"
      },
      "id": "ttQru_A9fcLJ",
      "execution_count": 69,
      "outputs": []
    },
    {
      "cell_type": "code",
      "source": [
        "w2v = gensim.models.Word2Vec(texts,\n",
        "                             vector_size=350,\n",
        "                             min_count=25,\n",
        "                             max_vocab_size=14000,\n",
        "                             window=6,\n",
        "                             epochs=8,\n",
        "                             sg=0,   # то есть cbow\n",
        "                             hs=0,\n",
        "                             negative=10,\n",
        "                             sample=1e-4,\n",
        "                             ns_exponent=0.7,\n",
        "                             cbow_mean=1)  # так и по умолчанию"
      ],
      "metadata": {
        "id": "4nwPdef-dvkf"
      },
      "id": "4nwPdef-dvkf",
      "execution_count": 70,
      "outputs": []
    },
    {
      "cell_type": "code",
      "source": [
        "w2v.wv.most_similar('дом')"
      ],
      "metadata": {
        "colab": {
          "base_uri": "https://localhost:8080/"
        },
        "id": "7SrHVazOgYin",
        "outputId": "d50b2a72-d148-4220-d891-5d7e8fad9241"
      },
      "id": "7SrHVazOgYin",
      "execution_count": 71,
      "outputs": [
        {
          "output_type": "execute_result",
          "data": {
            "text/plain": [
              "[('особняк', 0.789076030254364),\n",
              " ('квартира', 0.7624276876449585),\n",
              " ('гостиница', 0.7311580777168274),\n",
              " ('баня', 0.7230255007743835),\n",
              " ('жилой', 0.6762901544570923),\n",
              " ('комната', 0.6713009476661682),\n",
              " ('сад', 0.6647835373878479),\n",
              " ('дача', 0.6359246969223022),\n",
              " ('этаж', 0.6206921339035034),\n",
              " ('помещение', 0.5956938862800598)]"
            ]
          },
          "metadata": {},
          "execution_count": 71
        }
      ]
    },
    {
      "cell_type": "code",
      "source": [
        "w2v.wv.most_similar('свет')"
      ],
      "metadata": {
        "colab": {
          "base_uri": "https://localhost:8080/"
        },
        "id": "1tfKZ9BHg_6m",
        "outputId": "4ff0a7ae-5fc1-463f-e528-6bc8e8f333c2"
      },
      "id": "1tfKZ9BHg_6m",
      "execution_count": 75,
      "outputs": [
        {
          "output_type": "execute_result",
          "data": {
            "text/plain": [
              "[('солнечный', 0.6414508819580078),\n",
              " ('лунный', 0.6412933468818665),\n",
              " ('луна', 0.6405735015869141),\n",
              " ('увидеть', 0.6109490394592285),\n",
              " ('солнце', 0.5867289304733276),\n",
              " ('тёмный', 0.5748834013938904),\n",
              " ('атмосфера', 0.5341873168945312),\n",
              " ('ангел', 0.5321698784828186),\n",
              " ('небо', 0.531994104385376),\n",
              " ('титан', 0.5265035629272461)]"
            ]
          },
          "metadata": {},
          "execution_count": 75
        }
      ]
    },
    {
      "cell_type": "code",
      "source": [
        "w2v.wv.most_similar('север')"
      ],
      "metadata": {
        "colab": {
          "base_uri": "https://localhost:8080/"
        },
        "id": "N_WJz14ejvZa",
        "outputId": "58f93eb1-fd14-4ba4-bd76-9879f4bd95d1"
      },
      "id": "N_WJz14ejvZa",
      "execution_count": 76,
      "outputs": [
        {
          "output_type": "execute_result",
          "data": {
            "text/plain": [
              "[('юг', 0.9361886382102966),\n",
              " ('запад', 0.8861985802650452),\n",
              " ('северо-запад', 0.8320236802101135),\n",
              " ('северо-восток', 0.8319498896598816),\n",
              " ('восток', 0.8177932500839233),\n",
              " ('юго-восток', 0.8039749264717102),\n",
              " ('северо-восточный', 0.7529443502426147),\n",
              " ('граничить', 0.7509049773216248),\n",
              " ('юго-запад', 0.7447509765625),\n",
              " ('полуостров', 0.7439894080162048)]"
            ]
          },
          "metadata": {},
          "execution_count": 76
        }
      ]
    },
    {
      "cell_type": "code",
      "source": [
        "w2v.wv.most_similar('пять')"
      ],
      "metadata": {
        "colab": {
          "base_uri": "https://localhost:8080/"
        },
        "id": "wq4qI3tAjxLR",
        "outputId": "97adead8-4491-492b-eea8-f061591bb27b"
      },
      "id": "wq4qI3tAjxLR",
      "execution_count": 77,
      "outputs": [
        {
          "output_type": "execute_result",
          "data": {
            "text/plain": [
              "[('четыре', 0.8580895066261292),\n",
              " ('шесть', 0.8487910628318787),\n",
              " ('три', 0.8432971239089966),\n",
              " ('семь', 0.8291167616844177),\n",
              " ('девять', 0.8120986223220825),\n",
              " ('восемь', 0.7640061378479004),\n",
              " ('двадцать', 0.7547066807746887),\n",
              " ('два', 0.751947283744812),\n",
              " ('десять', 0.7401976585388184),\n",
              " ('тридцать', 0.599853515625)]"
            ]
          },
          "metadata": {},
          "execution_count": 77
        }
      ]
    },
    {
      "cell_type": "code",
      "source": [
        "ft = gensim.models.FastText(texts, min_n=1, max_n=9,\n",
        "                            sg=0, hs=0,\n",
        "                            negative=10,\n",
        "                            vector_size=350,\n",
        "                            window=6,\n",
        "                            min_count=10,\n",
        "                            ns_exponent=0.7)"
      ],
      "metadata": {
        "id": "Hwf0MKvKeOP_"
      },
      "id": "Hwf0MKvKeOP_",
      "execution_count": 78,
      "outputs": []
    },
    {
      "cell_type": "code",
      "source": [
        "ft.wv.most_similar('дом')"
      ],
      "metadata": {
        "colab": {
          "base_uri": "https://localhost:8080/"
        },
        "id": "hpMmv9WAgc4W",
        "outputId": "8fc08d57-4a26-4a57-d3b7-97072ebfbd4c"
      },
      "id": "hpMmv9WAgc4W",
      "execution_count": 79,
      "outputs": [
        {
          "output_type": "execute_result",
          "data": {
            "text/plain": [
              "[('эдом', 0.8002668619155884),\n",
              " ('чудом', 0.7529065012931824),\n",
              " ('домбе', 0.7527614235877991),\n",
              " ('дом»', 0.7181474566459656),\n",
              " ('домен', 0.6979605555534363),\n",
              " ('радом', 0.6827585101127625),\n",
              " ('домохозяин', 0.6637206673622131),\n",
              " ('домик', 0.6625744104385376),\n",
              " ('дом-музей', 0.6472657322883606),\n",
              " ('селдом', 0.642882227897644)]"
            ]
          },
          "metadata": {},
          "execution_count": 79
        }
      ]
    },
    {
      "cell_type": "code",
      "source": [
        "ft.wv.most_similar('пять')"
      ],
      "metadata": {
        "colab": {
          "base_uri": "https://localhost:8080/"
        },
        "id": "Y_VvxlzIgoUh",
        "outputId": "aba2b391-b2ca-4594-d1c8-6fe293dbd836"
      },
      "id": "Y_VvxlzIgoUh",
      "execution_count": 80,
      "outputs": [
        {
          "output_type": "execute_result",
          "data": {
            "text/plain": [
              "[('опять', 0.9005196690559387),\n",
              " ('девять', 0.8660160303115845),\n",
              " ('зять', 0.8567721843719482),\n",
              " ('десять', 0.8394466042518616),\n",
              " ('повять', 0.837236225605011),\n",
              " ('нырять', 0.8367499113082886),\n",
              " ('пятнадцать', 0.8358696699142456),\n",
              " ('«пять', 0.8278015851974487),\n",
              " ('стоять', 0.8243265151977539),\n",
              " ('фуять', 0.8208210468292236)]"
            ]
          },
          "metadata": {},
          "execution_count": 80
        }
      ]
    },
    {
      "cell_type": "code",
      "source": [
        "ft.wv.most_similar('север')"
      ],
      "metadata": {
        "colab": {
          "base_uri": "https://localhost:8080/"
        },
        "id": "ictn9zdXgqz8",
        "outputId": "469e4136-b8c5-44fb-999d-f3fce285a430"
      },
      "id": "ictn9zdXgqz8",
      "execution_count": 81,
      "outputs": [
        {
          "output_type": "execute_result",
          "data": {
            "text/plain": [
              "[('северо-запад', 0.9081919193267822),\n",
              " ('северо-восток', 0.9027411341667175),\n",
              " ('североморск', 0.8719360828399658),\n",
              " ('северин', 0.8706892728805542),\n",
              " ('северянин', 0.8287167549133301),\n",
              " ('юго-восток', 0.8284784555435181),\n",
              " ('северо-западный', 0.8224183320999146),\n",
              " ('северо-восточный', 0.8192083239555359),\n",
              " ('североирландец', 0.8185510039329529),\n",
              " ('юго-запад', 0.8033374547958374)]"
            ]
          },
          "metadata": {},
          "execution_count": 81
        }
      ]
    },
    {
      "cell_type": "code",
      "source": [
        "ft.wv.most_similar('пяльца')"
      ],
      "metadata": {
        "colab": {
          "base_uri": "https://localhost:8080/"
        },
        "id": "fmsByP9Bgtl5",
        "outputId": "97df4c61-8d34-4d2f-da28-b786f5b3b112"
      },
      "id": "fmsByP9Bgtl5",
      "execution_count": 82,
      "outputs": [
        {
          "output_type": "execute_result",
          "data": {
            "text/plain": [
              "[('пыльца', 0.9251169562339783),\n",
              " ('пицца', 0.8428845405578613),\n",
              " ('плеяда', 0.825131893157959),\n",
              " ('пальма', 0.8173341155052185),\n",
              " ('пульхра', 0.8097302317619324),\n",
              " ('пьяница', 0.7992439866065979),\n",
              " ('памела', 0.7834677696228027),\n",
              " ('паула', 0.7756851315498352),\n",
              " ('ланца', 0.7746432423591614),\n",
              " ('пчела', 0.7726569771766663)]"
            ]
          },
          "metadata": {},
          "execution_count": 82
        }
      ]
    },
    {
      "cell_type": "code",
      "source": [
        "ft.wv.most_similar('свет')"
      ],
      "metadata": {
        "colab": {
          "base_uri": "https://localhost:8080/"
        },
        "id": "_t1aNZ77gyE1",
        "outputId": "d5e1635d-6106-4940-c6b5-a728bbb55610"
      },
      "id": "_t1aNZ77gyE1",
      "execution_count": 83,
      "outputs": [
        {
          "output_type": "execute_result",
          "data": {
            "text/plain": [
              "[('самоцвет', 0.8253276348114014),\n",
              " ('повет', 0.7864234447479248),\n",
              " ('светило', 0.781858503818512),\n",
              " ('цвет', 0.7722879648208618),\n",
              " ('расцвет', 0.7644054293632507),\n",
              " ('светофор', 0.7637861967086792),\n",
              " ('рассвет', 0.7574058175086975),\n",
              " ('ответ', 0.745500385761261),\n",
              " ('просвет', 0.7418829798698425),\n",
              " ('соцветие', 0.7377620935440063)]"
            ]
          },
          "metadata": {},
          "execution_count": 83
        }
      ]
    },
    {
      "cell_type": "markdown",
      "source": [
        "Хорошо работают!"
      ],
      "metadata": {
        "id": "U4ULuChgnjfM"
      },
      "id": "U4ULuChgnjfM"
    }
  ],
  "metadata": {
    "kernelspec": {
      "display_name": "Python 3 (ipykernel)",
      "language": "python",
      "name": "python3"
    },
    "language_info": {
      "codemirror_mode": {
        "name": "ipython",
        "version": 3
      },
      "file_extension": ".py",
      "mimetype": "text/x-python",
      "name": "python",
      "nbconvert_exporter": "python",
      "pygments_lexer": "ipython3",
      "version": "3.9.13"
    },
    "colab": {
      "provenance": []
    }
  },
  "nbformat": 4,
  "nbformat_minor": 5
}